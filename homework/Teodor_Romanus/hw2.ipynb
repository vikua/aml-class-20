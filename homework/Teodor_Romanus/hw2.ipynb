{
 "cells": [
  {
   "cell_type": "code",
   "execution_count": 1,
   "metadata": {
    "scrolled": true
   },
   "outputs": [],
   "source": [
    "# !pip install numpy matplotlib pandas sklearn"
   ]
  },
  {
   "cell_type": "code",
   "execution_count": 2,
   "metadata": {},
   "outputs": [],
   "source": [
    "import pandas as pd\n",
    "import numpy as np\n",
    "from matplotlib import pyplot as plt\n",
    "\n",
    "from sklearn.model_selection import train_test_split, GridSearchCV\n",
    "from sklearn.pipeline import Pipeline\n",
    "from sklearn.impute import SimpleImputer\n",
    "from sklearn.preprocessing import StandardScaler, OneHotEncoder\n",
    "from sklearn.ensemble import RandomForestRegressor\n",
    "from sklearn.compose import ColumnTransformer\n",
    "from sklearn.metrics import mean_squared_error\n",
    "\n",
    "pd.set_option('display.max_columns', None)"
   ]
  },
  {
   "cell_type": "markdown",
   "metadata": {},
   "source": [
    "## 1. Reads provided data"
   ]
  },
  {
   "cell_type": "code",
   "execution_count": 3,
   "metadata": {},
   "outputs": [
    {
     "data": {
      "text/plain": [
       "(1217, 31)"
      ]
     },
     "execution_count": 3,
     "metadata": {},
     "output_type": "execute_result"
    }
   ],
   "source": [
    "raw_data = pd.read_csv('https://s3.amazonaws.com/datarobot_public_datasets/DR_Demo_Fire_Ins_Loss_only.csv')\n",
    "raw_data.shape"
   ]
  },
  {
   "cell_type": "markdown",
   "metadata": {},
   "source": [
    "## 2. Does exploratory data analysis"
   ]
  },
  {
   "cell_type": "code",
   "execution_count": 4,
   "metadata": {},
   "outputs": [
    {
     "data": {
      "text/plain": [
       "(1217, 23)"
      ]
     },
     "execution_count": 4,
     "metadata": {},
     "output_type": "execute_result"
    }
   ],
   "source": [
    "numeric_data = raw_data._get_numeric_data()\n",
    "numeric_data.shape"
   ]
  },
  {
   "cell_type": "code",
   "execution_count": 5,
   "metadata": {},
   "outputs": [
    {
     "data": {
      "text/html": [
       "<div>\n",
       "<style scoped>\n",
       "    .dataframe tbody tr th:only-of-type {\n",
       "        vertical-align: middle;\n",
       "    }\n",
       "\n",
       "    .dataframe tbody tr th {\n",
       "        vertical-align: top;\n",
       "    }\n",
       "\n",
       "    .dataframe thead th {\n",
       "        text-align: right;\n",
       "    }\n",
       "</style>\n",
       "<table border=\"1\" class=\"dataframe\">\n",
       "  <thead>\n",
       "    <tr style=\"text-align: right;\">\n",
       "      <th></th>\n",
       "      <th>loss</th>\n",
       "      <th>Exposure</th>\n",
       "      <th>Property_size</th>\n",
       "      <th>Residents</th>\n",
       "      <th>Norm_fire_risk</th>\n",
       "      <th>Norm_monthly_rent</th>\n",
       "      <th>Loan_mortgage</th>\n",
       "      <th>No_claim_Years</th>\n",
       "      <th>Previous_claims</th>\n",
       "      <th>Norm_area_m</th>\n",
       "      <th>Premium_remain</th>\n",
       "      <th>Premium_renew</th>\n",
       "      <th>crime_property_type</th>\n",
       "      <th>crime_residents</th>\n",
       "      <th>crime_area</th>\n",
       "      <th>crime_arson</th>\n",
       "      <th>crime_burglary</th>\n",
       "      <th>crime_neighbour_watch</th>\n",
       "      <th>crime_community</th>\n",
       "      <th>crime_risk</th>\n",
       "      <th>Geographical_risk</th>\n",
       "      <th>Weather_risk</th>\n",
       "      <th>ISO</th>\n",
       "    </tr>\n",
       "  </thead>\n",
       "  <tbody>\n",
       "    <tr>\n",
       "      <th>0</th>\n",
       "      <td>0.07</td>\n",
       "      <td>3.0</td>\n",
       "      <td>3.0</td>\n",
       "      <td>4.0</td>\n",
       "      <td>4.314082</td>\n",
       "      <td>758.287544</td>\n",
       "      <td>2.673639</td>\n",
       "      <td>2.251423</td>\n",
       "      <td>0.0</td>\n",
       "      <td>10.0</td>\n",
       "      <td>NaN</td>\n",
       "      <td>0.000000</td>\n",
       "      <td>1.209807</td>\n",
       "      <td>1.064398</td>\n",
       "      <td>1.066522</td>\n",
       "      <td>0.939346</td>\n",
       "      <td>1.708534</td>\n",
       "      <td>0.808015</td>\n",
       "      <td>1.040819</td>\n",
       "      <td>1.171366</td>\n",
       "      <td>0.284447</td>\n",
       "      <td>0.313157</td>\n",
       "      <td>5</td>\n",
       "    </tr>\n",
       "    <tr>\n",
       "      <th>1</th>\n",
       "      <td>0.13</td>\n",
       "      <td>NaN</td>\n",
       "      <td>6.0</td>\n",
       "      <td>1.0</td>\n",
       "      <td>4.171214</td>\n",
       "      <td>1060.660172</td>\n",
       "      <td>2.709158</td>\n",
       "      <td>2.084180</td>\n",
       "      <td>NaN</td>\n",
       "      <td>NaN</td>\n",
       "      <td>NaN</td>\n",
       "      <td>86.666667</td>\n",
       "      <td>NaN</td>\n",
       "      <td>NaN</td>\n",
       "      <td>NaN</td>\n",
       "      <td>NaN</td>\n",
       "      <td>NaN</td>\n",
       "      <td>NaN</td>\n",
       "      <td>NaN</td>\n",
       "      <td>NaN</td>\n",
       "      <td>0.006305</td>\n",
       "      <td>0.889677</td>\n",
       "      <td>6</td>\n",
       "    </tr>\n",
       "    <tr>\n",
       "      <th>2</th>\n",
       "      <td>0.02</td>\n",
       "      <td>NaN</td>\n",
       "      <td>4.0</td>\n",
       "      <td>1.0</td>\n",
       "      <td>4.171214</td>\n",
       "      <td>1060.660172</td>\n",
       "      <td>2.709158</td>\n",
       "      <td>2.084180</td>\n",
       "      <td>NaN</td>\n",
       "      <td>8.0</td>\n",
       "      <td>NaN</td>\n",
       "      <td>86.666667</td>\n",
       "      <td>NaN</td>\n",
       "      <td>NaN</td>\n",
       "      <td>NaN</td>\n",
       "      <td>NaN</td>\n",
       "      <td>NaN</td>\n",
       "      <td>NaN</td>\n",
       "      <td>NaN</td>\n",
       "      <td>NaN</td>\n",
       "      <td>0.019372</td>\n",
       "      <td>0.276507</td>\n",
       "      <td>1</td>\n",
       "    </tr>\n",
       "    <tr>\n",
       "      <th>3</th>\n",
       "      <td>0.13</td>\n",
       "      <td>NaN</td>\n",
       "      <td>2.0</td>\n",
       "      <td>1.0</td>\n",
       "      <td>4.171214</td>\n",
       "      <td>1060.660172</td>\n",
       "      <td>2.709158</td>\n",
       "      <td>2.084180</td>\n",
       "      <td>NaN</td>\n",
       "      <td>12.0</td>\n",
       "      <td>NaN</td>\n",
       "      <td>86.666667</td>\n",
       "      <td>2.304699</td>\n",
       "      <td>1.912726</td>\n",
       "      <td>1.463283</td>\n",
       "      <td>1.632539</td>\n",
       "      <td>1.205554</td>\n",
       "      <td>1.999838</td>\n",
       "      <td>1.665336</td>\n",
       "      <td>1.779279</td>\n",
       "      <td>0.085413</td>\n",
       "      <td>0.124679</td>\n",
       "      <td>1</td>\n",
       "    </tr>\n",
       "    <tr>\n",
       "      <th>4</th>\n",
       "      <td>0.04</td>\n",
       "      <td>3.0</td>\n",
       "      <td>4.0</td>\n",
       "      <td>3.0</td>\n",
       "      <td>4.314082</td>\n",
       "      <td>716.709146</td>\n",
       "      <td>2.711775</td>\n",
       "      <td>2.408759</td>\n",
       "      <td>0.0</td>\n",
       "      <td>NaN</td>\n",
       "      <td>100.0</td>\n",
       "      <td>0.000000</td>\n",
       "      <td>0.669145</td>\n",
       "      <td>0.430252</td>\n",
       "      <td>0.345801</td>\n",
       "      <td>0.638615</td>\n",
       "      <td>0.567431</td>\n",
       "      <td>0.751454</td>\n",
       "      <td>0.585363</td>\n",
       "      <td>0.729587</td>\n",
       "      <td>5.570830</td>\n",
       "      <td>0.703054</td>\n",
       "      <td>6</td>\n",
       "    </tr>\n",
       "  </tbody>\n",
       "</table>\n",
       "</div>"
      ],
      "text/plain": [
       "   loss  Exposure  Property_size  Residents  Norm_fire_risk  \\\n",
       "0  0.07       3.0            3.0        4.0        4.314082   \n",
       "1  0.13       NaN            6.0        1.0        4.171214   \n",
       "2  0.02       NaN            4.0        1.0        4.171214   \n",
       "3  0.13       NaN            2.0        1.0        4.171214   \n",
       "4  0.04       3.0            4.0        3.0        4.314082   \n",
       "\n",
       "   Norm_monthly_rent  Loan_mortgage  No_claim_Years  Previous_claims  \\\n",
       "0         758.287544       2.673639        2.251423              0.0   \n",
       "1        1060.660172       2.709158        2.084180              NaN   \n",
       "2        1060.660172       2.709158        2.084180              NaN   \n",
       "3        1060.660172       2.709158        2.084180              NaN   \n",
       "4         716.709146       2.711775        2.408759              0.0   \n",
       "\n",
       "   Norm_area_m  Premium_remain  Premium_renew  crime_property_type  \\\n",
       "0         10.0             NaN       0.000000             1.209807   \n",
       "1          NaN             NaN      86.666667                  NaN   \n",
       "2          8.0             NaN      86.666667                  NaN   \n",
       "3         12.0             NaN      86.666667             2.304699   \n",
       "4          NaN           100.0       0.000000             0.669145   \n",
       "\n",
       "   crime_residents  crime_area  crime_arson  crime_burglary  \\\n",
       "0         1.064398    1.066522     0.939346        1.708534   \n",
       "1              NaN         NaN          NaN             NaN   \n",
       "2              NaN         NaN          NaN             NaN   \n",
       "3         1.912726    1.463283     1.632539        1.205554   \n",
       "4         0.430252    0.345801     0.638615        0.567431   \n",
       "\n",
       "   crime_neighbour_watch  crime_community  crime_risk  Geographical_risk  \\\n",
       "0               0.808015         1.040819    1.171366           0.284447   \n",
       "1                    NaN              NaN         NaN           0.006305   \n",
       "2                    NaN              NaN         NaN           0.019372   \n",
       "3               1.999838         1.665336    1.779279           0.085413   \n",
       "4               0.751454         0.585363    0.729587           5.570830   \n",
       "\n",
       "   Weather_risk  ISO  \n",
       "0      0.313157    5  \n",
       "1      0.889677    6  \n",
       "2      0.276507    1  \n",
       "3      0.124679    1  \n",
       "4      0.703054    6  "
      ]
     },
     "execution_count": 5,
     "metadata": {},
     "output_type": "execute_result"
    }
   ],
   "source": [
    "numeric_data.head()"
   ]
  },
  {
   "cell_type": "markdown",
   "metadata": {},
   "source": [
    "All the columns make sense in data analysis (there are no such fields like ID)."
   ]
  },
  {
   "cell_type": "code",
   "execution_count": 6,
   "metadata": {},
   "outputs": [
    {
     "data": {
      "text/html": [
       "<div>\n",
       "<style scoped>\n",
       "    .dataframe tbody tr th:only-of-type {\n",
       "        vertical-align: middle;\n",
       "    }\n",
       "\n",
       "    .dataframe tbody tr th {\n",
       "        vertical-align: top;\n",
       "    }\n",
       "\n",
       "    .dataframe thead th {\n",
       "        text-align: right;\n",
       "    }\n",
       "</style>\n",
       "<table border=\"1\" class=\"dataframe\">\n",
       "  <thead>\n",
       "    <tr style=\"text-align: right;\">\n",
       "      <th></th>\n",
       "      <th>Rating_Class</th>\n",
       "      <th>Sub_Rating_Class</th>\n",
       "      <th>Renewal_class</th>\n",
       "      <th>Sub_Renewal_Class</th>\n",
       "      <th>Commercial</th>\n",
       "      <th>Renewal_Type</th>\n",
       "      <th>ISO_cat</th>\n",
       "      <th>ISO_desc</th>\n",
       "    </tr>\n",
       "  </thead>\n",
       "  <tbody>\n",
       "    <tr>\n",
       "      <th>0</th>\n",
       "      <td>H1</td>\n",
       "      <td>NaN</td>\n",
       "      <td>NaN</td>\n",
       "      <td>NaN</td>\n",
       "      <td>NaN</td>\n",
       "      <td>B</td>\n",
       "      <td>ISO 5 - Modified or Semi Fire Resistive (MFR o...</td>\n",
       "      <td>which and floors. greater roof _—– modified an...</td>\n",
       "    </tr>\n",
       "    <tr>\n",
       "      <th>1</th>\n",
       "      <td>M1</td>\n",
       "      <td>NaN</td>\n",
       "      <td>NaN</td>\n",
       "      <td>NaN</td>\n",
       "      <td>NaN</td>\n",
       "      <td>B</td>\n",
       "      <td>ISO 6 - Fire Resistive (FR)</td>\n",
       "      <td>bearing are walls deck/cover precast and/or co...</td>\n",
       "    </tr>\n",
       "    <tr>\n",
       "      <th>2</th>\n",
       "      <td>M1</td>\n",
       "      <td>NaN</td>\n",
       "      <td>NaN</td>\n",
       "      <td>NaN</td>\n",
       "      <td>NaN</td>\n",
       "      <td>B</td>\n",
       "      <td>ISO 1 Frame (combustible walls or roof)</td>\n",
       "      <td>*BUR 1B and covers the *Single-ply wood/hardip...</td>\n",
       "    </tr>\n",
       "    <tr>\n",
       "      <th>3</th>\n",
       "      <td>M1</td>\n",
       "      <td>NaN</td>\n",
       "      <td>NaN</td>\n",
       "      <td>NaN</td>\n",
       "      <td>NaN</td>\n",
       "      <td>B</td>\n",
       "      <td>ISO 1 Frame (combustible walls or roof)</td>\n",
       "      <td>frame anchorage are wood. *Less Habitational, ...</td>\n",
       "    </tr>\n",
       "    <tr>\n",
       "      <th>4</th>\n",
       "      <td>H1</td>\n",
       "      <td>NaN</td>\n",
       "      <td>NaN</td>\n",
       "      <td>NaN</td>\n",
       "      <td>NaN</td>\n",
       "      <td>B</td>\n",
       "      <td>ISO 6 - Fire Resistive (FR)</td>\n",
       "      <td>is roof deck structural on roof - poured occup...</td>\n",
       "    </tr>\n",
       "  </tbody>\n",
       "</table>\n",
       "</div>"
      ],
      "text/plain": [
       "  Rating_Class Sub_Rating_Class Renewal_class Sub_Renewal_Class Commercial  \\\n",
       "0           H1              NaN           NaN               NaN        NaN   \n",
       "1           M1              NaN           NaN               NaN        NaN   \n",
       "2           M1              NaN           NaN               NaN        NaN   \n",
       "3           M1              NaN           NaN               NaN        NaN   \n",
       "4           H1              NaN           NaN               NaN        NaN   \n",
       "\n",
       "  Renewal_Type                                            ISO_cat  \\\n",
       "0            B  ISO 5 - Modified or Semi Fire Resistive (MFR o...   \n",
       "1            B                        ISO 6 - Fire Resistive (FR)   \n",
       "2            B            ISO 1 Frame (combustible walls or roof)   \n",
       "3            B            ISO 1 Frame (combustible walls or roof)   \n",
       "4            B                        ISO 6 - Fire Resistive (FR)   \n",
       "\n",
       "                                            ISO_desc  \n",
       "0  which and floors. greater roof _—– modified an...  \n",
       "1  bearing are walls deck/cover precast and/or co...  \n",
       "2  *BUR 1B and covers the *Single-ply wood/hardip...  \n",
       "3  frame anchorage are wood. *Less Habitational, ...  \n",
       "4  is roof deck structural on roof - poured occup...  "
      ]
     },
     "execution_count": 6,
     "metadata": {},
     "output_type": "execute_result"
    }
   ],
   "source": [
    "categorical_data = raw_data.select_dtypes(include=[\"object\"])\n",
    "categorical_data.head()"
   ]
  },
  {
   "cell_type": "code",
   "execution_count": 7,
   "metadata": {},
   "outputs": [
    {
     "data": {
      "text/html": [
       "<div>\n",
       "<style scoped>\n",
       "    .dataframe tbody tr th:only-of-type {\n",
       "        vertical-align: middle;\n",
       "    }\n",
       "\n",
       "    .dataframe tbody tr th {\n",
       "        vertical-align: top;\n",
       "    }\n",
       "\n",
       "    .dataframe thead th {\n",
       "        text-align: right;\n",
       "    }\n",
       "</style>\n",
       "<table border=\"1\" class=\"dataframe\">\n",
       "  <thead>\n",
       "    <tr style=\"text-align: right;\">\n",
       "      <th></th>\n",
       "      <th>Rating_Class</th>\n",
       "      <th>Sub_Rating_Class</th>\n",
       "      <th>Renewal_class</th>\n",
       "      <th>Sub_Renewal_Class</th>\n",
       "      <th>Commercial</th>\n",
       "      <th>Renewal_Type</th>\n",
       "      <th>ISO_cat</th>\n",
       "      <th>ISO_desc</th>\n",
       "    </tr>\n",
       "  </thead>\n",
       "  <tbody>\n",
       "    <tr>\n",
       "      <th>0</th>\n",
       "      <td>H1</td>\n",
       "      <td>NaN</td>\n",
       "      <td>NaN</td>\n",
       "      <td>NaN</td>\n",
       "      <td>NaN</td>\n",
       "      <td>B</td>\n",
       "      <td>ISO 5 - Modified or Semi Fire Resistive (MFR o...</td>\n",
       "      <td>which and floors. greater roof _—– modified an...</td>\n",
       "    </tr>\n",
       "    <tr>\n",
       "      <th>1</th>\n",
       "      <td>M1</td>\n",
       "      <td>NaN</td>\n",
       "      <td>NaN</td>\n",
       "      <td>NaN</td>\n",
       "      <td>NaN</td>\n",
       "      <td>B</td>\n",
       "      <td>ISO 6 - Fire Resistive (FR)</td>\n",
       "      <td>bearing are walls deck/cover precast and/or co...</td>\n",
       "    </tr>\n",
       "    <tr>\n",
       "      <th>2</th>\n",
       "      <td>M1</td>\n",
       "      <td>NaN</td>\n",
       "      <td>NaN</td>\n",
       "      <td>NaN</td>\n",
       "      <td>NaN</td>\n",
       "      <td>B</td>\n",
       "      <td>ISO 1 Frame (combustible walls or roof)</td>\n",
       "      <td>*BUR 1B and covers the *Single-ply wood/hardip...</td>\n",
       "    </tr>\n",
       "    <tr>\n",
       "      <th>3</th>\n",
       "      <td>M1</td>\n",
       "      <td>NaN</td>\n",
       "      <td>NaN</td>\n",
       "      <td>NaN</td>\n",
       "      <td>NaN</td>\n",
       "      <td>B</td>\n",
       "      <td>ISO 1 Frame (combustible walls or roof)</td>\n",
       "      <td>frame anchorage are wood. *Less Habitational, ...</td>\n",
       "    </tr>\n",
       "    <tr>\n",
       "      <th>4</th>\n",
       "      <td>H1</td>\n",
       "      <td>NaN</td>\n",
       "      <td>NaN</td>\n",
       "      <td>NaN</td>\n",
       "      <td>NaN</td>\n",
       "      <td>B</td>\n",
       "      <td>ISO 6 - Fire Resistive (FR)</td>\n",
       "      <td>is roof deck structural on roof - poured occup...</td>\n",
       "    </tr>\n",
       "  </tbody>\n",
       "</table>\n",
       "</div>"
      ],
      "text/plain": [
       "  Rating_Class Sub_Rating_Class Renewal_class Sub_Renewal_Class Commercial  \\\n",
       "0           H1              NaN           NaN               NaN        NaN   \n",
       "1           M1              NaN           NaN               NaN        NaN   \n",
       "2           M1              NaN           NaN               NaN        NaN   \n",
       "3           M1              NaN           NaN               NaN        NaN   \n",
       "4           H1              NaN           NaN               NaN        NaN   \n",
       "\n",
       "  Renewal_Type                                            ISO_cat  \\\n",
       "0            B  ISO 5 - Modified or Semi Fire Resistive (MFR o...   \n",
       "1            B                        ISO 6 - Fire Resistive (FR)   \n",
       "2            B            ISO 1 Frame (combustible walls or roof)   \n",
       "3            B            ISO 1 Frame (combustible walls or roof)   \n",
       "4            B                        ISO 6 - Fire Resistive (FR)   \n",
       "\n",
       "                                            ISO_desc  \n",
       "0  which and floors. greater roof _—– modified an...  \n",
       "1  bearing are walls deck/cover precast and/or co...  \n",
       "2  *BUR 1B and covers the *Single-ply wood/hardip...  \n",
       "3  frame anchorage are wood. *Less Habitational, ...  \n",
       "4  is roof deck structural on roof - poured occup...  "
      ]
     },
     "execution_count": 7,
     "metadata": {},
     "output_type": "execute_result"
    }
   ],
   "source": [
    "categorical_data.head()"
   ]
  },
  {
   "cell_type": "markdown",
   "metadata": {},
   "source": [
    "We can see that ISO_desc is not a categorical value."
   ]
  },
  {
   "cell_type": "code",
   "execution_count": 8,
   "metadata": {},
   "outputs": [
    {
     "data": {
      "text/plain": [
       "(1217,)"
      ]
     },
     "execution_count": 8,
     "metadata": {},
     "output_type": "execute_result"
    }
   ],
   "source": [
    "text_data = categorical_data['ISO_desc']\n",
    "categorical_data = categorical_data.drop('ISO_desc', axis=1)\n",
    "text_data.shape"
   ]
  },
  {
   "cell_type": "code",
   "execution_count": 9,
   "metadata": {},
   "outputs": [
    {
     "data": {
      "text/plain": [
       "0    which and floors. greater roof _—– modified an...\n",
       "1    bearing are walls deck/cover precast and/or co...\n",
       "2    *BUR 1B and covers the *Single-ply wood/hardip...\n",
       "3    frame anchorage are wood. *Less Habitational, ...\n",
       "4    is roof deck structural on roof - poured occup...\n",
       "Name: ISO_desc, dtype: object"
      ]
     },
     "execution_count": 9,
     "metadata": {},
     "output_type": "execute_result"
    }
   ],
   "source": [
    "text_data.head()"
   ]
  },
  {
   "cell_type": "markdown",
   "metadata": {},
   "source": [
    "## 4. Does CV partitioning (keep 10-20% for holdout)"
   ]
  },
  {
   "cell_type": "code",
   "execution_count": 10,
   "metadata": {},
   "outputs": [],
   "source": [
    "loss = numeric_data['loss']\n",
    "\n",
    "features = raw_data.drop(['loss', 'ISO_desc'], axis=1)\n",
    "numeric_data = numeric_data.drop('loss', axis=1)"
   ]
  },
  {
   "cell_type": "code",
   "execution_count": 11,
   "metadata": {},
   "outputs": [
    {
     "name": "stdout",
     "output_type": "stream",
     "text": [
      "(1095, 29)\n",
      "(122, 29)\n",
      "(1095,)\n",
      "(122,)\n"
     ]
    }
   ],
   "source": [
    "X_train, X_test, loss_train, loss_test = train_test_split(features, loss, test_size=0.1, random_state=42)\n",
    "print(X_train.shape)\n",
    "print(X_test.shape)\n",
    "print(loss_train.shape)\n",
    "print(loss_test.shape)"
   ]
  },
  {
   "cell_type": "markdown",
   "metadata": {},
   "source": [
    "## 5. Builds a pipeline which can train model"
   ]
  },
  {
   "cell_type": "code",
   "execution_count": 12,
   "metadata": {},
   "outputs": [],
   "source": [
    "categorical_transformer = Pipeline(steps=[\n",
    "    ('imputer', SimpleImputer(strategy='constant', fill_value='missing')),\n",
    "    ('onehot', OneHotEncoder(handle_unknown='ignore'))])"
   ]
  },
  {
   "cell_type": "code",
   "execution_count": 13,
   "metadata": {},
   "outputs": [],
   "source": [
    "numeric_transformer = Pipeline(steps=[\n",
    "    ('imputer', SimpleImputer(strategy='mean')),\n",
    "    ('scaler', StandardScaler())])"
   ]
  },
  {
   "cell_type": "code",
   "execution_count": 14,
   "metadata": {},
   "outputs": [],
   "source": [
    "preprocessor = ColumnTransformer(\n",
    "    transformers=[\n",
    "        ('num', numeric_transformer, numeric_data.columns),\n",
    "        ('cat', categorical_transformer, categorical_data.columns)\n",
    "    ])"
   ]
  },
  {
   "cell_type": "code",
   "execution_count": 15,
   "metadata": {},
   "outputs": [],
   "source": [
    "rf = Pipeline(steps=[('preprocessor', preprocessor),\n",
    "                      ('classifier', RandomForestRegressor())])"
   ]
  },
  {
   "cell_type": "code",
   "execution_count": 16,
   "metadata": {},
   "outputs": [
    {
     "data": {
      "text/plain": [
       "Pipeline(steps=[('preprocessor',\n",
       "                 ColumnTransformer(transformers=[('num',\n",
       "                                                  Pipeline(steps=[('imputer',\n",
       "                                                                   SimpleImputer()),\n",
       "                                                                  ('scaler',\n",
       "                                                                   StandardScaler())]),\n",
       "                                                  Index(['Exposure', 'Property_size', 'Residents', 'Norm_fire_risk',\n",
       "       'Norm_monthly_rent', 'Loan_mortgage', 'No_claim_Years',\n",
       "       'Previous_claims', 'Norm_area_m', 'Premium_remain', 'Premium_renew',\n",
       "       'crime_property_type', 'c...\n",
       "       'crime_risk', 'Geographical_risk', 'Weather_risk', 'ISO'],\n",
       "      dtype='object')),\n",
       "                                                 ('cat',\n",
       "                                                  Pipeline(steps=[('imputer',\n",
       "                                                                   SimpleImputer(fill_value='missing',\n",
       "                                                                                 strategy='constant')),\n",
       "                                                                  ('onehot',\n",
       "                                                                   OneHotEncoder(handle_unknown='ignore'))]),\n",
       "                                                  Index(['Rating_Class', 'Sub_Rating_Class', 'Renewal_class',\n",
       "       'Sub_Renewal_Class', 'Commercial', 'Renewal_Type', 'ISO_cat'],\n",
       "      dtype='object'))])),\n",
       "                ('classifier', RandomForestRegressor())])"
      ]
     },
     "execution_count": 16,
     "metadata": {},
     "output_type": "execute_result"
    }
   ],
   "source": [
    "rf.fit(X_train, loss_train)"
   ]
  },
  {
   "cell_type": "markdown",
   "metadata": {},
   "source": [
    "## 5. Optimizes hyperparameters of models"
   ]
  },
  {
   "cell_type": "code",
   "execution_count": 17,
   "metadata": {
    "scrolled": true
   },
   "outputs": [
    {
     "name": "stdout",
     "output_type": "stream",
     "text": [
      "Fitting 5 folds for each of 48 candidates, totalling 240 fits\n"
     ]
    },
    {
     "name": "stderr",
     "output_type": "stream",
     "text": [
      "[Parallel(n_jobs=-1)]: Using backend LokyBackend with 16 concurrent workers.\n",
      "[Parallel(n_jobs=-1)]: Done   9 tasks      | elapsed:    5.2s\n",
      "[Parallel(n_jobs=-1)]: Done  18 tasks      | elapsed:    5.6s\n",
      "[Parallel(n_jobs=-1)]: Done  29 tasks      | elapsed:    7.6s\n",
      "[Parallel(n_jobs=-1)]: Done  40 tasks      | elapsed:   11.0s\n",
      "[Parallel(n_jobs=-1)]: Done  53 tasks      | elapsed:   13.3s\n",
      "[Parallel(n_jobs=-1)]: Done  66 tasks      | elapsed:   16.3s\n",
      "[Parallel(n_jobs=-1)]: Done  81 tasks      | elapsed:   17.2s\n",
      "[Parallel(n_jobs=-1)]: Done  96 tasks      | elapsed:   19.1s\n",
      "[Parallel(n_jobs=-1)]: Done 113 tasks      | elapsed:   20.6s\n",
      "[Parallel(n_jobs=-1)]: Done 130 tasks      | elapsed:   21.7s\n",
      "[Parallel(n_jobs=-1)]: Done 149 tasks      | elapsed:   22.8s\n",
      "[Parallel(n_jobs=-1)]: Done 168 tasks      | elapsed:   25.0s\n",
      "[Parallel(n_jobs=-1)]: Done 189 tasks      | elapsed:   26.5s\n",
      "[Parallel(n_jobs=-1)]: Done 234 out of 240 | elapsed:   32.6s remaining:    0.7s\n",
      "[Parallel(n_jobs=-1)]: Done 240 out of 240 | elapsed:   33.8s finished\n"
     ]
    },
    {
     "name": "stdout",
     "output_type": "stream",
     "text": [
      "{'cls__max_depth': 3, 'cls__min_samples_split': 3, 'cls__n_estimators': 300}\n"
     ]
    }
   ],
   "source": [
    "tuned_parameters = {\n",
    "    'cls__n_estimators': [50, 100, 300, 500], \n",
    "    'cls__max_depth': [None, 1, 3, 5], \n",
    "    'cls__min_samples_split': [1, 2, 3]}\n",
    "\n",
    "lr2 = Pipeline(steps=[('preprocessor', preprocessor),\n",
    "                      ('cls', RandomForestRegressor())])\n",
    "\n",
    "clf = GridSearchCV(lr2, tuned_parameters, n_jobs=-1, verbose=10)\n",
    "clf.fit(X_train, loss_train)\n",
    "print(clf.best_params_)"
   ]
  },
  {
   "cell_type": "markdown",
   "metadata": {},
   "source": [
    "## 6. Reports scores of models."
   ]
  },
  {
   "cell_type": "code",
   "execution_count": 19,
   "metadata": {},
   "outputs": [
    {
     "name": "stdout",
     "output_type": "stream",
     "text": [
      "Initial score:  0.0018996459016393445\n",
      "Tuned score:  0.0018566111220825593\n"
     ]
    }
   ],
   "source": [
    "print(\"Initial score: \", mean_squared_error(rf.predict(X_test), loss_test))\n",
    "print(\"Tuned score: \", mean_squared_error(clf.predict(X_test), loss_test))"
   ]
  }
 ],
 "metadata": {
  "kernelspec": {
   "display_name": "Python 3",
   "language": "python",
   "name": "python3"
  },
  "language_info": {
   "codemirror_mode": {
    "name": "ipython",
    "version": 3
   },
   "file_extension": ".py",
   "mimetype": "text/x-python",
   "name": "python",
   "nbconvert_exporter": "python",
   "pygments_lexer": "ipython3",
   "version": "3.8.3"
  }
 },
 "nbformat": 4,
 "nbformat_minor": 4
}
