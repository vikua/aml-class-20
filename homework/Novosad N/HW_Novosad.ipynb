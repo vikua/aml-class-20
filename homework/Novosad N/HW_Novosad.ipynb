{
 "cells": [
  {
   "cell_type": "code",
   "execution_count": 276,
   "metadata": {},
   "outputs": [],
   "source": [
    "import pandas as pd\n",
    "import numpy as np\n",
    "import matplotlib.pyplot as plt"
   ]
  },
  {
   "cell_type": "code",
   "execution_count": 277,
   "metadata": {},
   "outputs": [],
   "source": [
    "data = pd.read_csv(\"https://s3.amazonaws.com/datarobot_public_datasets/DR_Demo_Fire_Ins_Loss_only.csv\")"
   ]
  },
  {
   "cell_type": "code",
   "execution_count": 278,
   "metadata": {},
   "outputs": [],
   "source": [
    "num_cols = [\"crime_burglary\",\"crime_risk\", \"Norm_fire_risk\", \"crime_arson\", \"ISO\", \"Weather_risk\", \"Geographical_risk\", \"Premium_remain\",\n",
    "            \"crime_property_type\", \"crime_neighbour_watch\", \"Previous_claims\", \"Exposure\", \"crime_area\", \"Norm_monthly_rent\", \"No_claim_Years\",\n",
    "            \"crime_residents\", \"Norm_area_m\", \"Property_size\", \"Residents\", \"crime_community\", \"Loan_mortgage\", \"Premium_renew\"]\n",
    "text_cols = [\"ISO_desc\"]\n",
    "cat_cols = [\"Renewal_Type\", \"Commercial\", \"Renewal_class\", \"ISO_cat\", \"Rating_Class\", \"Sub_Renewal_Class\", \"Sub_Rating_Class\"] \n",
    "target = \"loss\""
   ]
  },
  {
   "cell_type": "markdown",
   "metadata": {},
   "source": [
    "## EDA"
   ]
  },
  {
   "cell_type": "code",
   "execution_count": 279,
   "metadata": {},
   "outputs": [
    {
     "data": {
      "text/html": [
       "<div>\n",
       "<style scoped>\n",
       "    .dataframe tbody tr th:only-of-type {\n",
       "        vertical-align: middle;\n",
       "    }\n",
       "\n",
       "    .dataframe tbody tr th {\n",
       "        vertical-align: top;\n",
       "    }\n",
       "\n",
       "    .dataframe thead th {\n",
       "        text-align: right;\n",
       "    }\n",
       "</style>\n",
       "<table border=\"1\" class=\"dataframe\">\n",
       "  <thead>\n",
       "    <tr style=\"text-align: right;\">\n",
       "      <th></th>\n",
       "      <th>loss</th>\n",
       "      <th>Exposure</th>\n",
       "      <th>Rating_Class</th>\n",
       "      <th>Sub_Rating_Class</th>\n",
       "      <th>Renewal_class</th>\n",
       "      <th>Sub_Renewal_Class</th>\n",
       "      <th>Property_size</th>\n",
       "      <th>Residents</th>\n",
       "      <th>Commercial</th>\n",
       "      <th>Norm_fire_risk</th>\n",
       "      <th>...</th>\n",
       "      <th>crime_arson</th>\n",
       "      <th>crime_burglary</th>\n",
       "      <th>crime_neighbour_watch</th>\n",
       "      <th>crime_community</th>\n",
       "      <th>crime_risk</th>\n",
       "      <th>Geographical_risk</th>\n",
       "      <th>Weather_risk</th>\n",
       "      <th>ISO</th>\n",
       "      <th>ISO_cat</th>\n",
       "      <th>ISO_desc</th>\n",
       "    </tr>\n",
       "  </thead>\n",
       "  <tbody>\n",
       "    <tr>\n",
       "      <th>0</th>\n",
       "      <td>0.07</td>\n",
       "      <td>3.0</td>\n",
       "      <td>H1</td>\n",
       "      <td>NaN</td>\n",
       "      <td>NaN</td>\n",
       "      <td>NaN</td>\n",
       "      <td>3.0</td>\n",
       "      <td>4.0</td>\n",
       "      <td>NaN</td>\n",
       "      <td>4.314082</td>\n",
       "      <td>...</td>\n",
       "      <td>0.939346</td>\n",
       "      <td>1.708534</td>\n",
       "      <td>0.808015</td>\n",
       "      <td>1.040819</td>\n",
       "      <td>1.171366</td>\n",
       "      <td>0.284447</td>\n",
       "      <td>0.313157</td>\n",
       "      <td>5</td>\n",
       "      <td>ISO 5 - Modified or Semi Fire Resistive (MFR o...</td>\n",
       "      <td>which and floors. greater roof _—– modified an...</td>\n",
       "    </tr>\n",
       "    <tr>\n",
       "      <th>1</th>\n",
       "      <td>0.13</td>\n",
       "      <td>NaN</td>\n",
       "      <td>M1</td>\n",
       "      <td>NaN</td>\n",
       "      <td>NaN</td>\n",
       "      <td>NaN</td>\n",
       "      <td>6.0</td>\n",
       "      <td>1.0</td>\n",
       "      <td>NaN</td>\n",
       "      <td>4.171214</td>\n",
       "      <td>...</td>\n",
       "      <td>NaN</td>\n",
       "      <td>NaN</td>\n",
       "      <td>NaN</td>\n",
       "      <td>NaN</td>\n",
       "      <td>NaN</td>\n",
       "      <td>0.006305</td>\n",
       "      <td>0.889677</td>\n",
       "      <td>6</td>\n",
       "      <td>ISO 6 - Fire Resistive (FR)</td>\n",
       "      <td>bearing are walls deck/cover precast and/or co...</td>\n",
       "    </tr>\n",
       "    <tr>\n",
       "      <th>2</th>\n",
       "      <td>0.02</td>\n",
       "      <td>NaN</td>\n",
       "      <td>M1</td>\n",
       "      <td>NaN</td>\n",
       "      <td>NaN</td>\n",
       "      <td>NaN</td>\n",
       "      <td>4.0</td>\n",
       "      <td>1.0</td>\n",
       "      <td>NaN</td>\n",
       "      <td>4.171214</td>\n",
       "      <td>...</td>\n",
       "      <td>NaN</td>\n",
       "      <td>NaN</td>\n",
       "      <td>NaN</td>\n",
       "      <td>NaN</td>\n",
       "      <td>NaN</td>\n",
       "      <td>0.019372</td>\n",
       "      <td>0.276507</td>\n",
       "      <td>1</td>\n",
       "      <td>ISO 1 Frame (combustible walls or roof)</td>\n",
       "      <td>*BUR 1B and covers the *Single-ply wood/hardip...</td>\n",
       "    </tr>\n",
       "    <tr>\n",
       "      <th>3</th>\n",
       "      <td>0.13</td>\n",
       "      <td>NaN</td>\n",
       "      <td>M1</td>\n",
       "      <td>NaN</td>\n",
       "      <td>NaN</td>\n",
       "      <td>NaN</td>\n",
       "      <td>2.0</td>\n",
       "      <td>1.0</td>\n",
       "      <td>NaN</td>\n",
       "      <td>4.171214</td>\n",
       "      <td>...</td>\n",
       "      <td>1.632539</td>\n",
       "      <td>1.205554</td>\n",
       "      <td>1.999838</td>\n",
       "      <td>1.665336</td>\n",
       "      <td>1.779279</td>\n",
       "      <td>0.085413</td>\n",
       "      <td>0.124679</td>\n",
       "      <td>1</td>\n",
       "      <td>ISO 1 Frame (combustible walls or roof)</td>\n",
       "      <td>frame anchorage are wood. *Less Habitational, ...</td>\n",
       "    </tr>\n",
       "    <tr>\n",
       "      <th>4</th>\n",
       "      <td>0.04</td>\n",
       "      <td>3.0</td>\n",
       "      <td>H1</td>\n",
       "      <td>NaN</td>\n",
       "      <td>NaN</td>\n",
       "      <td>NaN</td>\n",
       "      <td>4.0</td>\n",
       "      <td>3.0</td>\n",
       "      <td>NaN</td>\n",
       "      <td>4.314082</td>\n",
       "      <td>...</td>\n",
       "      <td>0.638615</td>\n",
       "      <td>0.567431</td>\n",
       "      <td>0.751454</td>\n",
       "      <td>0.585363</td>\n",
       "      <td>0.729587</td>\n",
       "      <td>5.570830</td>\n",
       "      <td>0.703054</td>\n",
       "      <td>6</td>\n",
       "      <td>ISO 6 - Fire Resistive (FR)</td>\n",
       "      <td>is roof deck structural on roof - poured occup...</td>\n",
       "    </tr>\n",
       "  </tbody>\n",
       "</table>\n",
       "<p>5 rows × 31 columns</p>\n",
       "</div>"
      ],
      "text/plain": [
       "   loss  Exposure Rating_Class Sub_Rating_Class Renewal_class  \\\n",
       "0  0.07       3.0           H1              NaN           NaN   \n",
       "1  0.13       NaN           M1              NaN           NaN   \n",
       "2  0.02       NaN           M1              NaN           NaN   \n",
       "3  0.13       NaN           M1              NaN           NaN   \n",
       "4  0.04       3.0           H1              NaN           NaN   \n",
       "\n",
       "  Sub_Renewal_Class  Property_size  Residents Commercial  Norm_fire_risk  ...  \\\n",
       "0               NaN            3.0        4.0        NaN        4.314082  ...   \n",
       "1               NaN            6.0        1.0        NaN        4.171214  ...   \n",
       "2               NaN            4.0        1.0        NaN        4.171214  ...   \n",
       "3               NaN            2.0        1.0        NaN        4.171214  ...   \n",
       "4               NaN            4.0        3.0        NaN        4.314082  ...   \n",
       "\n",
       "   crime_arson  crime_burglary  crime_neighbour_watch  crime_community  \\\n",
       "0     0.939346        1.708534               0.808015         1.040819   \n",
       "1          NaN             NaN                    NaN              NaN   \n",
       "2          NaN             NaN                    NaN              NaN   \n",
       "3     1.632539        1.205554               1.999838         1.665336   \n",
       "4     0.638615        0.567431               0.751454         0.585363   \n",
       "\n",
       "   crime_risk  Geographical_risk  Weather_risk ISO  \\\n",
       "0    1.171366           0.284447      0.313157   5   \n",
       "1         NaN           0.006305      0.889677   6   \n",
       "2         NaN           0.019372      0.276507   1   \n",
       "3    1.779279           0.085413      0.124679   1   \n",
       "4    0.729587           5.570830      0.703054   6   \n",
       "\n",
       "                                             ISO_cat  \\\n",
       "0  ISO 5 - Modified or Semi Fire Resistive (MFR o...   \n",
       "1                        ISO 6 - Fire Resistive (FR)   \n",
       "2            ISO 1 Frame (combustible walls or roof)   \n",
       "3            ISO 1 Frame (combustible walls or roof)   \n",
       "4                        ISO 6 - Fire Resistive (FR)   \n",
       "\n",
       "                                            ISO_desc  \n",
       "0  which and floors. greater roof _—– modified an...  \n",
       "1  bearing are walls deck/cover precast and/or co...  \n",
       "2  *BUR 1B and covers the *Single-ply wood/hardip...  \n",
       "3  frame anchorage are wood. *Less Habitational, ...  \n",
       "4  is roof deck structural on roof - poured occup...  \n",
       "\n",
       "[5 rows x 31 columns]"
      ]
     },
     "execution_count": 279,
     "metadata": {},
     "output_type": "execute_result"
    }
   ],
   "source": [
    "data.head()"
   ]
  },
  {
   "cell_type": "code",
   "execution_count": 280,
   "metadata": {},
   "outputs": [
    {
     "name": "stdout",
     "output_type": "stream",
     "text": [
      "<class 'pandas.core.frame.DataFrame'>\n",
      "RangeIndex: 1217 entries, 0 to 1216\n",
      "Data columns (total 31 columns):\n",
      " #   Column                 Non-Null Count  Dtype  \n",
      "---  ------                 --------------  -----  \n",
      " 0   loss                   1217 non-null   float64\n",
      " 1   Exposure               210 non-null    float64\n",
      " 2   Rating_Class           1130 non-null   object \n",
      " 3   Sub_Rating_Class       5 non-null      object \n",
      " 4   Renewal_class          124 non-null    object \n",
      " 5   Sub_Renewal_Class      103 non-null    object \n",
      " 6   Property_size          1216 non-null   float64\n",
      " 7   Residents              1212 non-null   float64\n",
      " 8   Commercial             998 non-null    object \n",
      " 9   Norm_fire_risk         1217 non-null   float64\n",
      " 10  Norm_monthly_rent      1217 non-null   float64\n",
      " 11  Loan_mortgage          196 non-null    float64\n",
      " 12  No_claim_Years         1217 non-null   float64\n",
      " 13  Previous_claims        353 non-null    float64\n",
      " 14  Norm_area_m            1047 non-null   float64\n",
      " 15  Premium_remain         184 non-null    float64\n",
      " 16  Premium_renew          1217 non-null   float64\n",
      " 17  Renewal_Type           1217 non-null   object \n",
      " 18  crime_property_type    923 non-null    float64\n",
      " 19  crime_residents        910 non-null    float64\n",
      " 20  crime_area             923 non-null    float64\n",
      " 21  crime_arson            916 non-null    float64\n",
      " 22  crime_burglary         922 non-null    float64\n",
      " 23  crime_neighbour_watch  923 non-null    float64\n",
      " 24  crime_community        903 non-null    float64\n",
      " 25  crime_risk             923 non-null    float64\n",
      " 26  Geographical_risk      1211 non-null   float64\n",
      " 27  Weather_risk           1213 non-null   float64\n",
      " 28  ISO                    1217 non-null   int64  \n",
      " 29  ISO_cat                1217 non-null   object \n",
      " 30  ISO_desc               1217 non-null   object \n",
      "dtypes: float64(22), int64(1), object(8)\n",
      "memory usage: 294.9+ KB\n"
     ]
    }
   ],
   "source": [
    "data.info()"
   ]
  },
  {
   "cell_type": "markdown",
   "metadata": {},
   "source": [
    "#### There are columns with too much NaN. Trees does not care about it, but it can impact on LR."
   ]
  },
  {
   "cell_type": "code",
   "execution_count": 281,
   "metadata": {},
   "outputs": [
    {
     "data": {
      "text/plain": [
       "Renewal_Type          2\n",
       "Commercial            2\n",
       "Renewal_class         6\n",
       "ISO_cat               6\n",
       "Rating_Class         38\n",
       "Sub_Renewal_Class     3\n",
       "Sub_Rating_Class      3\n",
       "dtype: int64"
      ]
     },
     "execution_count": 281,
     "metadata": {},
     "output_type": "execute_result"
    }
   ],
   "source": [
    "data[cat_cols].nunique(axis = 0)"
   ]
  },
  {
   "cell_type": "code",
   "execution_count": 282,
   "metadata": {},
   "outputs": [
    {
     "data": {
      "text/plain": [
       "<matplotlib.axes._subplots.AxesSubplot at 0x7f3ef49e6b50>"
      ]
     },
     "execution_count": 282,
     "metadata": {},
     "output_type": "execute_result"
    },
    {
     "data": {
      "image/png": "[encoded data removed]",
      "text/plain": [
       "<Figure size 432x288 with 1 Axes>"
      ]
     },
     "metadata": {
      "needs_background": "light"
     },
     "output_type": "display_data"
    }
   ],
   "source": [
    "data[target].hist(bins = 15)"
   ]
  },
  {
   "cell_type": "code",
   "execution_count": 283,
   "metadata": {},
   "outputs": [
    {
     "data": {
      "image/png": "[encoded data removed]",
      "text/plain": [
       "<Figure size 1440x1440 with 25 Axes>"
      ]
     },
     "metadata": {
      "needs_background": "light"
     },
     "output_type": "display_data"
    }
   ],
   "source": [
    "fig, ax = plt.subplots(5,5,figsize = (20,20))\n",
    "for i in range(len(num_cols)):\n",
    "    ax[i%5][i//5].scatter(data[num_cols[i]], data[target])\n",
    "    ax[i%5][i//5].set_xlabel(num_cols[i])"
   ]
  },
  {
   "cell_type": "markdown",
   "metadata": {},
   "source": [
    "#### Some 'numeric' columns does not seem numeric. Let's explore some of them. "
   ]
  },
  {
   "cell_type": "code",
   "execution_count": 284,
   "metadata": {},
   "outputs": [
    {
     "data": {
      "text/plain": [
       "<matplotlib.axes._subplots.AxesSubplot at 0x7f3ed73124f0>"
      ]
     },
     "execution_count": 284,
     "metadata": {},
     "output_type": "execute_result"
    },
    {
     "data": {
      "image/png": "[encoded data removed]",
      "text/plain": [
       "<Figure size 432x288 with 1 Axes>"
      ]
     },
     "metadata": {
      "needs_background": "light"
     },
     "output_type": "display_data"
    }
   ],
   "source": [
    "data.Residents.hist()"
   ]
  },
  {
   "cell_type": "code",
   "execution_count": 285,
   "metadata": {},
   "outputs": [
    {
     "data": {
      "text/plain": [
       "(8, 5)"
      ]
     },
     "execution_count": 285,
     "metadata": {},
     "output_type": "execute_result"
    }
   ],
   "source": [
    "data.Property_size.nunique(), data.Exposure.nunique()"
   ]
  },
  {
   "cell_type": "markdown",
   "metadata": {},
   "source": [
    "#### `Residents`, `Exposure` and `Property_size` seems more categorical, so I will move them to categorical features. "
   ]
  },
  {
   "cell_type": "code",
   "execution_count": 286,
   "metadata": {},
   "outputs": [],
   "source": [
    "num_cols.remove(\"Property_size\")\n",
    "num_cols.remove(\"Residents\")\n",
    "num_cols.remove(\"Exposure\")\n",
    "cat_cols.append(\"Exposure\")\n",
    "cat_cols.append(\"Property_size\")\n",
    "cat_cols.append(\"Residents\")"
   ]
  },
  {
   "cell_type": "code",
   "execution_count": 287,
   "metadata": {},
   "outputs": [
    {
     "data": {
      "text/html": [
       "<div>\n",
       "<style scoped>\n",
       "    .dataframe tbody tr th:only-of-type {\n",
       "        vertical-align: middle;\n",
       "    }\n",
       "\n",
       "    .dataframe tbody tr th {\n",
       "        vertical-align: top;\n",
       "    }\n",
       "\n",
       "    .dataframe thead th {\n",
       "        text-align: right;\n",
       "    }\n",
       "</style>\n",
       "<table border=\"1\" class=\"dataframe\">\n",
       "  <thead>\n",
       "    <tr style=\"text-align: right;\">\n",
       "      <th></th>\n",
       "      <th>ISO</th>\n",
       "      <th>ISO_cat</th>\n",
       "    </tr>\n",
       "  </thead>\n",
       "  <tbody>\n",
       "    <tr>\n",
       "      <th>0</th>\n",
       "      <td>5</td>\n",
       "      <td>ISO 5 - Modified or Semi Fire Resistive (MFR o...</td>\n",
       "    </tr>\n",
       "    <tr>\n",
       "      <th>1</th>\n",
       "      <td>6</td>\n",
       "      <td>ISO 6 - Fire Resistive (FR)</td>\n",
       "    </tr>\n",
       "    <tr>\n",
       "      <th>2</th>\n",
       "      <td>1</td>\n",
       "      <td>ISO 1 Frame (combustible walls or roof)</td>\n",
       "    </tr>\n",
       "    <tr>\n",
       "      <th>7</th>\n",
       "      <td>3</td>\n",
       "      <td>ISO 3 - Non Combustible (NC)</td>\n",
       "    </tr>\n",
       "    <tr>\n",
       "      <th>10</th>\n",
       "      <td>2</td>\n",
       "      <td>ISO 2 Joisted Masonry (JM) (noncombustible)</td>\n",
       "    </tr>\n",
       "    <tr>\n",
       "      <th>12</th>\n",
       "      <td>4</td>\n",
       "      <td>ISO 4 - Masonry Non Combustible (MNC)</td>\n",
       "    </tr>\n",
       "  </tbody>\n",
       "</table>\n",
       "</div>"
      ],
      "text/plain": [
       "    ISO                                            ISO_cat\n",
       "0     5  ISO 5 - Modified or Semi Fire Resistive (MFR o...\n",
       "1     6                        ISO 6 - Fire Resistive (FR)\n",
       "2     1            ISO 1 Frame (combustible walls or roof)\n",
       "7     3                       ISO 3 - Non Combustible (NC)\n",
       "10    2        ISO 2 Joisted Masonry (JM) (noncombustible)\n",
       "12    4              ISO 4 - Masonry Non Combustible (MNC)"
      ]
     },
     "execution_count": 287,
     "metadata": {},
     "output_type": "execute_result"
    }
   ],
   "source": [
    "data[[\"ISO\", \"ISO_cat\"]].drop_duplicates()"
   ]
  },
  {
   "cell_type": "markdown",
   "metadata": {},
   "source": [
    "`ISO` is the numeric version of `ISO_cat`, so I remove it"
   ]
  },
  {
   "cell_type": "code",
   "execution_count": 288,
   "metadata": {},
   "outputs": [],
   "source": [
    "num_cols.remove(\"ISO\")"
   ]
  },
  {
   "cell_type": "code",
   "execution_count": 289,
   "metadata": {},
   "outputs": [
    {
     "data": {
      "text/plain": [
       "crime_burglary          -0.062627\n",
       "crime_risk               0.004976\n",
       "Norm_fire_risk           0.012053\n",
       "crime_arson              0.023943\n",
       "Weather_risk             0.043894\n",
       "Geographical_risk       -0.020838\n",
       "Premium_remain           0.143605\n",
       "crime_property_type      0.026172\n",
       "crime_neighbour_watch   -0.000232\n",
       "Previous_claims          0.207785\n",
       "crime_area               0.043476\n",
       "Norm_monthly_rent       -0.047910\n",
       "No_claim_Years          -0.021623\n",
       "crime_residents         -0.045156\n",
       "Norm_area_m              0.019041\n",
       "crime_community         -0.012874\n",
       "Loan_mortgage            0.231986\n",
       "Premium_renew            0.039122\n",
       "dtype: float64"
      ]
     },
     "execution_count": 289,
     "metadata": {},
     "output_type": "execute_result"
    }
   ],
   "source": [
    "data[num_cols].corrwith(data[target])"
   ]
  },
  {
   "cell_type": "code",
   "execution_count": 290,
   "metadata": {},
   "outputs": [
    {
     "data": {
      "text/plain": [
       "<matplotlib.axes._subplots.AxesSubplot at 0x7f3ecd00b220>"
      ]
     },
     "execution_count": 290,
     "metadata": {},
     "output_type": "execute_result"
    },
    {
     "data": {
      "image/png": "[encoded data removed]",
      "text/plain": [
       "<Figure size 432x288 with 2 Axes>"
      ]
     },
     "metadata": {
      "needs_background": "light"
     },
     "output_type": "display_data"
    }
   ],
   "source": [
    "import seaborn as sns\n",
    "sns.heatmap(data[num_cols].corr())"
   ]
  },
  {
   "cell_type": "markdown",
   "metadata": {},
   "source": [
    "#### Some of the columns are highly correlated, so I will use l1 regularization to get rid of unessesary features."
   ]
  },
  {
   "cell_type": "code",
   "execution_count": 96,
   "metadata": {
    "collapsed": true,
    "jupyter": {
     "outputs_hidden": true
    }
   },
   "outputs": [
    {
     "name": "stdout",
     "output_type": "stream",
     "text": [
      "A    998\n",
      "B    219\n",
      "Name: Renewal_Type, dtype: int64\n",
      "A    854\n",
      "B    144\n",
      "Name: Commercial, dtype: int64\n",
      "B    92\n",
      "C    12\n",
      "D    11\n",
      "A     4\n",
      "F     3\n",
      "E     2\n",
      "Name: Renewal_class, dtype: int64\n",
      "ISO 1 Frame (combustible walls or roof)                 287\n",
      "ISO 2 Joisted Masonry (JM) (noncombustible)             285\n",
      "ISO 3 - Non Combustible (NC)                            283\n",
      "ISO 4 - Masonry Non Combustible (MNC)                   121\n",
      "ISO 6 - Fire Resistive (FR)                             121\n",
      "ISO 5 - Modified or Semi Fire Resistive (MFR or SFR)    120\n",
      "Name: ISO_cat, dtype: int64\n",
      "H1    224\n",
      "M1    187\n",
      "O2     94\n",
      "D3     90\n",
      "I1     67\n",
      "E3     53\n",
      "R5     35\n",
      "D1     34\n",
      "S1     34\n",
      "C1     33\n",
      "L1     28\n",
      "G1     24\n",
      "P1     22\n",
      "A1     21\n",
      "J4     21\n",
      "E1     18\n",
      "R3     16\n",
      "J5     13\n",
      "H2     13\n",
      "J2     13\n",
      "E4     11\n",
      "R6     11\n",
      "J1     10\n",
      "N1      7\n",
      "G2      7\n",
      "B1      7\n",
      "E2      7\n",
      "F1      5\n",
      "O1      4\n",
      "H3      3\n",
      "D4      3\n",
      "R7      3\n",
      "K1      3\n",
      "J3      3\n",
      "J6      3\n",
      "R8      1\n",
      "E5      1\n",
      "R1      1\n",
      "Name: Rating_Class, dtype: int64\n",
      "B    68\n",
      "A    25\n",
      "C    10\n",
      "Name: Sub_Renewal_Class, dtype: int64\n",
      "D    2\n",
      "O    2\n",
      "H    1\n",
      "Name: Sub_Rating_Class, dtype: int64\n",
      "3.0    110\n",
      "2.0     63\n",
      "4.0     31\n",
      "1.0      5\n",
      "5.0      1\n",
      "Name: Exposure, dtype: int64\n",
      "3.0    337\n",
      "2.0    241\n",
      "4.0    235\n",
      "5.0    173\n",
      "7.0    108\n",
      "6.0     87\n",
      "1.0     30\n",
      "8.0      5\n",
      "Name: Property_size, dtype: int64\n",
      "2.0    338\n",
      "1.0    336\n",
      "4.0    257\n",
      "3.0    220\n",
      "6.0     42\n",
      "5.0     19\n",
      "Name: Residents, dtype: int64\n"
     ]
    }
   ],
   "source": [
    "for col in cat_cols:\n",
    "    print(data[col].value_counts())"
   ]
  },
  {
   "cell_type": "markdown",
   "metadata": {},
   "source": [
    "## Feature enginering"
   ]
  },
  {
   "cell_type": "code",
   "execution_count": 296,
   "metadata": {},
   "outputs": [
    {
     "data": {
      "text/plain": [
       "Index(['Exposure', 'Sub_Rating_Class', 'Renewal_class', 'Sub_Renewal_Class',\n",
       "       'Loan_mortgage', 'Previous_claims', 'Premium_remain'],\n",
       "      dtype='object')"
      ]
     },
     "execution_count": 296,
     "metadata": {},
     "output_type": "execute_result"
    }
   ],
   "source": [
    "nan_cols = data.loc[:, data.count(axis = 0) < data.shape[0]*0.5].columns\n",
    "nan_cols"
   ]
  },
  {
   "cell_type": "code",
   "execution_count": 298,
   "metadata": {},
   "outputs": [
    {
     "data": {
      "text/plain": [
       "(15, 18)"
      ]
     },
     "execution_count": 298,
     "metadata": {},
     "output_type": "execute_result"
    }
   ],
   "source": [
    "num_cols_lr = [i for i in num_cols if i not in nan_cols]\n",
    "len(num_cols_lr), len(num_cols) "
   ]
  },
  {
   "cell_type": "code",
   "execution_count": 300,
   "metadata": {},
   "outputs": [],
   "source": [
    "data[cat_cols] = data[cat_cols].astype(str)"
   ]
  },
  {
   "cell_type": "markdown",
   "metadata": {},
   "source": [
    "## Pipeline"
   ]
  },
  {
   "cell_type": "code",
   "execution_count": 366,
   "metadata": {},
   "outputs": [
    {
     "name": "stderr",
     "output_type": "stream",
     "text": [
      "[nltk_data] Downloading package stopwords to /home/nata/nltk_data...\n",
      "[nltk_data]   Package stopwords is already up-to-date!\n"
     ]
    }
   ],
   "source": [
    "from sklearn.pipeline import Pipeline\n",
    "from sklearn.preprocessing import StandardScaler, OneHotEncoder, MinMaxScaler\n",
    "from sklearn.linear_model import LinearRegression\n",
    "from sklearn.ensemble import RandomForestRegressor\n",
    "from sklearn.compose import ColumnTransformer\n",
    "from sklearn.impute import SimpleImputer\n",
    "from sklearn.feature_extraction.text import CountVectorizer, TfidfVectorizer\n",
    "from sklearn.feature_selection import SelectKBest, chi2, mutual_info_classif\n",
    "from sklearn.linear_model import ElasticNet, LinearRegression\n",
    "from sklearn.compose import TransformedTargetRegressor\n",
    "\n",
    "import nltk\n",
    "nltk.download('stopwords')\n",
    "from nltk.corpus import stopwords\n",
    "stop_words = stopwords.words(['english'])\n",
    "\n",
    "##\n",
    "#  Pipeline for linear regression\n",
    "##\n",
    "numeric_pipeline = Pipeline(steps=[\n",
    "    ('imputer', SimpleImputer(strategy='mean')),\n",
    "    ('scaler', StandardScaler())])\n",
    "categoric_pipeline = Pipeline(steps=[\n",
    "    ('imputer', SimpleImputer(strategy='constant', fill_value = \"nan\")),\n",
    "    ('ohe', OneHotEncoder(handle_unknown='ignore'))])\n",
    "text_pipeline = Pipeline(steps=[    \n",
    "    ('vectorizer', TfidfVectorizer(stop_words = stop_words, ngram_range = (1,3), max_features = 100)),\n",
    "  ])\n",
    "\n",
    "preprocessor = ColumnTransformer(\n",
    "    transformers=[\n",
    "        ('num', numeric_pipeline, num_cols_lr),\n",
    "        ('cat', categoric_pipeline, cat_cols),\n",
    "        ('text', text_pipeline, text_cols[0])\n",
    "    ])\n",
    "\n",
    "est_lr = Pipeline(steps=[('preprocessor', preprocessor),\n",
    "                         ('lr', ElasticNet())])"
   ]
  },
  {
   "cell_type": "code",
   "execution_count": 367,
   "metadata": {},
   "outputs": [],
   "source": [
    "numeric_pipeline = Pipeline(steps=[\n",
    "    ('imputer', SimpleImputer(strategy='constant', fill_value = -999))])\n",
    "categoric_pipeline = Pipeline(steps=[\n",
    "    ('imputer', SimpleImputer(strategy='constant', fill_value = \"nan\")),\n",
    "    ('ohe', OneHotEncoder(handle_unknown='ignore'))])\n",
    "text_pipeline = Pipeline(steps=[    \n",
    "    ('vectorizer', TfidfVectorizer(stop_words = stop_words, ngram_range = (1,3), max_features = 100)),\n",
    "])\n",
    "\n",
    "preprocessor = ColumnTransformer(\n",
    "    transformers=[\n",
    "        ('num', numeric_pipeline, num_cols),\n",
    "        ('cat', categoric_pipeline, cat_cols),\n",
    "        ('text', text_pipeline, text_cols[0])\n",
    "    ])\n",
    "\n",
    "est_rf = Pipeline(steps=[('preprocessor', preprocessor),\n",
    "                      ('rf', RandomForestRegressor(criterion = 'mae'))])"
   ]
  },
  {
   "cell_type": "markdown",
   "metadata": {},
   "source": [
    "## Training and estimating"
   ]
  },
  {
   "cell_type": "code",
   "execution_count": 368,
   "metadata": {},
   "outputs": [],
   "source": [
    "from sklearn.model_selection import train_test_split, GridSearchCV, RandomizedSearchCV\n",
    "from sklearn.preprocessing import QuantileTransformer, quantile_transform\n",
    "\n",
    "X_train, X_test, y_train, y_test = train_test_split(data[num_cols+cat_cols+text_cols], data[target], test_size=0.15, random_state=10, shuffle=True)"
   ]
  },
  {
   "cell_type": "code",
   "execution_count": 370,
   "metadata": {
    "collapsed": true,
    "jupyter": {
     "outputs_hidden": true
    }
   },
   "outputs": [
    {
     "name": "stdout",
     "output_type": "stream",
     "text": [
      "Fitting 3 folds for each of 121 candidates, totalling 363 fits\n",
      "[CV] lr__alpha=0.0, lr__l1_ratio=0.0 .................................\n"
     ]
    },
    {
     "name": "stderr",
     "output_type": "stream",
     "text": [
      "[Parallel(n_jobs=1)]: Using backend SequentialBackend with 1 concurrent workers.\n",
      "/home/nata/PycharmProjects/venv/lib/python3.8/site-packages/sklearn/pipeline.py:335: UserWarning: With alpha=0, this algorithm does not converge well. You are advised to use the LinearRegression estimator\n",
      "  self._final_estimator.fit(Xt, y, **fit_params_last_step)\n",
      "/home/nata/PycharmProjects/venv/lib/python3.8/site-packages/sklearn/linear_model/_coordinate_descent.py:512: ConvergenceWarning: Objective did not converge. You might want to increase the number of iterations. Duality gap: 0.5385760685464491, tolerance: 0.00017159976777939047\n",
      "  model = cd_fast.sparse_enet_coordinate_descent(\n",
      "[Parallel(n_jobs=1)]: Done   1 out of   1 | elapsed:    0.7s remaining:    0.0s\n",
      "/home/nata/PycharmProjects/venv/lib/python3.8/site-packages/sklearn/pipeline.py:335: UserWarning: With alpha=0, this algorithm does not converge well. You are advised to use the LinearRegression estimator\n",
      "  self._final_estimator.fit(Xt, y, **fit_params_last_step)\n"
     ]
    },
    {
     "name": "stdout",
     "output_type": "stream",
     "text": [
      "[CV] .... lr__alpha=0.0, lr__l1_ratio=0.0, score=-0.045, total=   0.7s\n",
      "[CV] lr__alpha=0.0, lr__l1_ratio=0.0 .................................\n"
     ]
    },
    {
     "name": "stderr",
     "output_type": "stream",
     "text": [
      "/home/nata/PycharmProjects/venv/lib/python3.8/site-packages/sklearn/linear_model/_coordinate_descent.py:512: ConvergenceWarning: Objective did not converge. You might want to increase the number of iterations. Duality gap: 0.5948047376809941, tolerance: 0.00017895117561683604\n",
      "  model = cd_fast.sparse_enet_coordinate_descent(\n",
      "[Parallel(n_jobs=1)]: Done   2 out of   2 | elapsed:    1.4s remaining:    0.0s\n",
      "/home/nata/PycharmProjects/venv/lib/python3.8/site-packages/sklearn/pipeline.py:335: UserWarning: With alpha=0, this algorithm does not converge well. You are advised to use the LinearRegression estimator\n",
      "  self._final_estimator.fit(Xt, y, **fit_params_last_step)\n"
     ]
    },
    {
     "name": "stdout",
     "output_type": "stream",
     "text": [
      "[CV] .... lr__alpha=0.0, lr__l1_ratio=0.0, score=-0.042, total=   0.7s\n",
      "[CV] lr__alpha=0.0, lr__l1_ratio=0.0 .................................\n"
     ]
    },
    {
     "name": "stderr",
     "output_type": "stream",
     "text": [
      "/home/nata/PycharmProjects/venv/lib/python3.8/site-packages/sklearn/linear_model/_coordinate_descent.py:512: ConvergenceWarning: Objective did not converge. You might want to increase the number of iterations. Duality gap: 0.5831797810451307, tolerance: 0.0001687153043478261\n",
      "  model = cd_fast.sparse_enet_coordinate_descent(\n",
      "[Parallel(n_jobs=1)]: Done   3 out of   3 | elapsed:    2.1s remaining:    0.0s\n",
      "/home/nata/PycharmProjects/venv/lib/python3.8/site-packages/sklearn/pipeline.py:335: UserWarning: With alpha=0, this algorithm does not converge well. You are advised to use the LinearRegression estimator\n",
      "  self._final_estimator.fit(Xt, y, **fit_params_last_step)\n"
     ]
    },
    {
     "name": "stdout",
     "output_type": "stream",
     "text": [
      "[CV] .... lr__alpha=0.0, lr__l1_ratio=0.0, score=-0.042, total=   0.8s\n",
      "[CV] lr__alpha=0.0, lr__l1_ratio=0.1 .................................\n"
     ]
    },
    {
     "name": "stderr",
     "output_type": "stream",
     "text": [
      "/home/nata/PycharmProjects/venv/lib/python3.8/site-packages/sklearn/linear_model/_coordinate_descent.py:512: ConvergenceWarning: Objective did not converge. You might want to increase the number of iterations. Duality gap: 0.5385760685464491, tolerance: 0.00017159976777939047\n",
      "  model = cd_fast.sparse_enet_coordinate_descent(\n",
      "[Parallel(n_jobs=1)]: Done   4 out of   4 | elapsed:    3.0s remaining:    0.0s\n"
     ]
    },
    {
     "name": "stdout",
     "output_type": "stream",
     "text": [
      "[CV] .... lr__alpha=0.0, lr__l1_ratio=0.1, score=-0.045, total=   0.8s\n",
      "[CV] lr__alpha=0.0, lr__l1_ratio=0.1 .................................\n"
     ]
    },
    {
     "name": "stderr",
     "output_type": "stream",
     "text": [
      "/home/nata/PycharmProjects/venv/lib/python3.8/site-packages/sklearn/pipeline.py:335: UserWarning: With alpha=0, this algorithm does not converge well. You are advised to use the LinearRegression estimator\n",
      "  self._final_estimator.fit(Xt, y, **fit_params_last_step)\n",
      "/home/nata/PycharmProjects/venv/lib/python3.8/site-packages/sklearn/linear_model/_coordinate_descent.py:512: ConvergenceWarning: Objective did not converge. You might want to increase the number of iterations. Duality gap: 0.5948047376809941, tolerance: 0.00017895117561683604\n",
      "  model = cd_fast.sparse_enet_coordinate_descent(\n",
      "[Parallel(n_jobs=1)]: Done   5 out of   5 | elapsed:    3.8s remaining:    0.0s\n",
      "/home/nata/PycharmProjects/venv/lib/python3.8/site-packages/sklearn/pipeline.py:335: UserWarning: With alpha=0, this algorithm does not converge well. You are advised to use the LinearRegression estimator\n",
      "  self._final_estimator.fit(Xt, y, **fit_params_last_step)\n"
     ]
    },
    {
     "name": "stdout",
     "output_type": "stream",
     "text": [
      "[CV] .... lr__alpha=0.0, lr__l1_ratio=0.1, score=-0.042, total=   0.8s\n",
      "[CV] lr__alpha=0.0, lr__l1_ratio=0.1 .................................\n"
     ]
    },
    {
     "name": "stderr",
     "output_type": "stream",
     "text": [
      "/home/nata/PycharmProjects/venv/lib/python3.8/site-packages/sklearn/linear_model/_coordinate_descent.py:512: ConvergenceWarning: Objective did not converge. You might want to increase the number of iterations. Duality gap: 0.5831797810451307, tolerance: 0.0001687153043478261\n",
      "  model = cd_fast.sparse_enet_coordinate_descent(\n",
      "[Parallel(n_jobs=1)]: Done   6 out of   6 | elapsed:    4.7s remaining:    0.0s\n",
      "/home/nata/PycharmProjects/venv/lib/python3.8/site-packages/sklearn/pipeline.py:335: UserWarning: With alpha=0, this algorithm does not converge well. You are advised to use the LinearRegression estimator\n",
      "  self._final_estimator.fit(Xt, y, **fit_params_last_step)\n"
     ]
    },
    {
     "name": "stdout",
     "output_type": "stream",
     "text": [
      "[CV] .... lr__alpha=0.0, lr__l1_ratio=0.1, score=-0.042, total=   0.8s\n",
      "[CV] lr__alpha=0.0, lr__l1_ratio=0.2 .................................\n"
     ]
    },
    {
     "name": "stderr",
     "output_type": "stream",
     "text": [
      "/home/nata/PycharmProjects/venv/lib/python3.8/site-packages/sklearn/linear_model/_coordinate_descent.py:512: ConvergenceWarning: Objective did not converge. You might want to increase the number of iterations. Duality gap: 0.5385760685464491, tolerance: 0.00017159976777939047\n",
      "  model = cd_fast.sparse_enet_coordinate_descent(\n",
      "[Parallel(n_jobs=1)]: Done   7 out of   7 | elapsed:    5.5s remaining:    0.0s\n",
      "/home/nata/PycharmProjects/venv/lib/python3.8/site-packages/sklearn/pipeline.py:335: UserWarning: With alpha=0, this algorithm does not converge well. You are advised to use the LinearRegression estimator\n",
      "  self._final_estimator.fit(Xt, y, **fit_params_last_step)\n"
     ]
    },
    {
     "name": "stdout",
     "output_type": "stream",
     "text": [
      "[CV] .... lr__alpha=0.0, lr__l1_ratio=0.2, score=-0.045, total=   0.8s\n",
      "[CV] lr__alpha=0.0, lr__l1_ratio=0.2 .................................\n"
     ]
    },
    {
     "name": "stderr",
     "output_type": "stream",
     "text": [
      "/home/nata/PycharmProjects/venv/lib/python3.8/site-packages/sklearn/linear_model/_coordinate_descent.py:512: ConvergenceWarning: Objective did not converge. You might want to increase the number of iterations. Duality gap: 0.5948047376809941, tolerance: 0.00017895117561683604\n",
      "  model = cd_fast.sparse_enet_coordinate_descent(\n",
      "[Parallel(n_jobs=1)]: Done   8 out of   8 | elapsed:    6.3s remaining:    0.0s\n",
      "/home/nata/PycharmProjects/venv/lib/python3.8/site-packages/sklearn/pipeline.py:335: UserWarning: With alpha=0, this algorithm does not converge well. You are advised to use the LinearRegression estimator\n",
      "  self._final_estimator.fit(Xt, y, **fit_params_last_step)\n"
     ]
    },
    {
     "name": "stdout",
     "output_type": "stream",
     "text": [
      "[CV] .... lr__alpha=0.0, lr__l1_ratio=0.2, score=-0.042, total=   0.8s\n",
      "[CV] lr__alpha=0.0, lr__l1_ratio=0.2 .................................\n"
     ]
    },
    {
     "name": "stderr",
     "output_type": "stream",
     "text": [
      "/home/nata/PycharmProjects/venv/lib/python3.8/site-packages/sklearn/linear_model/_coordinate_descent.py:512: ConvergenceWarning: Objective did not converge. You might want to increase the number of iterations. Duality gap: 0.5831797810451307, tolerance: 0.0001687153043478261\n",
      "  model = cd_fast.sparse_enet_coordinate_descent(\n",
      "[Parallel(n_jobs=1)]: Done   9 out of   9 | elapsed:    7.1s remaining:    0.0s\n",
      "/home/nata/PycharmProjects/venv/lib/python3.8/site-packages/sklearn/pipeline.py:335: UserWarning: With alpha=0, this algorithm does not converge well. You are advised to use the LinearRegression estimator\n",
      "  self._final_estimator.fit(Xt, y, **fit_params_last_step)\n"
     ]
    },
    {
     "name": "stdout",
     "output_type": "stream",
     "text": [
      "[CV] .... lr__alpha=0.0, lr__l1_ratio=0.2, score=-0.042, total=   0.8s\n",
      "[CV] lr__alpha=0.0, lr__l1_ratio=0.3 .................................\n"
     ]
    },
    {
     "name": "stderr",
     "output_type": "stream",
     "text": [
      "/home/nata/PycharmProjects/venv/lib/python3.8/site-packages/sklearn/linear_model/_coordinate_descent.py:512: ConvergenceWarning: Objective did not converge. You might want to increase the number of iterations. Duality gap: 0.5385760685464491, tolerance: 0.00017159976777939047\n",
      "  model = cd_fast.sparse_enet_coordinate_descent(\n",
      "/home/nata/PycharmProjects/venv/lib/python3.8/site-packages/sklearn/pipeline.py:335: UserWarning: With alpha=0, this algorithm does not converge well. You are advised to use the LinearRegression estimator\n",
      "  self._final_estimator.fit(Xt, y, **fit_params_last_step)\n"
     ]
    },
    {
     "name": "stdout",
     "output_type": "stream",
     "text": [
      "[CV] .... lr__alpha=0.0, lr__l1_ratio=0.3, score=-0.045, total=   0.7s\n",
      "[CV] lr__alpha=0.0, lr__l1_ratio=0.3 .................................\n"
     ]
    },
    {
     "name": "stderr",
     "output_type": "stream",
     "text": [
      "/home/nata/PycharmProjects/venv/lib/python3.8/site-packages/sklearn/linear_model/_coordinate_descent.py:512: ConvergenceWarning: Objective did not converge. You might want to increase the number of iterations. Duality gap: 0.5948047376809941, tolerance: 0.00017895117561683604\n",
      "  model = cd_fast.sparse_enet_coordinate_descent(\n",
      "/home/nata/PycharmProjects/venv/lib/python3.8/site-packages/sklearn/pipeline.py:335: UserWarning: With alpha=0, this algorithm does not converge well. You are advised to use the LinearRegression estimator\n",
      "  self._final_estimator.fit(Xt, y, **fit_params_last_step)\n"
     ]
    },
    {
     "name": "stdout",
     "output_type": "stream",
     "text": [
      "[CV] .... lr__alpha=0.0, lr__l1_ratio=0.3, score=-0.042, total=   0.7s\n",
      "[CV] lr__alpha=0.0, lr__l1_ratio=0.3 .................................\n"
     ]
    },
    {
     "name": "stderr",
     "output_type": "stream",
     "text": [
      "/home/nata/PycharmProjects/venv/lib/python3.8/site-packages/sklearn/linear_model/_coordinate_descent.py:512: ConvergenceWarning: Objective did not converge. You might want to increase the number of iterations. Duality gap: 0.5831797810451307, tolerance: 0.0001687153043478261\n",
      "  model = cd_fast.sparse_enet_coordinate_descent(\n",
      "/home/nata/PycharmProjects/venv/lib/python3.8/site-packages/sklearn/pipeline.py:335: UserWarning: With alpha=0, this algorithm does not converge well. You are advised to use the LinearRegression estimator\n",
      "  self._final_estimator.fit(Xt, y, **fit_params_last_step)\n"
     ]
    },
    {
     "name": "stdout",
     "output_type": "stream",
     "text": [
      "[CV] .... lr__alpha=0.0, lr__l1_ratio=0.3, score=-0.042, total=   0.7s\n",
      "[CV] lr__alpha=0.0, lr__l1_ratio=0.4 .................................\n"
     ]
    },
    {
     "name": "stderr",
     "output_type": "stream",
     "text": [
      "/home/nata/PycharmProjects/venv/lib/python3.8/site-packages/sklearn/linear_model/_coordinate_descent.py:512: ConvergenceWarning: Objective did not converge. You might want to increase the number of iterations. Duality gap: 0.5385760685464491, tolerance: 0.00017159976777939047\n",
      "  model = cd_fast.sparse_enet_coordinate_descent(\n",
      "/home/nata/PycharmProjects/venv/lib/python3.8/site-packages/sklearn/pipeline.py:335: UserWarning: With alpha=0, this algorithm does not converge well. You are advised to use the LinearRegression estimator\n",
      "  self._final_estimator.fit(Xt, y, **fit_params_last_step)\n"
     ]
    },
    {
     "name": "stdout",
     "output_type": "stream",
     "text": [
      "[CV] .... lr__alpha=0.0, lr__l1_ratio=0.4, score=-0.045, total=   0.7s\n",
      "[CV] lr__alpha=0.0, lr__l1_ratio=0.4 .................................\n"
     ]
    },
    {
     "name": "stderr",
     "output_type": "stream",
     "text": [
      "/home/nata/PycharmProjects/venv/lib/python3.8/site-packages/sklearn/linear_model/_coordinate_descent.py:512: ConvergenceWarning: Objective did not converge. You might want to increase the number of iterations. Duality gap: 0.5948047376809941, tolerance: 0.00017895117561683604\n",
      "  model = cd_fast.sparse_enet_coordinate_descent(\n",
      "/home/nata/PycharmProjects/venv/lib/python3.8/site-packages/sklearn/pipeline.py:335: UserWarning: With alpha=0, this algorithm does not converge well. You are advised to use the LinearRegression estimator\n",
      "  self._final_estimator.fit(Xt, y, **fit_params_last_step)\n"
     ]
    },
    {
     "name": "stdout",
     "output_type": "stream",
     "text": [
      "[CV] .... lr__alpha=0.0, lr__l1_ratio=0.4, score=-0.042, total=   0.7s\n",
      "[CV] lr__alpha=0.0, lr__l1_ratio=0.4 .................................\n"
     ]
    },
    {
     "name": "stderr",
     "output_type": "stream",
     "text": [
      "/home/nata/PycharmProjects/venv/lib/python3.8/site-packages/sklearn/linear_model/_coordinate_descent.py:512: ConvergenceWarning: Objective did not converge. You might want to increase the number of iterations. Duality gap: 0.5831797810451307, tolerance: 0.0001687153043478261\n",
      "  model = cd_fast.sparse_enet_coordinate_descent(\n",
      "/home/nata/PycharmProjects/venv/lib/python3.8/site-packages/sklearn/pipeline.py:335: UserWarning: With alpha=0, this algorithm does not converge well. You are advised to use the LinearRegression estimator\n",
      "  self._final_estimator.fit(Xt, y, **fit_params_last_step)\n"
     ]
    },
    {
     "name": "stdout",
     "output_type": "stream",
     "text": [
      "[CV] .... lr__alpha=0.0, lr__l1_ratio=0.4, score=-0.042, total=   0.7s\n",
      "[CV] lr__alpha=0.0, lr__l1_ratio=0.5 .................................\n"
     ]
    },
    {
     "name": "stderr",
     "output_type": "stream",
     "text": [
      "/home/nata/PycharmProjects/venv/lib/python3.8/site-packages/sklearn/linear_model/_coordinate_descent.py:512: ConvergenceWarning: Objective did not converge. You might want to increase the number of iterations. Duality gap: 0.5385760685464491, tolerance: 0.00017159976777939047\n",
      "  model = cd_fast.sparse_enet_coordinate_descent(\n",
      "/home/nata/PycharmProjects/venv/lib/python3.8/site-packages/sklearn/pipeline.py:335: UserWarning: With alpha=0, this algorithm does not converge well. You are advised to use the LinearRegression estimator\n",
      "  self._final_estimator.fit(Xt, y, **fit_params_last_step)\n"
     ]
    },
    {
     "name": "stdout",
     "output_type": "stream",
     "text": [
      "[CV] .... lr__alpha=0.0, lr__l1_ratio=0.5, score=-0.045, total=   0.7s\n",
      "[CV] lr__alpha=0.0, lr__l1_ratio=0.5 .................................\n"
     ]
    },
    {
     "name": "stderr",
     "output_type": "stream",
     "text": [
      "/home/nata/PycharmProjects/venv/lib/python3.8/site-packages/sklearn/linear_model/_coordinate_descent.py:512: ConvergenceWarning: Objective did not converge. You might want to increase the number of iterations. Duality gap: 0.5948047376809941, tolerance: 0.00017895117561683604\n",
      "  model = cd_fast.sparse_enet_coordinate_descent(\n",
      "/home/nata/PycharmProjects/venv/lib/python3.8/site-packages/sklearn/pipeline.py:335: UserWarning: With alpha=0, this algorithm does not converge well. You are advised to use the LinearRegression estimator\n",
      "  self._final_estimator.fit(Xt, y, **fit_params_last_step)\n"
     ]
    },
    {
     "name": "stdout",
     "output_type": "stream",
     "text": [
      "[CV] .... lr__alpha=0.0, lr__l1_ratio=0.5, score=-0.042, total=   0.7s\n",
      "[CV] lr__alpha=0.0, lr__l1_ratio=0.5 .................................\n"
     ]
    },
    {
     "name": "stderr",
     "output_type": "stream",
     "text": [
      "/home/nata/PycharmProjects/venv/lib/python3.8/site-packages/sklearn/linear_model/_coordinate_descent.py:512: ConvergenceWarning: Objective did not converge. You might want to increase the number of iterations. Duality gap: 0.5831797810451307, tolerance: 0.0001687153043478261\n",
      "  model = cd_fast.sparse_enet_coordinate_descent(\n",
      "/home/nata/PycharmProjects/venv/lib/python3.8/site-packages/sklearn/pipeline.py:335: UserWarning: With alpha=0, this algorithm does not converge well. You are advised to use the LinearRegression estimator\n",
      "  self._final_estimator.fit(Xt, y, **fit_params_last_step)\n"
     ]
    },
    {
     "name": "stdout",
     "output_type": "stream",
     "text": [
      "[CV] .... lr__alpha=0.0, lr__l1_ratio=0.5, score=-0.042, total=   0.7s\n",
      "[CV] lr__alpha=0.0, lr__l1_ratio=0.6 .................................\n"
     ]
    },
    {
     "name": "stderr",
     "output_type": "stream",
     "text": [
      "/home/nata/PycharmProjects/venv/lib/python3.8/site-packages/sklearn/linear_model/_coordinate_descent.py:512: ConvergenceWarning: Objective did not converge. You might want to increase the number of iterations. Duality gap: 0.5385760685464491, tolerance: 0.00017159976777939047\n",
      "  model = cd_fast.sparse_enet_coordinate_descent(\n",
      "/home/nata/PycharmProjects/venv/lib/python3.8/site-packages/sklearn/pipeline.py:335: UserWarning: With alpha=0, this algorithm does not converge well. You are advised to use the LinearRegression estimator\n",
      "  self._final_estimator.fit(Xt, y, **fit_params_last_step)\n"
     ]
    },
    {
     "name": "stdout",
     "output_type": "stream",
     "text": [
      "[CV] .... lr__alpha=0.0, lr__l1_ratio=0.6, score=-0.045, total=   0.7s\n",
      "[CV] lr__alpha=0.0, lr__l1_ratio=0.6 .................................\n"
     ]
    },
    {
     "name": "stderr",
     "output_type": "stream",
     "text": [
      "/home/nata/PycharmProjects/venv/lib/python3.8/site-packages/sklearn/linear_model/_coordinate_descent.py:512: ConvergenceWarning: Objective did not converge. You might want to increase the number of iterations. Duality gap: 0.5948047376809941, tolerance: 0.00017895117561683604\n",
      "  model = cd_fast.sparse_enet_coordinate_descent(\n",
      "/home/nata/PycharmProjects/venv/lib/python3.8/site-packages/sklearn/pipeline.py:335: UserWarning: With alpha=0, this algorithm does not converge well. You are advised to use the LinearRegression estimator\n",
      "  self._final_estimator.fit(Xt, y, **fit_params_last_step)\n"
     ]
    },
    {
     "name": "stdout",
     "output_type": "stream",
     "text": [
      "[CV] .... lr__alpha=0.0, lr__l1_ratio=0.6, score=-0.042, total=   0.7s\n",
      "[CV] lr__alpha=0.0, lr__l1_ratio=0.6 .................................\n"
     ]
    },
    {
     "name": "stderr",
     "output_type": "stream",
     "text": [
      "/home/nata/PycharmProjects/venv/lib/python3.8/site-packages/sklearn/linear_model/_coordinate_descent.py:512: ConvergenceWarning: Objective did not converge. You might want to increase the number of iterations. Duality gap: 0.5831797810451307, tolerance: 0.0001687153043478261\n",
      "  model = cd_fast.sparse_enet_coordinate_descent(\n",
      "/home/nata/PycharmProjects/venv/lib/python3.8/site-packages/sklearn/pipeline.py:335: UserWarning: With alpha=0, this algorithm does not converge well. You are advised to use the LinearRegression estimator\n",
      "  self._final_estimator.fit(Xt, y, **fit_params_last_step)\n"
     ]
    },
    {
     "name": "stdout",
     "output_type": "stream",
     "text": [
      "[CV] .... lr__alpha=0.0, lr__l1_ratio=0.6, score=-0.042, total=   0.7s\n",
      "[CV] lr__alpha=0.0, lr__l1_ratio=0.7 .................................\n"
     ]
    },
    {
     "name": "stderr",
     "output_type": "stream",
     "text": [
      "/home/nata/PycharmProjects/venv/lib/python3.8/site-packages/sklearn/linear_model/_coordinate_descent.py:512: ConvergenceWarning: Objective did not converge. You might want to increase the number of iterations. Duality gap: 0.5385760685464491, tolerance: 0.00017159976777939047\n",
      "  model = cd_fast.sparse_enet_coordinate_descent(\n",
      "/home/nata/PycharmProjects/venv/lib/python3.8/site-packages/sklearn/pipeline.py:335: UserWarning: With alpha=0, this algorithm does not converge well. You are advised to use the LinearRegression estimator\n",
      "  self._final_estimator.fit(Xt, y, **fit_params_last_step)\n"
     ]
    },
    {
     "name": "stdout",
     "output_type": "stream",
     "text": [
      "[CV] .... lr__alpha=0.0, lr__l1_ratio=0.7, score=-0.045, total=   0.7s\n",
      "[CV] lr__alpha=0.0, lr__l1_ratio=0.7 .................................\n"
     ]
    },
    {
     "name": "stderr",
     "output_type": "stream",
     "text": [
      "/home/nata/PycharmProjects/venv/lib/python3.8/site-packages/sklearn/linear_model/_coordinate_descent.py:512: ConvergenceWarning: Objective did not converge. You might want to increase the number of iterations. Duality gap: 0.5948047376809941, tolerance: 0.00017895117561683604\n",
      "  model = cd_fast.sparse_enet_coordinate_descent(\n",
      "/home/nata/PycharmProjects/venv/lib/python3.8/site-packages/sklearn/pipeline.py:335: UserWarning: With alpha=0, this algorithm does not converge well. You are advised to use the LinearRegression estimator\n",
      "  self._final_estimator.fit(Xt, y, **fit_params_last_step)\n"
     ]
    },
    {
     "name": "stdout",
     "output_type": "stream",
     "text": [
      "[CV] .... lr__alpha=0.0, lr__l1_ratio=0.7, score=-0.042, total=   0.7s\n",
      "[CV] lr__alpha=0.0, lr__l1_ratio=0.7 .................................\n"
     ]
    },
    {
     "name": "stderr",
     "output_type": "stream",
     "text": [
      "/home/nata/PycharmProjects/venv/lib/python3.8/site-packages/sklearn/linear_model/_coordinate_descent.py:512: ConvergenceWarning: Objective did not converge. You might want to increase the number of iterations. Duality gap: 0.5831797810451307, tolerance: 0.0001687153043478261\n",
      "  model = cd_fast.sparse_enet_coordinate_descent(\n",
      "/home/nata/PycharmProjects/venv/lib/python3.8/site-packages/sklearn/pipeline.py:335: UserWarning: With alpha=0, this algorithm does not converge well. You are advised to use the LinearRegression estimator\n",
      "  self._final_estimator.fit(Xt, y, **fit_params_last_step)\n"
     ]
    },
    {
     "name": "stdout",
     "output_type": "stream",
     "text": [
      "[CV] .... lr__alpha=0.0, lr__l1_ratio=0.7, score=-0.042, total=   0.6s\n",
      "[CV] lr__alpha=0.0, lr__l1_ratio=0.8 .................................\n"
     ]
    },
    {
     "name": "stderr",
     "output_type": "stream",
     "text": [
      "/home/nata/PycharmProjects/venv/lib/python3.8/site-packages/sklearn/linear_model/_coordinate_descent.py:512: ConvergenceWarning: Objective did not converge. You might want to increase the number of iterations. Duality gap: 0.5385760685464491, tolerance: 0.00017159976777939047\n",
      "  model = cd_fast.sparse_enet_coordinate_descent(\n",
      "/home/nata/PycharmProjects/venv/lib/python3.8/site-packages/sklearn/pipeline.py:335: UserWarning: With alpha=0, this algorithm does not converge well. You are advised to use the LinearRegression estimator\n",
      "  self._final_estimator.fit(Xt, y, **fit_params_last_step)\n"
     ]
    },
    {
     "name": "stdout",
     "output_type": "stream",
     "text": [
      "[CV] .... lr__alpha=0.0, lr__l1_ratio=0.8, score=-0.045, total=   0.6s\n",
      "[CV] lr__alpha=0.0, lr__l1_ratio=0.8 .................................\n"
     ]
    },
    {
     "name": "stderr",
     "output_type": "stream",
     "text": [
      "/home/nata/PycharmProjects/venv/lib/python3.8/site-packages/sklearn/linear_model/_coordinate_descent.py:512: ConvergenceWarning: Objective did not converge. You might want to increase the number of iterations. Duality gap: 0.5948047376809941, tolerance: 0.00017895117561683604\n",
      "  model = cd_fast.sparse_enet_coordinate_descent(\n",
      "/home/nata/PycharmProjects/venv/lib/python3.8/site-packages/sklearn/pipeline.py:335: UserWarning: With alpha=0, this algorithm does not converge well. You are advised to use the LinearRegression estimator\n",
      "  self._final_estimator.fit(Xt, y, **fit_params_last_step)\n"
     ]
    },
    {
     "name": "stdout",
     "output_type": "stream",
     "text": [
      "[CV] .... lr__alpha=0.0, lr__l1_ratio=0.8, score=-0.042, total=   0.7s\n",
      "[CV] lr__alpha=0.0, lr__l1_ratio=0.8 .................................\n"
     ]
    },
    {
     "name": "stderr",
     "output_type": "stream",
     "text": [
      "/home/nata/PycharmProjects/venv/lib/python3.8/site-packages/sklearn/linear_model/_coordinate_descent.py:512: ConvergenceWarning: Objective did not converge. You might want to increase the number of iterations. Duality gap: 0.5831797810451307, tolerance: 0.0001687153043478261\n",
      "  model = cd_fast.sparse_enet_coordinate_descent(\n",
      "/home/nata/PycharmProjects/venv/lib/python3.8/site-packages/sklearn/pipeline.py:335: UserWarning: With alpha=0, this algorithm does not converge well. You are advised to use the LinearRegression estimator\n",
      "  self._final_estimator.fit(Xt, y, **fit_params_last_step)\n"
     ]
    },
    {
     "name": "stdout",
     "output_type": "stream",
     "text": [
      "[CV] .... lr__alpha=0.0, lr__l1_ratio=0.8, score=-0.042, total=   0.6s\n",
      "[CV] lr__alpha=0.0, lr__l1_ratio=0.9 .................................\n"
     ]
    },
    {
     "name": "stderr",
     "output_type": "stream",
     "text": [
      "/home/nata/PycharmProjects/venv/lib/python3.8/site-packages/sklearn/linear_model/_coordinate_descent.py:512: ConvergenceWarning: Objective did not converge. You might want to increase the number of iterations. Duality gap: 0.5385760685464491, tolerance: 0.00017159976777939047\n",
      "  model = cd_fast.sparse_enet_coordinate_descent(\n",
      "/home/nata/PycharmProjects/venv/lib/python3.8/site-packages/sklearn/pipeline.py:335: UserWarning: With alpha=0, this algorithm does not converge well. You are advised to use the LinearRegression estimator\n",
      "  self._final_estimator.fit(Xt, y, **fit_params_last_step)\n"
     ]
    },
    {
     "name": "stdout",
     "output_type": "stream",
     "text": [
      "[CV] .... lr__alpha=0.0, lr__l1_ratio=0.9, score=-0.045, total=   0.7s\n",
      "[CV] lr__alpha=0.0, lr__l1_ratio=0.9 .................................\n"
     ]
    },
    {
     "name": "stderr",
     "output_type": "stream",
     "text": [
      "/home/nata/PycharmProjects/venv/lib/python3.8/site-packages/sklearn/linear_model/_coordinate_descent.py:512: ConvergenceWarning: Objective did not converge. You might want to increase the number of iterations. Duality gap: 0.5948047376809941, tolerance: 0.00017895117561683604\n",
      "  model = cd_fast.sparse_enet_coordinate_descent(\n",
      "/home/nata/PycharmProjects/venv/lib/python3.8/site-packages/sklearn/pipeline.py:335: UserWarning: With alpha=0, this algorithm does not converge well. You are advised to use the LinearRegression estimator\n",
      "  self._final_estimator.fit(Xt, y, **fit_params_last_step)\n"
     ]
    },
    {
     "name": "stdout",
     "output_type": "stream",
     "text": [
      "[CV] .... lr__alpha=0.0, lr__l1_ratio=0.9, score=-0.042, total=   0.7s\n",
      "[CV] lr__alpha=0.0, lr__l1_ratio=0.9 .................................\n"
     ]
    },
    {
     "name": "stderr",
     "output_type": "stream",
     "text": [
      "/home/nata/PycharmProjects/venv/lib/python3.8/site-packages/sklearn/linear_model/_coordinate_descent.py:512: ConvergenceWarning: Objective did not converge. You might want to increase the number of iterations. Duality gap: 0.5831797810451307, tolerance: 0.0001687153043478261\n",
      "  model = cd_fast.sparse_enet_coordinate_descent(\n",
      "/home/nata/PycharmProjects/venv/lib/python3.8/site-packages/sklearn/pipeline.py:335: UserWarning: With alpha=0, this algorithm does not converge well. You are advised to use the LinearRegression estimator\n",
      "  self._final_estimator.fit(Xt, y, **fit_params_last_step)\n"
     ]
    },
    {
     "name": "stdout",
     "output_type": "stream",
     "text": [
      "[CV] .... lr__alpha=0.0, lr__l1_ratio=0.9, score=-0.042, total=   0.7s\n",
      "[CV] lr__alpha=0.0, lr__l1_ratio=1.0 .................................\n"
     ]
    },
    {
     "name": "stderr",
     "output_type": "stream",
     "text": [
      "/home/nata/PycharmProjects/venv/lib/python3.8/site-packages/sklearn/linear_model/_coordinate_descent.py:512: ConvergenceWarning: Objective did not converge. You might want to increase the number of iterations. Duality gap: 0.5385760685464491, tolerance: 0.00017159976777939047\n",
      "  model = cd_fast.sparse_enet_coordinate_descent(\n",
      "/home/nata/PycharmProjects/venv/lib/python3.8/site-packages/sklearn/pipeline.py:335: UserWarning: With alpha=0, this algorithm does not converge well. You are advised to use the LinearRegression estimator\n",
      "  self._final_estimator.fit(Xt, y, **fit_params_last_step)\n"
     ]
    },
    {
     "name": "stdout",
     "output_type": "stream",
     "text": [
      "[CV] .... lr__alpha=0.0, lr__l1_ratio=1.0, score=-0.045, total=   0.8s\n",
      "[CV] lr__alpha=0.0, lr__l1_ratio=1.0 .................................\n"
     ]
    },
    {
     "name": "stderr",
     "output_type": "stream",
     "text": [
      "/home/nata/PycharmProjects/venv/lib/python3.8/site-packages/sklearn/linear_model/_coordinate_descent.py:512: ConvergenceWarning: Objective did not converge. You might want to increase the number of iterations. Duality gap: 0.5948047376809941, tolerance: 0.00017895117561683604\n",
      "  model = cd_fast.sparse_enet_coordinate_descent(\n",
      "/home/nata/PycharmProjects/venv/lib/python3.8/site-packages/sklearn/pipeline.py:335: UserWarning: With alpha=0, this algorithm does not converge well. You are advised to use the LinearRegression estimator\n",
      "  self._final_estimator.fit(Xt, y, **fit_params_last_step)\n"
     ]
    },
    {
     "name": "stdout",
     "output_type": "stream",
     "text": [
      "[CV] .... lr__alpha=0.0, lr__l1_ratio=1.0, score=-0.042, total=   0.8s\n",
      "[CV] lr__alpha=0.0, lr__l1_ratio=1.0 .................................\n"
     ]
    },
    {
     "name": "stderr",
     "output_type": "stream",
     "text": [
      "/home/nata/PycharmProjects/venv/lib/python3.8/site-packages/sklearn/linear_model/_coordinate_descent.py:512: ConvergenceWarning: Objective did not converge. You might want to increase the number of iterations. Duality gap: 0.5831797810451307, tolerance: 0.0001687153043478261\n",
      "  model = cd_fast.sparse_enet_coordinate_descent(\n"
     ]
    },
    {
     "name": "stdout",
     "output_type": "stream",
     "text": [
      "[CV] .... lr__alpha=0.0, lr__l1_ratio=1.0, score=-0.042, total=   0.8s\n",
      "[CV] lr__alpha=0.1, lr__l1_ratio=0.0 .................................\n"
     ]
    },
    {
     "name": "stderr",
     "output_type": "stream",
     "text": [
      "/home/nata/PycharmProjects/venv/lib/python3.8/site-packages/sklearn/linear_model/_coordinate_descent.py:512: ConvergenceWarning: Objective did not converge. You might want to increase the number of iterations. Duality gap: 0.7451366867752195, tolerance: 0.00017159976777939047\n",
      "  model = cd_fast.sparse_enet_coordinate_descent(\n"
     ]
    },
    {
     "name": "stdout",
     "output_type": "stream",
     "text": [
      "[CV] .... lr__alpha=0.1, lr__l1_ratio=0.0, score=-0.040, total=   0.8s\n",
      "[CV] lr__alpha=0.1, lr__l1_ratio=0.0 .................................\n"
     ]
    },
    {
     "name": "stderr",
     "output_type": "stream",
     "text": [
      "/home/nata/PycharmProjects/venv/lib/python3.8/site-packages/sklearn/linear_model/_coordinate_descent.py:512: ConvergenceWarning: Objective did not converge. You might want to increase the number of iterations. Duality gap: 0.8000861874827325, tolerance: 0.00017895117561683604\n",
      "  model = cd_fast.sparse_enet_coordinate_descent(\n"
     ]
    },
    {
     "name": "stdout",
     "output_type": "stream",
     "text": [
      "[CV] .... lr__alpha=0.1, lr__l1_ratio=0.0, score=-0.037, total=   0.8s\n",
      "[CV] lr__alpha=0.1, lr__l1_ratio=0.0 .................................\n"
     ]
    },
    {
     "name": "stderr",
     "output_type": "stream",
     "text": [
      "/home/nata/PycharmProjects/venv/lib/python3.8/site-packages/sklearn/linear_model/_coordinate_descent.py:512: ConvergenceWarning: Objective did not converge. You might want to increase the number of iterations. Duality gap: 0.7581255666990752, tolerance: 0.0001687153043478261\n",
      "  model = cd_fast.sparse_enet_coordinate_descent(\n"
     ]
    },
    {
     "name": "stdout",
     "output_type": "stream",
     "text": [
      "[CV] .... lr__alpha=0.1, lr__l1_ratio=0.0, score=-0.039, total=   0.8s\n",
      "[CV] lr__alpha=0.1, lr__l1_ratio=0.1 .................................\n",
      "[CV] .... lr__alpha=0.1, lr__l1_ratio=0.1, score=-0.040, total=   0.2s\n",
      "[CV] lr__alpha=0.1, lr__l1_ratio=0.1 .................................\n",
      "[CV] .... lr__alpha=0.1, lr__l1_ratio=0.1, score=-0.038, total=   0.2s\n",
      "[CV] lr__alpha=0.1, lr__l1_ratio=0.1 .................................\n",
      "[CV] .... lr__alpha=0.1, lr__l1_ratio=0.1, score=-0.041, total=   0.2s\n",
      "[CV] lr__alpha=0.1, lr__l1_ratio=0.2 .................................\n",
      "[CV] .... lr__alpha=0.1, lr__l1_ratio=0.2, score=-0.040, total=   0.2s\n",
      "[CV] lr__alpha=0.1, lr__l1_ratio=0.2 .................................\n",
      "[CV] .... lr__alpha=0.1, lr__l1_ratio=0.2, score=-0.038, total=   0.2s\n",
      "[CV] lr__alpha=0.1, lr__l1_ratio=0.2 .................................\n",
      "[CV] .... lr__alpha=0.1, lr__l1_ratio=0.2, score=-0.041, total=   0.2s\n",
      "[CV] lr__alpha=0.1, lr__l1_ratio=0.3 .................................\n",
      "[CV] .... lr__alpha=0.1, lr__l1_ratio=0.3, score=-0.040, total=   0.2s\n",
      "[CV] lr__alpha=0.1, lr__l1_ratio=0.3 .................................\n",
      "[CV] .... lr__alpha=0.1, lr__l1_ratio=0.3, score=-0.038, total=   0.2s\n",
      "[CV] lr__alpha=0.1, lr__l1_ratio=0.3 .................................\n",
      "[CV] .... lr__alpha=0.1, lr__l1_ratio=0.3, score=-0.041, total=   0.2s\n",
      "[CV] lr__alpha=0.1, lr__l1_ratio=0.4 .................................\n",
      "[CV] .... lr__alpha=0.1, lr__l1_ratio=0.4, score=-0.040, total=   0.2s\n",
      "[CV] lr__alpha=0.1, lr__l1_ratio=0.4 .................................\n",
      "[CV] .... lr__alpha=0.1, lr__l1_ratio=0.4, score=-0.038, total=   0.2s\n",
      "[CV] lr__alpha=0.1, lr__l1_ratio=0.4 .................................\n",
      "[CV] .... lr__alpha=0.1, lr__l1_ratio=0.4, score=-0.041, total=   0.2s\n",
      "[CV] lr__alpha=0.1, lr__l1_ratio=0.5 .................................\n",
      "[CV] .... lr__alpha=0.1, lr__l1_ratio=0.5, score=-0.040, total=   0.2s\n",
      "[CV] lr__alpha=0.1, lr__l1_ratio=0.5 .................................\n",
      "[CV] .... lr__alpha=0.1, lr__l1_ratio=0.5, score=-0.038, total=   0.2s\n",
      "[CV] lr__alpha=0.1, lr__l1_ratio=0.5 .................................\n",
      "[CV] .... lr__alpha=0.1, lr__l1_ratio=0.5, score=-0.041, total=   0.2s\n",
      "[CV] lr__alpha=0.1, lr__l1_ratio=0.6 .................................\n",
      "[CV] .... lr__alpha=0.1, lr__l1_ratio=0.6, score=-0.040, total=   0.2s\n",
      "[CV] lr__alpha=0.1, lr__l1_ratio=0.6 .................................\n",
      "[CV] .... lr__alpha=0.1, lr__l1_ratio=0.6, score=-0.038, total=   0.2s\n",
      "[CV] lr__alpha=0.1, lr__l1_ratio=0.6 .................................\n",
      "[CV] .... lr__alpha=0.1, lr__l1_ratio=0.6, score=-0.041, total=   0.2s\n",
      "[CV] lr__alpha=0.1, lr__l1_ratio=0.7 .................................\n",
      "[CV] .... lr__alpha=0.1, lr__l1_ratio=0.7, score=-0.040, total=   0.2s\n",
      "[CV] lr__alpha=0.1, lr__l1_ratio=0.7 .................................\n",
      "[CV] .... lr__alpha=0.1, lr__l1_ratio=0.7, score=-0.038, total=   0.2s\n",
      "[CV] lr__alpha=0.1, lr__l1_ratio=0.7 .................................\n",
      "[CV] .... lr__alpha=0.1, lr__l1_ratio=0.7, score=-0.041, total=   0.2s\n",
      "[CV] lr__alpha=0.1, lr__l1_ratio=0.8 .................................\n",
      "[CV] .... lr__alpha=0.1, lr__l1_ratio=0.8, score=-0.040, total=   0.2s\n",
      "[CV] lr__alpha=0.1, lr__l1_ratio=0.8 .................................\n",
      "[CV] .... lr__alpha=0.1, lr__l1_ratio=0.8, score=-0.038, total=   0.2s\n",
      "[CV] lr__alpha=0.1, lr__l1_ratio=0.8 .................................\n",
      "[CV] .... lr__alpha=0.1, lr__l1_ratio=0.8, score=-0.041, total=   0.2s\n",
      "[CV] lr__alpha=0.1, lr__l1_ratio=0.9 .................................\n",
      "[CV] .... lr__alpha=0.1, lr__l1_ratio=0.9, score=-0.040, total=   0.2s\n",
      "[CV] lr__alpha=0.1, lr__l1_ratio=0.9 .................................\n",
      "[CV] .... lr__alpha=0.1, lr__l1_ratio=0.9, score=-0.038, total=   0.2s\n",
      "[CV] lr__alpha=0.1, lr__l1_ratio=0.9 .................................\n",
      "[CV] .... lr__alpha=0.1, lr__l1_ratio=0.9, score=-0.041, total=   0.2s\n",
      "[CV] lr__alpha=0.1, lr__l1_ratio=1.0 .................................\n",
      "[CV] .... lr__alpha=0.1, lr__l1_ratio=1.0, score=-0.040, total=   0.2s\n",
      "[CV] lr__alpha=0.1, lr__l1_ratio=1.0 .................................\n",
      "[CV] .... lr__alpha=0.1, lr__l1_ratio=1.0, score=-0.038, total=   0.2s\n",
      "[CV] lr__alpha=0.1, lr__l1_ratio=1.0 .................................\n",
      "[CV] .... lr__alpha=0.1, lr__l1_ratio=1.0, score=-0.041, total=   0.2s\n",
      "[CV] lr__alpha=0.2, lr__l1_ratio=0.0 .................................\n"
     ]
    },
    {
     "name": "stderr",
     "output_type": "stream",
     "text": [
      "/home/nata/PycharmProjects/venv/lib/python3.8/site-packages/sklearn/linear_model/_coordinate_descent.py:512: ConvergenceWarning: Objective did not converge. You might want to increase the number of iterations. Duality gap: 0.7710064820727471, tolerance: 0.00017159976777939047\n",
      "  model = cd_fast.sparse_enet_coordinate_descent(\n"
     ]
    },
    {
     "name": "stdout",
     "output_type": "stream",
     "text": [
      "[CV] .... lr__alpha=0.2, lr__l1_ratio=0.0, score=-0.039, total=   0.8s\n",
      "[CV] lr__alpha=0.2, lr__l1_ratio=0.0 .................................\n"
     ]
    },
    {
     "name": "stderr",
     "output_type": "stream",
     "text": [
      "/home/nata/PycharmProjects/venv/lib/python3.8/site-packages/sklearn/linear_model/_coordinate_descent.py:512: ConvergenceWarning: Objective did not converge. You might want to increase the number of iterations. Duality gap: 0.8230219060219992, tolerance: 0.00017895117561683604\n",
      "  model = cd_fast.sparse_enet_coordinate_descent(\n"
     ]
    },
    {
     "name": "stdout",
     "output_type": "stream",
     "text": [
      "[CV] .... lr__alpha=0.2, lr__l1_ratio=0.0, score=-0.037, total=   0.8s\n",
      "[CV] lr__alpha=0.2, lr__l1_ratio=0.0 .................................\n"
     ]
    },
    {
     "name": "stderr",
     "output_type": "stream",
     "text": [
      "/home/nata/PycharmProjects/venv/lib/python3.8/site-packages/sklearn/linear_model/_coordinate_descent.py:512: ConvergenceWarning: Objective did not converge. You might want to increase the number of iterations. Duality gap: 0.7784306237708418, tolerance: 0.0001687153043478261\n",
      "  model = cd_fast.sparse_enet_coordinate_descent(\n"
     ]
    },
    {
     "name": "stdout",
     "output_type": "stream",
     "text": [
      "[CV] .... lr__alpha=0.2, lr__l1_ratio=0.0, score=-0.039, total=   0.8s\n",
      "[CV] lr__alpha=0.2, lr__l1_ratio=0.1 .................................\n",
      "[CV] .... lr__alpha=0.2, lr__l1_ratio=0.1, score=-0.040, total=   0.1s\n",
      "[CV] lr__alpha=0.2, lr__l1_ratio=0.1 .................................\n",
      "[CV] .... lr__alpha=0.2, lr__l1_ratio=0.1, score=-0.038, total=   0.2s\n",
      "[CV] lr__alpha=0.2, lr__l1_ratio=0.1 .................................\n",
      "[CV] .... lr__alpha=0.2, lr__l1_ratio=0.1, score=-0.041, total=   0.2s\n",
      "[CV] lr__alpha=0.2, lr__l1_ratio=0.2 .................................\n",
      "[CV] .... lr__alpha=0.2, lr__l1_ratio=0.2, score=-0.040, total=   0.2s\n",
      "[CV] lr__alpha=0.2, lr__l1_ratio=0.2 .................................\n",
      "[CV] .... lr__alpha=0.2, lr__l1_ratio=0.2, score=-0.038, total=   0.2s\n",
      "[CV] lr__alpha=0.2, lr__l1_ratio=0.2 .................................\n",
      "[CV] .... lr__alpha=0.2, lr__l1_ratio=0.2, score=-0.041, total=   0.2s\n",
      "[CV] lr__alpha=0.2, lr__l1_ratio=0.3 .................................\n",
      "[CV] .... lr__alpha=0.2, lr__l1_ratio=0.3, score=-0.040, total=   0.2s\n",
      "[CV] lr__alpha=0.2, lr__l1_ratio=0.3 .................................\n",
      "[CV] .... lr__alpha=0.2, lr__l1_ratio=0.3, score=-0.038, total=   0.2s\n",
      "[CV] lr__alpha=0.2, lr__l1_ratio=0.3 .................................\n",
      "[CV] .... lr__alpha=0.2, lr__l1_ratio=0.3, score=-0.041, total=   0.2s\n",
      "[CV] lr__alpha=0.2, lr__l1_ratio=0.4 .................................\n",
      "[CV] .... lr__alpha=0.2, lr__l1_ratio=0.4, score=-0.040, total=   0.2s\n",
      "[CV] lr__alpha=0.2, lr__l1_ratio=0.4 .................................\n",
      "[CV] .... lr__alpha=0.2, lr__l1_ratio=0.4, score=-0.038, total=   0.2s\n",
      "[CV] lr__alpha=0.2, lr__l1_ratio=0.4 .................................\n",
      "[CV] .... lr__alpha=0.2, lr__l1_ratio=0.4, score=-0.041, total=   0.2s\n",
      "[CV] lr__alpha=0.2, lr__l1_ratio=0.5 .................................\n",
      "[CV] .... lr__alpha=0.2, lr__l1_ratio=0.5, score=-0.040, total=   0.2s\n",
      "[CV] lr__alpha=0.2, lr__l1_ratio=0.5 .................................\n",
      "[CV] .... lr__alpha=0.2, lr__l1_ratio=0.5, score=-0.038, total=   0.2s\n",
      "[CV] lr__alpha=0.2, lr__l1_ratio=0.5 .................................\n",
      "[CV] .... lr__alpha=0.2, lr__l1_ratio=0.5, score=-0.041, total=   0.2s\n",
      "[CV] lr__alpha=0.2, lr__l1_ratio=0.6 .................................\n",
      "[CV] .... lr__alpha=0.2, lr__l1_ratio=0.6, score=-0.040, total=   0.2s\n",
      "[CV] lr__alpha=0.2, lr__l1_ratio=0.6 .................................\n",
      "[CV] .... lr__alpha=0.2, lr__l1_ratio=0.6, score=-0.038, total=   0.1s\n",
      "[CV] lr__alpha=0.2, lr__l1_ratio=0.6 .................................\n",
      "[CV] .... lr__alpha=0.2, lr__l1_ratio=0.6, score=-0.041, total=   0.2s\n",
      "[CV] lr__alpha=0.2, lr__l1_ratio=0.7 .................................\n",
      "[CV] .... lr__alpha=0.2, lr__l1_ratio=0.7, score=-0.040, total=   0.1s\n",
      "[CV] lr__alpha=0.2, lr__l1_ratio=0.7 .................................\n",
      "[CV] .... lr__alpha=0.2, lr__l1_ratio=0.7, score=-0.038, total=   0.2s\n",
      "[CV] lr__alpha=0.2, lr__l1_ratio=0.7 .................................\n",
      "[CV] .... lr__alpha=0.2, lr__l1_ratio=0.7, score=-0.041, total=   0.2s\n",
      "[CV] lr__alpha=0.2, lr__l1_ratio=0.8 .................................\n",
      "[CV] .... lr__alpha=0.2, lr__l1_ratio=0.8, score=-0.040, total=   0.2s\n",
      "[CV] lr__alpha=0.2, lr__l1_ratio=0.8 .................................\n",
      "[CV] .... lr__alpha=0.2, lr__l1_ratio=0.8, score=-0.038, total=   0.2s\n",
      "[CV] lr__alpha=0.2, lr__l1_ratio=0.8 .................................\n",
      "[CV] .... lr__alpha=0.2, lr__l1_ratio=0.8, score=-0.041, total=   0.2s\n",
      "[CV] lr__alpha=0.2, lr__l1_ratio=0.9 .................................\n",
      "[CV] .... lr__alpha=0.2, lr__l1_ratio=0.9, score=-0.040, total=   0.2s\n",
      "[CV] lr__alpha=0.2, lr__l1_ratio=0.9 .................................\n",
      "[CV] .... lr__alpha=0.2, lr__l1_ratio=0.9, score=-0.038, total=   0.2s\n",
      "[CV] lr__alpha=0.2, lr__l1_ratio=0.9 .................................\n",
      "[CV] .... lr__alpha=0.2, lr__l1_ratio=0.9, score=-0.041, total=   0.2s\n",
      "[CV] lr__alpha=0.2, lr__l1_ratio=1.0 .................................\n",
      "[CV] .... lr__alpha=0.2, lr__l1_ratio=1.0, score=-0.040, total=   0.2s\n",
      "[CV] lr__alpha=0.2, lr__l1_ratio=1.0 .................................\n",
      "[CV] .... lr__alpha=0.2, lr__l1_ratio=1.0, score=-0.038, total=   0.2s\n",
      "[CV] lr__alpha=0.2, lr__l1_ratio=1.0 .................................\n",
      "[CV] .... lr__alpha=0.2, lr__l1_ratio=1.0, score=-0.041, total=   0.2s\n",
      "[CV] lr__alpha=0.3, lr__l1_ratio=0.0 .................................\n"
     ]
    },
    {
     "name": "stderr",
     "output_type": "stream",
     "text": [
      "/home/nata/PycharmProjects/venv/lib/python3.8/site-packages/sklearn/linear_model/_coordinate_descent.py:512: ConvergenceWarning: Objective did not converge. You might want to increase the number of iterations. Duality gap: 0.7856837367057843, tolerance: 0.00017159976777939047\n",
      "  model = cd_fast.sparse_enet_coordinate_descent(\n"
     ]
    },
    {
     "name": "stdout",
     "output_type": "stream",
     "text": [
      "[CV] .... lr__alpha=0.3, lr__l1_ratio=0.0, score=-0.039, total=   0.7s\n",
      "[CV] lr__alpha=0.3, lr__l1_ratio=0.0 .................................\n"
     ]
    },
    {
     "name": "stderr",
     "output_type": "stream",
     "text": [
      "/home/nata/PycharmProjects/venv/lib/python3.8/site-packages/sklearn/linear_model/_coordinate_descent.py:512: ConvergenceWarning: Objective did not converge. You might want to increase the number of iterations. Duality gap: 0.8357539553857053, tolerance: 0.00017895117561683604\n",
      "  model = cd_fast.sparse_enet_coordinate_descent(\n"
     ]
    },
    {
     "name": "stdout",
     "output_type": "stream",
     "text": [
      "[CV] .... lr__alpha=0.3, lr__l1_ratio=0.0, score=-0.037, total=   0.7s\n",
      "[CV] lr__alpha=0.3, lr__l1_ratio=0.0 .................................\n"
     ]
    },
    {
     "name": "stderr",
     "output_type": "stream",
     "text": [
      "/home/nata/PycharmProjects/venv/lib/python3.8/site-packages/sklearn/linear_model/_coordinate_descent.py:512: ConvergenceWarning: Objective did not converge. You might want to increase the number of iterations. Duality gap: 0.7899793805925147, tolerance: 0.0001687153043478261\n",
      "  model = cd_fast.sparse_enet_coordinate_descent(\n"
     ]
    },
    {
     "name": "stdout",
     "output_type": "stream",
     "text": [
      "[CV] .... lr__alpha=0.3, lr__l1_ratio=0.0, score=-0.040, total=   0.7s\n",
      "[CV] lr__alpha=0.3, lr__l1_ratio=0.1 .................................\n",
      "[CV] .... lr__alpha=0.3, lr__l1_ratio=0.1, score=-0.040, total=   0.2s\n",
      "[CV] lr__alpha=0.3, lr__l1_ratio=0.1 .................................\n",
      "[CV] .... lr__alpha=0.3, lr__l1_ratio=0.1, score=-0.038, total=   0.2s\n",
      "[CV] lr__alpha=0.3, lr__l1_ratio=0.1 .................................\n",
      "[CV] .... lr__alpha=0.3, lr__l1_ratio=0.1, score=-0.041, total=   0.1s\n",
      "[CV] lr__alpha=0.3, lr__l1_ratio=0.2 .................................\n",
      "[CV] .... lr__alpha=0.3, lr__l1_ratio=0.2, score=-0.040, total=   0.2s\n",
      "[CV] lr__alpha=0.3, lr__l1_ratio=0.2 .................................\n",
      "[CV] .... lr__alpha=0.3, lr__l1_ratio=0.2, score=-0.038, total=   0.1s\n",
      "[CV] lr__alpha=0.3, lr__l1_ratio=0.2 .................................\n",
      "[CV] .... lr__alpha=0.3, lr__l1_ratio=0.2, score=-0.041, total=   0.2s\n",
      "[CV] lr__alpha=0.3, lr__l1_ratio=0.3 .................................\n",
      "[CV] .... lr__alpha=0.3, lr__l1_ratio=0.3, score=-0.040, total=   0.2s\n",
      "[CV] lr__alpha=0.3, lr__l1_ratio=0.3 .................................\n",
      "[CV] .... lr__alpha=0.3, lr__l1_ratio=0.3, score=-0.038, total=   0.2s\n",
      "[CV] lr__alpha=0.3, lr__l1_ratio=0.3 .................................\n",
      "[CV] .... lr__alpha=0.3, lr__l1_ratio=0.3, score=-0.041, total=   0.2s\n",
      "[CV] lr__alpha=0.3, lr__l1_ratio=0.4 .................................\n",
      "[CV] .... lr__alpha=0.3, lr__l1_ratio=0.4, score=-0.040, total=   0.2s\n",
      "[CV] lr__alpha=0.3, lr__l1_ratio=0.4 .................................\n",
      "[CV] .... lr__alpha=0.3, lr__l1_ratio=0.4, score=-0.038, total=   0.2s\n",
      "[CV] lr__alpha=0.3, lr__l1_ratio=0.4 .................................\n",
      "[CV] .... lr__alpha=0.3, lr__l1_ratio=0.4, score=-0.041, total=   0.2s\n",
      "[CV] lr__alpha=0.3, lr__l1_ratio=0.5 .................................\n",
      "[CV] .... lr__alpha=0.3, lr__l1_ratio=0.5, score=-0.040, total=   0.2s\n",
      "[CV] lr__alpha=0.3, lr__l1_ratio=0.5 .................................\n",
      "[CV] .... lr__alpha=0.3, lr__l1_ratio=0.5, score=-0.038, total=   0.2s\n",
      "[CV] lr__alpha=0.3, lr__l1_ratio=0.5 .................................\n",
      "[CV] .... lr__alpha=0.3, lr__l1_ratio=0.5, score=-0.041, total=   0.2s\n",
      "[CV] lr__alpha=0.3, lr__l1_ratio=0.6 .................................\n",
      "[CV] .... lr__alpha=0.3, lr__l1_ratio=0.6, score=-0.040, total=   0.2s\n",
      "[CV] lr__alpha=0.3, lr__l1_ratio=0.6 .................................\n",
      "[CV] .... lr__alpha=0.3, lr__l1_ratio=0.6, score=-0.038, total=   0.2s\n",
      "[CV] lr__alpha=0.3, lr__l1_ratio=0.6 .................................\n",
      "[CV] .... lr__alpha=0.3, lr__l1_ratio=0.6, score=-0.041, total=   0.2s\n",
      "[CV] lr__alpha=0.3, lr__l1_ratio=0.7 .................................\n",
      "[CV] .... lr__alpha=0.3, lr__l1_ratio=0.7, score=-0.040, total=   0.2s\n",
      "[CV] lr__alpha=0.3, lr__l1_ratio=0.7 .................................\n",
      "[CV] .... lr__alpha=0.3, lr__l1_ratio=0.7, score=-0.038, total=   0.2s\n",
      "[CV] lr__alpha=0.3, lr__l1_ratio=0.7 .................................\n",
      "[CV] .... lr__alpha=0.3, lr__l1_ratio=0.7, score=-0.041, total=   0.2s\n",
      "[CV] lr__alpha=0.3, lr__l1_ratio=0.8 .................................\n",
      "[CV] .... lr__alpha=0.3, lr__l1_ratio=0.8, score=-0.040, total=   0.2s\n",
      "[CV] lr__alpha=0.3, lr__l1_ratio=0.8 .................................\n",
      "[CV] .... lr__alpha=0.3, lr__l1_ratio=0.8, score=-0.038, total=   0.2s\n",
      "[CV] lr__alpha=0.3, lr__l1_ratio=0.8 .................................\n",
      "[CV] .... lr__alpha=0.3, lr__l1_ratio=0.8, score=-0.041, total=   0.2s\n",
      "[CV] lr__alpha=0.3, lr__l1_ratio=0.9 .................................\n",
      "[CV] .... lr__alpha=0.3, lr__l1_ratio=0.9, score=-0.040, total=   0.2s\n",
      "[CV] lr__alpha=0.3, lr__l1_ratio=0.9 .................................\n",
      "[CV] .... lr__alpha=0.3, lr__l1_ratio=0.9, score=-0.038, total=   0.2s\n",
      "[CV] lr__alpha=0.3, lr__l1_ratio=0.9 .................................\n",
      "[CV] .... lr__alpha=0.3, lr__l1_ratio=0.9, score=-0.041, total=   0.2s\n",
      "[CV] lr__alpha=0.3, lr__l1_ratio=1.0 .................................\n",
      "[CV] .... lr__alpha=0.3, lr__l1_ratio=1.0, score=-0.040, total=   0.2s\n",
      "[CV] lr__alpha=0.3, lr__l1_ratio=1.0 .................................\n",
      "[CV] .... lr__alpha=0.3, lr__l1_ratio=1.0, score=-0.038, total=   0.2s\n",
      "[CV] lr__alpha=0.3, lr__l1_ratio=1.0 .................................\n",
      "[CV] .... lr__alpha=0.3, lr__l1_ratio=1.0, score=-0.041, total=   0.2s\n",
      "[CV] lr__alpha=0.4, lr__l1_ratio=0.0 .................................\n"
     ]
    },
    {
     "name": "stderr",
     "output_type": "stream",
     "text": [
      "/home/nata/PycharmProjects/venv/lib/python3.8/site-packages/sklearn/linear_model/_coordinate_descent.py:512: ConvergenceWarning: Objective did not converge. You might want to increase the number of iterations. Duality gap: 0.7956361816048854, tolerance: 0.00017159976777939047\n",
      "  model = cd_fast.sparse_enet_coordinate_descent(\n"
     ]
    },
    {
     "name": "stdout",
     "output_type": "stream",
     "text": [
      "[CV] .... lr__alpha=0.4, lr__l1_ratio=0.0, score=-0.039, total=   0.7s\n",
      "[CV] lr__alpha=0.4, lr__l1_ratio=0.0 .................................\n"
     ]
    },
    {
     "name": "stderr",
     "output_type": "stream",
     "text": [
      "/home/nata/PycharmProjects/venv/lib/python3.8/site-packages/sklearn/linear_model/_coordinate_descent.py:512: ConvergenceWarning: Objective did not converge. You might want to increase the number of iterations. Duality gap: 0.8442557959447154, tolerance: 0.00017895117561683604\n",
      "  model = cd_fast.sparse_enet_coordinate_descent(\n"
     ]
    },
    {
     "name": "stdout",
     "output_type": "stream",
     "text": [
      "[CV] .... lr__alpha=0.4, lr__l1_ratio=0.0, score=-0.037, total=   0.7s\n",
      "[CV] lr__alpha=0.4, lr__l1_ratio=0.0 .................................\n"
     ]
    },
    {
     "name": "stderr",
     "output_type": "stream",
     "text": [
      "/home/nata/PycharmProjects/venv/lib/python3.8/site-packages/sklearn/linear_model/_coordinate_descent.py:512: ConvergenceWarning: Objective did not converge. You might want to increase the number of iterations. Duality gap: 0.7977773772893412, tolerance: 0.0001687153043478261\n",
      "  model = cd_fast.sparse_enet_coordinate_descent(\n"
     ]
    },
    {
     "name": "stdout",
     "output_type": "stream",
     "text": [
      "[CV] .... lr__alpha=0.4, lr__l1_ratio=0.0, score=-0.040, total=   0.7s\n",
      "[CV] lr__alpha=0.4, lr__l1_ratio=0.1 .................................\n",
      "[CV] .... lr__alpha=0.4, lr__l1_ratio=0.1, score=-0.040, total=   0.2s\n",
      "[CV] lr__alpha=0.4, lr__l1_ratio=0.1 .................................\n",
      "[CV] .... lr__alpha=0.4, lr__l1_ratio=0.1, score=-0.038, total=   0.2s\n",
      "[CV] lr__alpha=0.4, lr__l1_ratio=0.1 .................................\n",
      "[CV] .... lr__alpha=0.4, lr__l1_ratio=0.1, score=-0.041, total=   0.1s\n",
      "[CV] lr__alpha=0.4, lr__l1_ratio=0.2 .................................\n",
      "[CV] .... lr__alpha=0.4, lr__l1_ratio=0.2, score=-0.040, total=   0.2s\n",
      "[CV] lr__alpha=0.4, lr__l1_ratio=0.2 .................................\n",
      "[CV] .... lr__alpha=0.4, lr__l1_ratio=0.2, score=-0.038, total=   0.2s\n",
      "[CV] lr__alpha=0.4, lr__l1_ratio=0.2 .................................\n",
      "[CV] .... lr__alpha=0.4, lr__l1_ratio=0.2, score=-0.041, total=   0.2s\n",
      "[CV] lr__alpha=0.4, lr__l1_ratio=0.3 .................................\n",
      "[CV] .... lr__alpha=0.4, lr__l1_ratio=0.3, score=-0.040, total=   0.2s\n",
      "[CV] lr__alpha=0.4, lr__l1_ratio=0.3 .................................\n",
      "[CV] .... lr__alpha=0.4, lr__l1_ratio=0.3, score=-0.038, total=   0.2s\n",
      "[CV] lr__alpha=0.4, lr__l1_ratio=0.3 .................................\n",
      "[CV] .... lr__alpha=0.4, lr__l1_ratio=0.3, score=-0.041, total=   0.2s\n",
      "[CV] lr__alpha=0.4, lr__l1_ratio=0.4 .................................\n",
      "[CV] .... lr__alpha=0.4, lr__l1_ratio=0.4, score=-0.040, total=   0.2s\n",
      "[CV] lr__alpha=0.4, lr__l1_ratio=0.4 .................................\n",
      "[CV] .... lr__alpha=0.4, lr__l1_ratio=0.4, score=-0.038, total=   0.1s\n",
      "[CV] lr__alpha=0.4, lr__l1_ratio=0.4 .................................\n",
      "[CV] .... lr__alpha=0.4, lr__l1_ratio=0.4, score=-0.041, total=   0.2s\n",
      "[CV] lr__alpha=0.4, lr__l1_ratio=0.5 .................................\n",
      "[CV] .... lr__alpha=0.4, lr__l1_ratio=0.5, score=-0.040, total=   0.1s\n",
      "[CV] lr__alpha=0.4, lr__l1_ratio=0.5 .................................\n",
      "[CV] .... lr__alpha=0.4, lr__l1_ratio=0.5, score=-0.038, total=   0.2s\n",
      "[CV] lr__alpha=0.4, lr__l1_ratio=0.5 .................................\n",
      "[CV] .... lr__alpha=0.4, lr__l1_ratio=0.5, score=-0.041, total=   0.1s\n",
      "[CV] lr__alpha=0.4, lr__l1_ratio=0.6 .................................\n",
      "[CV] .... lr__alpha=0.4, lr__l1_ratio=0.6, score=-0.040, total=   0.2s\n",
      "[CV] lr__alpha=0.4, lr__l1_ratio=0.6 .................................\n",
      "[CV] .... lr__alpha=0.4, lr__l1_ratio=0.6, score=-0.038, total=   0.2s\n",
      "[CV] lr__alpha=0.4, lr__l1_ratio=0.6 .................................\n",
      "[CV] .... lr__alpha=0.4, lr__l1_ratio=0.6, score=-0.041, total=   0.2s\n",
      "[CV] lr__alpha=0.4, lr__l1_ratio=0.7 .................................\n",
      "[CV] .... lr__alpha=0.4, lr__l1_ratio=0.7, score=-0.040, total=   0.2s\n",
      "[CV] lr__alpha=0.4, lr__l1_ratio=0.7 .................................\n",
      "[CV] .... lr__alpha=0.4, lr__l1_ratio=0.7, score=-0.038, total=   0.2s\n",
      "[CV] lr__alpha=0.4, lr__l1_ratio=0.7 .................................\n",
      "[CV] .... lr__alpha=0.4, lr__l1_ratio=0.7, score=-0.041, total=   0.1s\n",
      "[CV] lr__alpha=0.4, lr__l1_ratio=0.8 .................................\n",
      "[CV] .... lr__alpha=0.4, lr__l1_ratio=0.8, score=-0.040, total=   0.2s\n",
      "[CV] lr__alpha=0.4, lr__l1_ratio=0.8 .................................\n",
      "[CV] .... lr__alpha=0.4, lr__l1_ratio=0.8, score=-0.038, total=   0.2s\n",
      "[CV] lr__alpha=0.4, lr__l1_ratio=0.8 .................................\n",
      "[CV] .... lr__alpha=0.4, lr__l1_ratio=0.8, score=-0.041, total=   0.2s\n",
      "[CV] lr__alpha=0.4, lr__l1_ratio=0.9 .................................\n",
      "[CV] .... lr__alpha=0.4, lr__l1_ratio=0.9, score=-0.040, total=   0.1s\n",
      "[CV] lr__alpha=0.4, lr__l1_ratio=0.9 .................................\n",
      "[CV] .... lr__alpha=0.4, lr__l1_ratio=0.9, score=-0.038, total=   0.2s\n",
      "[CV] lr__alpha=0.4, lr__l1_ratio=0.9 .................................\n",
      "[CV] .... lr__alpha=0.4, lr__l1_ratio=0.9, score=-0.041, total=   0.2s\n",
      "[CV] lr__alpha=0.4, lr__l1_ratio=1.0 .................................\n",
      "[CV] .... lr__alpha=0.4, lr__l1_ratio=1.0, score=-0.040, total=   0.2s\n",
      "[CV] lr__alpha=0.4, lr__l1_ratio=1.0 .................................\n",
      "[CV] .... lr__alpha=0.4, lr__l1_ratio=1.0, score=-0.038, total=   0.2s\n",
      "[CV] lr__alpha=0.4, lr__l1_ratio=1.0 .................................\n",
      "[CV] .... lr__alpha=0.4, lr__l1_ratio=1.0, score=-0.041, total=   0.2s\n",
      "[CV] lr__alpha=0.5, lr__l1_ratio=0.0 .................................\n"
     ]
    },
    {
     "name": "stderr",
     "output_type": "stream",
     "text": [
      "/home/nata/PycharmProjects/venv/lib/python3.8/site-packages/sklearn/linear_model/_coordinate_descent.py:512: ConvergenceWarning: Objective did not converge. You might want to increase the number of iterations. Duality gap: 0.802969598911128, tolerance: 0.00017159976777939047\n",
      "  model = cd_fast.sparse_enet_coordinate_descent(\n"
     ]
    },
    {
     "name": "stdout",
     "output_type": "stream",
     "text": [
      "[CV] .... lr__alpha=0.5, lr__l1_ratio=0.0, score=-0.039, total=   0.7s\n",
      "[CV] lr__alpha=0.5, lr__l1_ratio=0.0 .................................\n"
     ]
    },
    {
     "name": "stderr",
     "output_type": "stream",
     "text": [
      "/home/nata/PycharmProjects/venv/lib/python3.8/site-packages/sklearn/linear_model/_coordinate_descent.py:512: ConvergenceWarning: Objective did not converge. You might want to increase the number of iterations. Duality gap: 0.8504449690802824, tolerance: 0.00017895117561683604\n",
      "  model = cd_fast.sparse_enet_coordinate_descent(\n"
     ]
    },
    {
     "name": "stdout",
     "output_type": "stream",
     "text": [
      "[CV] .... lr__alpha=0.5, lr__l1_ratio=0.0, score=-0.037, total=   0.7s\n",
      "[CV] lr__alpha=0.5, lr__l1_ratio=0.0 .................................\n"
     ]
    },
    {
     "name": "stderr",
     "output_type": "stream",
     "text": [
      "/home/nata/PycharmProjects/venv/lib/python3.8/site-packages/sklearn/linear_model/_coordinate_descent.py:512: ConvergenceWarning: Objective did not converge. You might want to increase the number of iterations. Duality gap: 0.8034829665699537, tolerance: 0.0001687153043478261\n",
      "  model = cd_fast.sparse_enet_coordinate_descent(\n"
     ]
    },
    {
     "name": "stdout",
     "output_type": "stream",
     "text": [
      "[CV] .... lr__alpha=0.5, lr__l1_ratio=0.0, score=-0.040, total=   0.7s\n",
      "[CV] lr__alpha=0.5, lr__l1_ratio=0.1 .................................\n",
      "[CV] .... lr__alpha=0.5, lr__l1_ratio=0.1, score=-0.040, total=   0.2s\n",
      "[CV] lr__alpha=0.5, lr__l1_ratio=0.1 .................................\n",
      "[CV] .... lr__alpha=0.5, lr__l1_ratio=0.1, score=-0.038, total=   0.2s\n",
      "[CV] lr__alpha=0.5, lr__l1_ratio=0.1 .................................\n",
      "[CV] .... lr__alpha=0.5, lr__l1_ratio=0.1, score=-0.041, total=   0.2s\n",
      "[CV] lr__alpha=0.5, lr__l1_ratio=0.2 .................................\n",
      "[CV] .... lr__alpha=0.5, lr__l1_ratio=0.2, score=-0.040, total=   0.2s\n",
      "[CV] lr__alpha=0.5, lr__l1_ratio=0.2 .................................\n",
      "[CV] .... lr__alpha=0.5, lr__l1_ratio=0.2, score=-0.038, total=   0.1s\n",
      "[CV] lr__alpha=0.5, lr__l1_ratio=0.2 .................................\n",
      "[CV] .... lr__alpha=0.5, lr__l1_ratio=0.2, score=-0.041, total=   0.2s\n",
      "[CV] lr__alpha=0.5, lr__l1_ratio=0.3 .................................\n",
      "[CV] .... lr__alpha=0.5, lr__l1_ratio=0.3, score=-0.040, total=   0.1s\n",
      "[CV] lr__alpha=0.5, lr__l1_ratio=0.3 .................................\n",
      "[CV] .... lr__alpha=0.5, lr__l1_ratio=0.3, score=-0.038, total=   0.2s\n",
      "[CV] lr__alpha=0.5, lr__l1_ratio=0.3 .................................\n",
      "[CV] .... lr__alpha=0.5, lr__l1_ratio=0.3, score=-0.041, total=   0.1s\n",
      "[CV] lr__alpha=0.5, lr__l1_ratio=0.4 .................................\n",
      "[CV] .... lr__alpha=0.5, lr__l1_ratio=0.4, score=-0.040, total=   0.2s\n",
      "[CV] lr__alpha=0.5, lr__l1_ratio=0.4 .................................\n",
      "[CV] .... lr__alpha=0.5, lr__l1_ratio=0.4, score=-0.038, total=   0.1s\n",
      "[CV] lr__alpha=0.5, lr__l1_ratio=0.4 .................................\n",
      "[CV] .... lr__alpha=0.5, lr__l1_ratio=0.4, score=-0.041, total=   0.2s\n",
      "[CV] lr__alpha=0.5, lr__l1_ratio=0.5 .................................\n",
      "[CV] .... lr__alpha=0.5, lr__l1_ratio=0.5, score=-0.040, total=   0.2s\n",
      "[CV] lr__alpha=0.5, lr__l1_ratio=0.5 .................................\n",
      "[CV] .... lr__alpha=0.5, lr__l1_ratio=0.5, score=-0.038, total=   0.2s\n",
      "[CV] lr__alpha=0.5, lr__l1_ratio=0.5 .................................\n",
      "[CV] .... lr__alpha=0.5, lr__l1_ratio=0.5, score=-0.041, total=   0.2s\n",
      "[CV] lr__alpha=0.5, lr__l1_ratio=0.6 .................................\n",
      "[CV] .... lr__alpha=0.5, lr__l1_ratio=0.6, score=-0.040, total=   0.2s\n",
      "[CV] lr__alpha=0.5, lr__l1_ratio=0.6 .................................\n",
      "[CV] .... lr__alpha=0.5, lr__l1_ratio=0.6, score=-0.038, total=   0.2s\n",
      "[CV] lr__alpha=0.5, lr__l1_ratio=0.6 .................................\n",
      "[CV] .... lr__alpha=0.5, lr__l1_ratio=0.6, score=-0.041, total=   0.2s\n",
      "[CV] lr__alpha=0.5, lr__l1_ratio=0.7 .................................\n",
      "[CV] .... lr__alpha=0.5, lr__l1_ratio=0.7, score=-0.040, total=   0.2s\n",
      "[CV] lr__alpha=0.5, lr__l1_ratio=0.7 .................................\n",
      "[CV] .... lr__alpha=0.5, lr__l1_ratio=0.7, score=-0.038, total=   0.2s\n",
      "[CV] lr__alpha=0.5, lr__l1_ratio=0.7 .................................\n",
      "[CV] .... lr__alpha=0.5, lr__l1_ratio=0.7, score=-0.041, total=   0.2s\n",
      "[CV] lr__alpha=0.5, lr__l1_ratio=0.8 .................................\n",
      "[CV] .... lr__alpha=0.5, lr__l1_ratio=0.8, score=-0.040, total=   0.2s\n",
      "[CV] lr__alpha=0.5, lr__l1_ratio=0.8 .................................\n",
      "[CV] .... lr__alpha=0.5, lr__l1_ratio=0.8, score=-0.038, total=   0.2s\n",
      "[CV] lr__alpha=0.5, lr__l1_ratio=0.8 .................................\n",
      "[CV] .... lr__alpha=0.5, lr__l1_ratio=0.8, score=-0.041, total=   0.2s\n",
      "[CV] lr__alpha=0.5, lr__l1_ratio=0.9 .................................\n",
      "[CV] .... lr__alpha=0.5, lr__l1_ratio=0.9, score=-0.040, total=   0.2s\n",
      "[CV] lr__alpha=0.5, lr__l1_ratio=0.9 .................................\n",
      "[CV] .... lr__alpha=0.5, lr__l1_ratio=0.9, score=-0.038, total=   0.2s\n",
      "[CV] lr__alpha=0.5, lr__l1_ratio=0.9 .................................\n",
      "[CV] .... lr__alpha=0.5, lr__l1_ratio=0.9, score=-0.041, total=   0.2s\n",
      "[CV] lr__alpha=0.5, lr__l1_ratio=1.0 .................................\n",
      "[CV] .... lr__alpha=0.5, lr__l1_ratio=1.0, score=-0.040, total=   0.2s\n",
      "[CV] lr__alpha=0.5, lr__l1_ratio=1.0 .................................\n",
      "[CV] .... lr__alpha=0.5, lr__l1_ratio=1.0, score=-0.038, total=   0.2s\n",
      "[CV] lr__alpha=0.5, lr__l1_ratio=1.0 .................................\n",
      "[CV] .... lr__alpha=0.5, lr__l1_ratio=1.0, score=-0.041, total=   0.2s\n",
      "[CV] lr__alpha=0.6, lr__l1_ratio=0.0 .................................\n"
     ]
    },
    {
     "name": "stderr",
     "output_type": "stream",
     "text": [
      "/home/nata/PycharmProjects/venv/lib/python3.8/site-packages/sklearn/linear_model/_coordinate_descent.py:512: ConvergenceWarning: Objective did not converge. You might want to increase the number of iterations. Duality gap: 0.8086515705735562, tolerance: 0.00017159976777939047\n",
      "  model = cd_fast.sparse_enet_coordinate_descent(\n"
     ]
    },
    {
     "name": "stdout",
     "output_type": "stream",
     "text": [
      "[CV] .... lr__alpha=0.6, lr__l1_ratio=0.0, score=-0.039, total=   0.8s\n",
      "[CV] lr__alpha=0.6, lr__l1_ratio=0.0 .................................\n"
     ]
    },
    {
     "name": "stderr",
     "output_type": "stream",
     "text": [
      "/home/nata/PycharmProjects/venv/lib/python3.8/site-packages/sklearn/linear_model/_coordinate_descent.py:512: ConvergenceWarning: Objective did not converge. You might want to increase the number of iterations. Duality gap: 0.8551938815510381, tolerance: 0.00017895117561683604\n",
      "  model = cd_fast.sparse_enet_coordinate_descent(\n"
     ]
    },
    {
     "name": "stdout",
     "output_type": "stream",
     "text": [
      "[CV] .... lr__alpha=0.6, lr__l1_ratio=0.0, score=-0.037, total=   0.8s\n",
      "[CV] lr__alpha=0.6, lr__l1_ratio=0.0 .................................\n"
     ]
    },
    {
     "name": "stderr",
     "output_type": "stream",
     "text": [
      "/home/nata/PycharmProjects/venv/lib/python3.8/site-packages/sklearn/linear_model/_coordinate_descent.py:512: ConvergenceWarning: Objective did not converge. You might want to increase the number of iterations. Duality gap: 0.807869385596395, tolerance: 0.0001687153043478261\n",
      "  model = cd_fast.sparse_enet_coordinate_descent(\n"
     ]
    },
    {
     "name": "stdout",
     "output_type": "stream",
     "text": [
      "[CV] .... lr__alpha=0.6, lr__l1_ratio=0.0, score=-0.040, total=   0.8s\n",
      "[CV] lr__alpha=0.6, lr__l1_ratio=0.1 .................................\n",
      "[CV] .... lr__alpha=0.6, lr__l1_ratio=0.1, score=-0.040, total=   0.2s\n",
      "[CV] lr__alpha=0.6, lr__l1_ratio=0.1 .................................\n",
      "[CV] .... lr__alpha=0.6, lr__l1_ratio=0.1, score=-0.038, total=   0.2s\n",
      "[CV] lr__alpha=0.6, lr__l1_ratio=0.1 .................................\n",
      "[CV] .... lr__alpha=0.6, lr__l1_ratio=0.1, score=-0.041, total=   0.2s\n",
      "[CV] lr__alpha=0.6, lr__l1_ratio=0.2 .................................\n",
      "[CV] .... lr__alpha=0.6, lr__l1_ratio=0.2, score=-0.040, total=   0.2s\n",
      "[CV] lr__alpha=0.6, lr__l1_ratio=0.2 .................................\n",
      "[CV] .... lr__alpha=0.6, lr__l1_ratio=0.2, score=-0.038, total=   0.2s\n",
      "[CV] lr__alpha=0.6, lr__l1_ratio=0.2 .................................\n",
      "[CV] .... lr__alpha=0.6, lr__l1_ratio=0.2, score=-0.041, total=   0.2s\n",
      "[CV] lr__alpha=0.6, lr__l1_ratio=0.3 .................................\n",
      "[CV] .... lr__alpha=0.6, lr__l1_ratio=0.3, score=-0.040, total=   0.2s\n",
      "[CV] lr__alpha=0.6, lr__l1_ratio=0.3 .................................\n",
      "[CV] .... lr__alpha=0.6, lr__l1_ratio=0.3, score=-0.038, total=   0.2s\n",
      "[CV] lr__alpha=0.6, lr__l1_ratio=0.3 .................................\n",
      "[CV] .... lr__alpha=0.6, lr__l1_ratio=0.3, score=-0.041, total=   0.2s\n",
      "[CV] lr__alpha=0.6, lr__l1_ratio=0.4 .................................\n",
      "[CV] .... lr__alpha=0.6, lr__l1_ratio=0.4, score=-0.040, total=   0.2s\n",
      "[CV] lr__alpha=0.6, lr__l1_ratio=0.4 .................................\n",
      "[CV] .... lr__alpha=0.6, lr__l1_ratio=0.4, score=-0.038, total=   0.2s\n",
      "[CV] lr__alpha=0.6, lr__l1_ratio=0.4 .................................\n",
      "[CV] .... lr__alpha=0.6, lr__l1_ratio=0.4, score=-0.041, total=   0.2s\n",
      "[CV] lr__alpha=0.6, lr__l1_ratio=0.5 .................................\n",
      "[CV] .... lr__alpha=0.6, lr__l1_ratio=0.5, score=-0.040, total=   0.2s\n",
      "[CV] lr__alpha=0.6, lr__l1_ratio=0.5 .................................\n",
      "[CV] .... lr__alpha=0.6, lr__l1_ratio=0.5, score=-0.038, total=   0.1s\n",
      "[CV] lr__alpha=0.6, lr__l1_ratio=0.5 .................................\n",
      "[CV] .... lr__alpha=0.6, lr__l1_ratio=0.5, score=-0.041, total=   0.2s\n",
      "[CV] lr__alpha=0.6, lr__l1_ratio=0.6 .................................\n",
      "[CV] .... lr__alpha=0.6, lr__l1_ratio=0.6, score=-0.040, total=   0.1s\n",
      "[CV] lr__alpha=0.6, lr__l1_ratio=0.6 .................................\n",
      "[CV] .... lr__alpha=0.6, lr__l1_ratio=0.6, score=-0.038, total=   0.2s\n",
      "[CV] lr__alpha=0.6, lr__l1_ratio=0.6 .................................\n",
      "[CV] .... lr__alpha=0.6, lr__l1_ratio=0.6, score=-0.041, total=   0.2s\n",
      "[CV] lr__alpha=0.6, lr__l1_ratio=0.7 .................................\n",
      "[CV] .... lr__alpha=0.6, lr__l1_ratio=0.7, score=-0.040, total=   0.2s\n",
      "[CV] lr__alpha=0.6, lr__l1_ratio=0.7 .................................\n",
      "[CV] .... lr__alpha=0.6, lr__l1_ratio=0.7, score=-0.038, total=   0.1s\n",
      "[CV] lr__alpha=0.6, lr__l1_ratio=0.7 .................................\n",
      "[CV] .... lr__alpha=0.6, lr__l1_ratio=0.7, score=-0.041, total=   0.2s\n",
      "[CV] lr__alpha=0.6, lr__l1_ratio=0.8 .................................\n",
      "[CV] .... lr__alpha=0.6, lr__l1_ratio=0.8, score=-0.040, total=   0.1s\n",
      "[CV] lr__alpha=0.6, lr__l1_ratio=0.8 .................................\n",
      "[CV] .... lr__alpha=0.6, lr__l1_ratio=0.8, score=-0.038, total=   0.2s\n",
      "[CV] lr__alpha=0.6, lr__l1_ratio=0.8 .................................\n",
      "[CV] .... lr__alpha=0.6, lr__l1_ratio=0.8, score=-0.041, total=   0.2s\n",
      "[CV] lr__alpha=0.6, lr__l1_ratio=0.9 .................................\n",
      "[CV] .... lr__alpha=0.6, lr__l1_ratio=0.9, score=-0.040, total=   0.2s\n",
      "[CV] lr__alpha=0.6, lr__l1_ratio=0.9 .................................\n",
      "[CV] .... lr__alpha=0.6, lr__l1_ratio=0.9, score=-0.038, total=   0.2s\n",
      "[CV] lr__alpha=0.6, lr__l1_ratio=0.9 .................................\n",
      "[CV] .... lr__alpha=0.6, lr__l1_ratio=0.9, score=-0.041, total=   0.2s\n",
      "[CV] lr__alpha=0.6, lr__l1_ratio=1.0 .................................\n",
      "[CV] .... lr__alpha=0.6, lr__l1_ratio=1.0, score=-0.040, total=   0.1s\n",
      "[CV] lr__alpha=0.6, lr__l1_ratio=1.0 .................................\n",
      "[CV] .... lr__alpha=0.6, lr__l1_ratio=1.0, score=-0.038, total=   0.2s\n",
      "[CV] lr__alpha=0.6, lr__l1_ratio=1.0 .................................\n",
      "[CV] .... lr__alpha=0.6, lr__l1_ratio=1.0, score=-0.041, total=   0.2s\n",
      "[CV] lr__alpha=0.7, lr__l1_ratio=0.0 .................................\n"
     ]
    },
    {
     "name": "stderr",
     "output_type": "stream",
     "text": [
      "/home/nata/PycharmProjects/venv/lib/python3.8/site-packages/sklearn/linear_model/_coordinate_descent.py:512: ConvergenceWarning: Objective did not converge. You might want to increase the number of iterations. Duality gap: 0.8132081600286051, tolerance: 0.00017159976777939047\n",
      "  model = cd_fast.sparse_enet_coordinate_descent(\n"
     ]
    },
    {
     "name": "stdout",
     "output_type": "stream",
     "text": [
      "[CV] .... lr__alpha=0.7, lr__l1_ratio=0.0, score=-0.039, total=   0.8s\n",
      "[CV] lr__alpha=0.7, lr__l1_ratio=0.0 .................................\n"
     ]
    },
    {
     "name": "stderr",
     "output_type": "stream",
     "text": [
      "/home/nata/PycharmProjects/venv/lib/python3.8/site-packages/sklearn/linear_model/_coordinate_descent.py:512: ConvergenceWarning: Objective did not converge. You might want to increase the number of iterations. Duality gap: 0.8589720694240187, tolerance: 0.00017895117561683604\n",
      "  model = cd_fast.sparse_enet_coordinate_descent(\n"
     ]
    },
    {
     "name": "stdout",
     "output_type": "stream",
     "text": [
      "[CV] .... lr__alpha=0.7, lr__l1_ratio=0.0, score=-0.037, total=   0.9s\n",
      "[CV] lr__alpha=0.7, lr__l1_ratio=0.0 .................................\n"
     ]
    },
    {
     "name": "stderr",
     "output_type": "stream",
     "text": [
      "/home/nata/PycharmProjects/venv/lib/python3.8/site-packages/sklearn/linear_model/_coordinate_descent.py:512: ConvergenceWarning: Objective did not converge. You might want to increase the number of iterations. Duality gap: 0.8113600638300293, tolerance: 0.0001687153043478261\n",
      "  model = cd_fast.sparse_enet_coordinate_descent(\n"
     ]
    },
    {
     "name": "stdout",
     "output_type": "stream",
     "text": [
      "[CV] .... lr__alpha=0.7, lr__l1_ratio=0.0, score=-0.040, total=   0.8s\n",
      "[CV] lr__alpha=0.7, lr__l1_ratio=0.1 .................................\n",
      "[CV] .... lr__alpha=0.7, lr__l1_ratio=0.1, score=-0.040, total=   0.2s\n",
      "[CV] lr__alpha=0.7, lr__l1_ratio=0.1 .................................\n",
      "[CV] .... lr__alpha=0.7, lr__l1_ratio=0.1, score=-0.038, total=   0.2s\n",
      "[CV] lr__alpha=0.7, lr__l1_ratio=0.1 .................................\n",
      "[CV] .... lr__alpha=0.7, lr__l1_ratio=0.1, score=-0.041, total=   0.2s\n",
      "[CV] lr__alpha=0.7, lr__l1_ratio=0.2 .................................\n",
      "[CV] .... lr__alpha=0.7, lr__l1_ratio=0.2, score=-0.040, total=   0.2s\n",
      "[CV] lr__alpha=0.7, lr__l1_ratio=0.2 .................................\n",
      "[CV] .... lr__alpha=0.7, lr__l1_ratio=0.2, score=-0.038, total=   0.2s\n",
      "[CV] lr__alpha=0.7, lr__l1_ratio=0.2 .................................\n",
      "[CV] .... lr__alpha=0.7, lr__l1_ratio=0.2, score=-0.041, total=   0.2s\n",
      "[CV] lr__alpha=0.7, lr__l1_ratio=0.3 .................................\n",
      "[CV] .... lr__alpha=0.7, lr__l1_ratio=0.3, score=-0.040, total=   0.2s\n",
      "[CV] lr__alpha=0.7, lr__l1_ratio=0.3 .................................\n",
      "[CV] .... lr__alpha=0.7, lr__l1_ratio=0.3, score=-0.038, total=   0.2s\n",
      "[CV] lr__alpha=0.7, lr__l1_ratio=0.3 .................................\n",
      "[CV] .... lr__alpha=0.7, lr__l1_ratio=0.3, score=-0.041, total=   0.1s\n",
      "[CV] lr__alpha=0.7, lr__l1_ratio=0.4 .................................\n",
      "[CV] .... lr__alpha=0.7, lr__l1_ratio=0.4, score=-0.040, total=   0.2s\n",
      "[CV] lr__alpha=0.7, lr__l1_ratio=0.4 .................................\n",
      "[CV] .... lr__alpha=0.7, lr__l1_ratio=0.4, score=-0.038, total=   0.1s\n",
      "[CV] lr__alpha=0.7, lr__l1_ratio=0.4 .................................\n",
      "[CV] .... lr__alpha=0.7, lr__l1_ratio=0.4, score=-0.041, total=   0.2s\n",
      "[CV] lr__alpha=0.7, lr__l1_ratio=0.5 .................................\n",
      "[CV] .... lr__alpha=0.7, lr__l1_ratio=0.5, score=-0.040, total=   0.2s\n",
      "[CV] lr__alpha=0.7, lr__l1_ratio=0.5 .................................\n",
      "[CV] .... lr__alpha=0.7, lr__l1_ratio=0.5, score=-0.038, total=   0.2s\n",
      "[CV] lr__alpha=0.7, lr__l1_ratio=0.5 .................................\n",
      "[CV] .... lr__alpha=0.7, lr__l1_ratio=0.5, score=-0.041, total=   0.2s\n",
      "[CV] lr__alpha=0.7, lr__l1_ratio=0.6 .................................\n",
      "[CV] .... lr__alpha=0.7, lr__l1_ratio=0.6, score=-0.040, total=   0.2s\n",
      "[CV] lr__alpha=0.7, lr__l1_ratio=0.6 .................................\n",
      "[CV] .... lr__alpha=0.7, lr__l1_ratio=0.6, score=-0.038, total=   0.2s\n",
      "[CV] lr__alpha=0.7, lr__l1_ratio=0.6 .................................\n",
      "[CV] .... lr__alpha=0.7, lr__l1_ratio=0.6, score=-0.041, total=   0.2s\n",
      "[CV] lr__alpha=0.7, lr__l1_ratio=0.7 .................................\n",
      "[CV] .... lr__alpha=0.7, lr__l1_ratio=0.7, score=-0.040, total=   0.2s\n",
      "[CV] lr__alpha=0.7, lr__l1_ratio=0.7 .................................\n",
      "[CV] .... lr__alpha=0.7, lr__l1_ratio=0.7, score=-0.038, total=   0.2s\n",
      "[CV] lr__alpha=0.7, lr__l1_ratio=0.7 .................................\n",
      "[CV] .... lr__alpha=0.7, lr__l1_ratio=0.7, score=-0.041, total=   0.2s\n",
      "[CV] lr__alpha=0.7, lr__l1_ratio=0.8 .................................\n",
      "[CV] .... lr__alpha=0.7, lr__l1_ratio=0.8, score=-0.040, total=   0.2s\n",
      "[CV] lr__alpha=0.7, lr__l1_ratio=0.8 .................................\n",
      "[CV] .... lr__alpha=0.7, lr__l1_ratio=0.8, score=-0.038, total=   0.2s\n",
      "[CV] lr__alpha=0.7, lr__l1_ratio=0.8 .................................\n",
      "[CV] .... lr__alpha=0.7, lr__l1_ratio=0.8, score=-0.041, total=   0.2s\n",
      "[CV] lr__alpha=0.7, lr__l1_ratio=0.9 .................................\n",
      "[CV] .... lr__alpha=0.7, lr__l1_ratio=0.9, score=-0.040, total=   0.2s\n",
      "[CV] lr__alpha=0.7, lr__l1_ratio=0.9 .................................\n",
      "[CV] .... lr__alpha=0.7, lr__l1_ratio=0.9, score=-0.038, total=   0.2s\n",
      "[CV] lr__alpha=0.7, lr__l1_ratio=0.9 .................................\n",
      "[CV] .... lr__alpha=0.7, lr__l1_ratio=0.9, score=-0.041, total=   0.2s\n",
      "[CV] lr__alpha=0.7, lr__l1_ratio=1.0 .................................\n",
      "[CV] .... lr__alpha=0.7, lr__l1_ratio=1.0, score=-0.040, total=   0.2s\n",
      "[CV] lr__alpha=0.7, lr__l1_ratio=1.0 .................................\n",
      "[CV] .... lr__alpha=0.7, lr__l1_ratio=1.0, score=-0.038, total=   0.2s\n",
      "[CV] lr__alpha=0.7, lr__l1_ratio=1.0 .................................\n",
      "[CV] .... lr__alpha=0.7, lr__l1_ratio=1.0, score=-0.041, total=   0.2s\n",
      "[CV] lr__alpha=0.8, lr__l1_ratio=0.0 .................................\n"
     ]
    },
    {
     "name": "stderr",
     "output_type": "stream",
     "text": [
      "/home/nata/PycharmProjects/venv/lib/python3.8/site-packages/sklearn/linear_model/_coordinate_descent.py:512: ConvergenceWarning: Objective did not converge. You might want to increase the number of iterations. Duality gap: 0.8169562603872564, tolerance: 0.00017159976777939047\n",
      "  model = cd_fast.sparse_enet_coordinate_descent(\n"
     ]
    },
    {
     "name": "stdout",
     "output_type": "stream",
     "text": [
      "[CV] .... lr__alpha=0.8, lr__l1_ratio=0.0, score=-0.039, total=   0.7s\n",
      "[CV] lr__alpha=0.8, lr__l1_ratio=0.0 .................................\n"
     ]
    },
    {
     "name": "stderr",
     "output_type": "stream",
     "text": [
      "/home/nata/PycharmProjects/venv/lib/python3.8/site-packages/sklearn/linear_model/_coordinate_descent.py:512: ConvergenceWarning: Objective did not converge. You might want to increase the number of iterations. Duality gap: 0.8620595477165817, tolerance: 0.00017895117561683604\n",
      "  model = cd_fast.sparse_enet_coordinate_descent(\n"
     ]
    },
    {
     "name": "stdout",
     "output_type": "stream",
     "text": [
      "[CV] .... lr__alpha=0.8, lr__l1_ratio=0.0, score=-0.038, total=   0.7s\n",
      "[CV] lr__alpha=0.8, lr__l1_ratio=0.0 .................................\n"
     ]
    },
    {
     "name": "stderr",
     "output_type": "stream",
     "text": [
      "/home/nata/PycharmProjects/venv/lib/python3.8/site-packages/sklearn/linear_model/_coordinate_descent.py:512: ConvergenceWarning: Objective did not converge. You might want to increase the number of iterations. Duality gap: 0.8142105700866574, tolerance: 0.0001687153043478261\n",
      "  model = cd_fast.sparse_enet_coordinate_descent(\n"
     ]
    },
    {
     "name": "stdout",
     "output_type": "stream",
     "text": [
      "[CV] .... lr__alpha=0.8, lr__l1_ratio=0.0, score=-0.040, total=   0.7s\n",
      "[CV] lr__alpha=0.8, lr__l1_ratio=0.1 .................................\n",
      "[CV] .... lr__alpha=0.8, lr__l1_ratio=0.1, score=-0.040, total=   0.2s\n",
      "[CV] lr__alpha=0.8, lr__l1_ratio=0.1 .................................\n",
      "[CV] .... lr__alpha=0.8, lr__l1_ratio=0.1, score=-0.038, total=   0.2s\n",
      "[CV] lr__alpha=0.8, lr__l1_ratio=0.1 .................................\n",
      "[CV] .... lr__alpha=0.8, lr__l1_ratio=0.1, score=-0.041, total=   0.2s\n",
      "[CV] lr__alpha=0.8, lr__l1_ratio=0.2 .................................\n",
      "[CV] .... lr__alpha=0.8, lr__l1_ratio=0.2, score=-0.040, total=   0.2s\n",
      "[CV] lr__alpha=0.8, lr__l1_ratio=0.2 .................................\n",
      "[CV] .... lr__alpha=0.8, lr__l1_ratio=0.2, score=-0.038, total=   0.2s\n",
      "[CV] lr__alpha=0.8, lr__l1_ratio=0.2 .................................\n",
      "[CV] .... lr__alpha=0.8, lr__l1_ratio=0.2, score=-0.041, total=   0.2s\n",
      "[CV] lr__alpha=0.8, lr__l1_ratio=0.3 .................................\n",
      "[CV] .... lr__alpha=0.8, lr__l1_ratio=0.3, score=-0.040, total=   0.2s\n",
      "[CV] lr__alpha=0.8, lr__l1_ratio=0.3 .................................\n",
      "[CV] .... lr__alpha=0.8, lr__l1_ratio=0.3, score=-0.038, total=   0.2s\n",
      "[CV] lr__alpha=0.8, lr__l1_ratio=0.3 .................................\n",
      "[CV] .... lr__alpha=0.8, lr__l1_ratio=0.3, score=-0.041, total=   0.2s\n",
      "[CV] lr__alpha=0.8, lr__l1_ratio=0.4 .................................\n",
      "[CV] .... lr__alpha=0.8, lr__l1_ratio=0.4, score=-0.040, total=   0.2s\n",
      "[CV] lr__alpha=0.8, lr__l1_ratio=0.4 .................................\n",
      "[CV] .... lr__alpha=0.8, lr__l1_ratio=0.4, score=-0.038, total=   0.1s\n",
      "[CV] lr__alpha=0.8, lr__l1_ratio=0.4 .................................\n",
      "[CV] .... lr__alpha=0.8, lr__l1_ratio=0.4, score=-0.041, total=   0.2s\n",
      "[CV] lr__alpha=0.8, lr__l1_ratio=0.5 .................................\n",
      "[CV] .... lr__alpha=0.8, lr__l1_ratio=0.5, score=-0.040, total=   0.2s\n",
      "[CV] lr__alpha=0.8, lr__l1_ratio=0.5 .................................\n",
      "[CV] .... lr__alpha=0.8, lr__l1_ratio=0.5, score=-0.038, total=   0.2s\n",
      "[CV] lr__alpha=0.8, lr__l1_ratio=0.5 .................................\n",
      "[CV] .... lr__alpha=0.8, lr__l1_ratio=0.5, score=-0.041, total=   0.2s\n",
      "[CV] lr__alpha=0.8, lr__l1_ratio=0.6 .................................\n",
      "[CV] .... lr__alpha=0.8, lr__l1_ratio=0.6, score=-0.040, total=   0.2s\n",
      "[CV] lr__alpha=0.8, lr__l1_ratio=0.6 .................................\n",
      "[CV] .... lr__alpha=0.8, lr__l1_ratio=0.6, score=-0.038, total=   0.2s\n",
      "[CV] lr__alpha=0.8, lr__l1_ratio=0.6 .................................\n",
      "[CV] .... lr__alpha=0.8, lr__l1_ratio=0.6, score=-0.041, total=   0.2s\n",
      "[CV] lr__alpha=0.8, lr__l1_ratio=0.7 .................................\n",
      "[CV] .... lr__alpha=0.8, lr__l1_ratio=0.7, score=-0.040, total=   0.2s\n",
      "[CV] lr__alpha=0.8, lr__l1_ratio=0.7 .................................\n",
      "[CV] .... lr__alpha=0.8, lr__l1_ratio=0.7, score=-0.038, total=   0.2s\n",
      "[CV] lr__alpha=0.8, lr__l1_ratio=0.7 .................................\n",
      "[CV] .... lr__alpha=0.8, lr__l1_ratio=0.7, score=-0.041, total=   0.2s\n",
      "[CV] lr__alpha=0.8, lr__l1_ratio=0.8 .................................\n",
      "[CV] .... lr__alpha=0.8, lr__l1_ratio=0.8, score=-0.040, total=   0.2s\n",
      "[CV] lr__alpha=0.8, lr__l1_ratio=0.8 .................................\n",
      "[CV] .... lr__alpha=0.8, lr__l1_ratio=0.8, score=-0.038, total=   0.2s\n",
      "[CV] lr__alpha=0.8, lr__l1_ratio=0.8 .................................\n",
      "[CV] .... lr__alpha=0.8, lr__l1_ratio=0.8, score=-0.041, total=   0.2s\n",
      "[CV] lr__alpha=0.8, lr__l1_ratio=0.9 .................................\n",
      "[CV] .... lr__alpha=0.8, lr__l1_ratio=0.9, score=-0.040, total=   0.2s\n",
      "[CV] lr__alpha=0.8, lr__l1_ratio=0.9 .................................\n",
      "[CV] .... lr__alpha=0.8, lr__l1_ratio=0.9, score=-0.038, total=   0.2s\n",
      "[CV] lr__alpha=0.8, lr__l1_ratio=0.9 .................................\n",
      "[CV] .... lr__alpha=0.8, lr__l1_ratio=0.9, score=-0.041, total=   0.3s\n",
      "[CV] lr__alpha=0.8, lr__l1_ratio=1.0 .................................\n",
      "[CV] .... lr__alpha=0.8, lr__l1_ratio=1.0, score=-0.040, total=   0.2s\n",
      "[CV] lr__alpha=0.8, lr__l1_ratio=1.0 .................................\n",
      "[CV] .... lr__alpha=0.8, lr__l1_ratio=1.0, score=-0.038, total=   0.2s\n",
      "[CV] lr__alpha=0.8, lr__l1_ratio=1.0 .................................\n",
      "[CV] .... lr__alpha=0.8, lr__l1_ratio=1.0, score=-0.041, total=   0.2s\n",
      "[CV] lr__alpha=0.9, lr__l1_ratio=0.0 .................................\n"
     ]
    },
    {
     "name": "stderr",
     "output_type": "stream",
     "text": [
      "/home/nata/PycharmProjects/venv/lib/python3.8/site-packages/sklearn/linear_model/_coordinate_descent.py:512: ConvergenceWarning: Objective did not converge. You might want to increase the number of iterations. Duality gap: 0.8201006073148001, tolerance: 0.00017159976777939047\n",
      "  model = cd_fast.sparse_enet_coordinate_descent(\n"
     ]
    },
    {
     "name": "stdout",
     "output_type": "stream",
     "text": [
      "[CV] .... lr__alpha=0.9, lr__l1_ratio=0.0, score=-0.039, total=   0.7s\n",
      "[CV] lr__alpha=0.9, lr__l1_ratio=0.0 .................................\n"
     ]
    },
    {
     "name": "stderr",
     "output_type": "stream",
     "text": [
      "/home/nata/PycharmProjects/venv/lib/python3.8/site-packages/sklearn/linear_model/_coordinate_descent.py:512: ConvergenceWarning: Objective did not converge. You might want to increase the number of iterations. Duality gap: 0.8646355128733931, tolerance: 0.00017895117561683604\n",
      "  model = cd_fast.sparse_enet_coordinate_descent(\n"
     ]
    },
    {
     "name": "stdout",
     "output_type": "stream",
     "text": [
      "[CV] .... lr__alpha=0.9, lr__l1_ratio=0.0, score=-0.038, total=   0.7s\n",
      "[CV] lr__alpha=0.9, lr__l1_ratio=0.0 .................................\n"
     ]
    },
    {
     "name": "stderr",
     "output_type": "stream",
     "text": [
      "/home/nata/PycharmProjects/venv/lib/python3.8/site-packages/sklearn/linear_model/_coordinate_descent.py:512: ConvergenceWarning: Objective did not converge. You might want to increase the number of iterations. Duality gap: 0.8165858194027708, tolerance: 0.0001687153043478261\n",
      "  model = cd_fast.sparse_enet_coordinate_descent(\n"
     ]
    },
    {
     "name": "stdout",
     "output_type": "stream",
     "text": [
      "[CV] .... lr__alpha=0.9, lr__l1_ratio=0.0, score=-0.040, total=   0.7s\n",
      "[CV] lr__alpha=0.9, lr__l1_ratio=0.1 .................................\n",
      "[CV] .... lr__alpha=0.9, lr__l1_ratio=0.1, score=-0.040, total=   0.1s\n",
      "[CV] lr__alpha=0.9, lr__l1_ratio=0.1 .................................\n",
      "[CV] .... lr__alpha=0.9, lr__l1_ratio=0.1, score=-0.038, total=   0.2s\n",
      "[CV] lr__alpha=0.9, lr__l1_ratio=0.1 .................................\n",
      "[CV] .... lr__alpha=0.9, lr__l1_ratio=0.1, score=-0.041, total=   0.2s\n",
      "[CV] lr__alpha=0.9, lr__l1_ratio=0.2 .................................\n",
      "[CV] .... lr__alpha=0.9, lr__l1_ratio=0.2, score=-0.040, total=   0.2s\n",
      "[CV] lr__alpha=0.9, lr__l1_ratio=0.2 .................................\n",
      "[CV] .... lr__alpha=0.9, lr__l1_ratio=0.2, score=-0.038, total=   0.2s\n",
      "[CV] lr__alpha=0.9, lr__l1_ratio=0.2 .................................\n",
      "[CV] .... lr__alpha=0.9, lr__l1_ratio=0.2, score=-0.041, total=   0.2s\n",
      "[CV] lr__alpha=0.9, lr__l1_ratio=0.3 .................................\n",
      "[CV] .... lr__alpha=0.9, lr__l1_ratio=0.3, score=-0.040, total=   0.2s\n",
      "[CV] lr__alpha=0.9, lr__l1_ratio=0.3 .................................\n",
      "[CV] .... lr__alpha=0.9, lr__l1_ratio=0.3, score=-0.038, total=   0.2s\n",
      "[CV] lr__alpha=0.9, lr__l1_ratio=0.3 .................................\n",
      "[CV] .... lr__alpha=0.9, lr__l1_ratio=0.3, score=-0.041, total=   0.2s\n",
      "[CV] lr__alpha=0.9, lr__l1_ratio=0.4 .................................\n",
      "[CV] .... lr__alpha=0.9, lr__l1_ratio=0.4, score=-0.040, total=   0.2s\n",
      "[CV] lr__alpha=0.9, lr__l1_ratio=0.4 .................................\n",
      "[CV] .... lr__alpha=0.9, lr__l1_ratio=0.4, score=-0.038, total=   0.2s\n",
      "[CV] lr__alpha=0.9, lr__l1_ratio=0.4 .................................\n",
      "[CV] .... lr__alpha=0.9, lr__l1_ratio=0.4, score=-0.041, total=   0.2s\n",
      "[CV] lr__alpha=0.9, lr__l1_ratio=0.5 .................................\n",
      "[CV] .... lr__alpha=0.9, lr__l1_ratio=0.5, score=-0.040, total=   0.2s\n",
      "[CV] lr__alpha=0.9, lr__l1_ratio=0.5 .................................\n",
      "[CV] .... lr__alpha=0.9, lr__l1_ratio=0.5, score=-0.038, total=   0.2s\n",
      "[CV] lr__alpha=0.9, lr__l1_ratio=0.5 .................................\n",
      "[CV] .... lr__alpha=0.9, lr__l1_ratio=0.5, score=-0.041, total=   0.2s\n",
      "[CV] lr__alpha=0.9, lr__l1_ratio=0.6 .................................\n",
      "[CV] .... lr__alpha=0.9, lr__l1_ratio=0.6, score=-0.040, total=   0.2s\n",
      "[CV] lr__alpha=0.9, lr__l1_ratio=0.6 .................................\n",
      "[CV] .... lr__alpha=0.9, lr__l1_ratio=0.6, score=-0.038, total=   0.3s\n",
      "[CV] lr__alpha=0.9, lr__l1_ratio=0.6 .................................\n",
      "[CV] .... lr__alpha=0.9, lr__l1_ratio=0.6, score=-0.041, total=   0.2s\n",
      "[CV] lr__alpha=0.9, lr__l1_ratio=0.7 .................................\n",
      "[CV] .... lr__alpha=0.9, lr__l1_ratio=0.7, score=-0.040, total=   0.2s\n",
      "[CV] lr__alpha=0.9, lr__l1_ratio=0.7 .................................\n",
      "[CV] .... lr__alpha=0.9, lr__l1_ratio=0.7, score=-0.038, total=   0.2s\n",
      "[CV] lr__alpha=0.9, lr__l1_ratio=0.7 .................................\n",
      "[CV] .... lr__alpha=0.9, lr__l1_ratio=0.7, score=-0.041, total=   0.2s\n",
      "[CV] lr__alpha=0.9, lr__l1_ratio=0.8 .................................\n",
      "[CV] .... lr__alpha=0.9, lr__l1_ratio=0.8, score=-0.040, total=   0.2s\n",
      "[CV] lr__alpha=0.9, lr__l1_ratio=0.8 .................................\n",
      "[CV] .... lr__alpha=0.9, lr__l1_ratio=0.8, score=-0.038, total=   0.2s\n",
      "[CV] lr__alpha=0.9, lr__l1_ratio=0.8 .................................\n",
      "[CV] .... lr__alpha=0.9, lr__l1_ratio=0.8, score=-0.041, total=   0.2s\n",
      "[CV] lr__alpha=0.9, lr__l1_ratio=0.9 .................................\n",
      "[CV] .... lr__alpha=0.9, lr__l1_ratio=0.9, score=-0.040, total=   0.2s\n",
      "[CV] lr__alpha=0.9, lr__l1_ratio=0.9 .................................\n",
      "[CV] .... lr__alpha=0.9, lr__l1_ratio=0.9, score=-0.038, total=   0.2s\n",
      "[CV] lr__alpha=0.9, lr__l1_ratio=0.9 .................................\n",
      "[CV] .... lr__alpha=0.9, lr__l1_ratio=0.9, score=-0.041, total=   0.2s\n",
      "[CV] lr__alpha=0.9, lr__l1_ratio=1.0 .................................\n",
      "[CV] .... lr__alpha=0.9, lr__l1_ratio=1.0, score=-0.040, total=   0.2s\n",
      "[CV] lr__alpha=0.9, lr__l1_ratio=1.0 .................................\n",
      "[CV] .... lr__alpha=0.9, lr__l1_ratio=1.0, score=-0.038, total=   0.2s\n",
      "[CV] lr__alpha=0.9, lr__l1_ratio=1.0 .................................\n",
      "[CV] .... lr__alpha=0.9, lr__l1_ratio=1.0, score=-0.041, total=   0.2s\n",
      "[CV] lr__alpha=1.0, lr__l1_ratio=0.0 .................................\n"
     ]
    },
    {
     "name": "stderr",
     "output_type": "stream",
     "text": [
      "/home/nata/PycharmProjects/venv/lib/python3.8/site-packages/sklearn/linear_model/_coordinate_descent.py:512: ConvergenceWarning: Objective did not converge. You might want to increase the number of iterations. Duality gap: 0.8227804418974437, tolerance: 0.00017159976777939047\n",
      "  model = cd_fast.sparse_enet_coordinate_descent(\n"
     ]
    },
    {
     "name": "stdout",
     "output_type": "stream",
     "text": [
      "[CV] .... lr__alpha=1.0, lr__l1_ratio=0.0, score=-0.039, total=   0.7s\n",
      "[CV] lr__alpha=1.0, lr__l1_ratio=0.0 .................................\n"
     ]
    },
    {
     "name": "stderr",
     "output_type": "stream",
     "text": [
      "/home/nata/PycharmProjects/venv/lib/python3.8/site-packages/sklearn/linear_model/_coordinate_descent.py:512: ConvergenceWarning: Objective did not converge. You might want to increase the number of iterations. Duality gap: 0.8668207725668988, tolerance: 0.00017895117561683604\n",
      "  model = cd_fast.sparse_enet_coordinate_descent(\n"
     ]
    },
    {
     "name": "stdout",
     "output_type": "stream",
     "text": [
      "[CV] .... lr__alpha=1.0, lr__l1_ratio=0.0, score=-0.038, total=   0.7s\n",
      "[CV] lr__alpha=1.0, lr__l1_ratio=0.0 .................................\n"
     ]
    },
    {
     "name": "stderr",
     "output_type": "stream",
     "text": [
      "/home/nata/PycharmProjects/venv/lib/python3.8/site-packages/sklearn/linear_model/_coordinate_descent.py:512: ConvergenceWarning: Objective did not converge. You might want to increase the number of iterations. Duality gap: 0.8185976274420002, tolerance: 0.0001687153043478261\n",
      "  model = cd_fast.sparse_enet_coordinate_descent(\n"
     ]
    },
    {
     "name": "stdout",
     "output_type": "stream",
     "text": [
      "[CV] .... lr__alpha=1.0, lr__l1_ratio=0.0, score=-0.040, total=   0.7s\n",
      "[CV] lr__alpha=1.0, lr__l1_ratio=0.1 .................................\n",
      "[CV] .... lr__alpha=1.0, lr__l1_ratio=0.1, score=-0.040, total=   0.2s\n",
      "[CV] lr__alpha=1.0, lr__l1_ratio=0.1 .................................\n",
      "[CV] .... lr__alpha=1.0, lr__l1_ratio=0.1, score=-0.038, total=   0.2s\n",
      "[CV] lr__alpha=1.0, lr__l1_ratio=0.1 .................................\n",
      "[CV] .... lr__alpha=1.0, lr__l1_ratio=0.1, score=-0.041, total=   0.2s\n",
      "[CV] lr__alpha=1.0, lr__l1_ratio=0.2 .................................\n",
      "[CV] .... lr__alpha=1.0, lr__l1_ratio=0.2, score=-0.040, total=   0.2s\n",
      "[CV] lr__alpha=1.0, lr__l1_ratio=0.2 .................................\n",
      "[CV] .... lr__alpha=1.0, lr__l1_ratio=0.2, score=-0.038, total=   0.2s\n",
      "[CV] lr__alpha=1.0, lr__l1_ratio=0.2 .................................\n",
      "[CV] .... lr__alpha=1.0, lr__l1_ratio=0.2, score=-0.041, total=   0.2s\n",
      "[CV] lr__alpha=1.0, lr__l1_ratio=0.3 .................................\n",
      "[CV] .... lr__alpha=1.0, lr__l1_ratio=0.3, score=-0.040, total=   0.2s\n",
      "[CV] lr__alpha=1.0, lr__l1_ratio=0.3 .................................\n",
      "[CV] .... lr__alpha=1.0, lr__l1_ratio=0.3, score=-0.038, total=   0.2s\n",
      "[CV] lr__alpha=1.0, lr__l1_ratio=0.3 .................................\n",
      "[CV] .... lr__alpha=1.0, lr__l1_ratio=0.3, score=-0.041, total=   0.2s\n",
      "[CV] lr__alpha=1.0, lr__l1_ratio=0.4 .................................\n",
      "[CV] .... lr__alpha=1.0, lr__l1_ratio=0.4, score=-0.040, total=   0.2s\n",
      "[CV] lr__alpha=1.0, lr__l1_ratio=0.4 .................................\n",
      "[CV] .... lr__alpha=1.0, lr__l1_ratio=0.4, score=-0.038, total=   0.2s\n",
      "[CV] lr__alpha=1.0, lr__l1_ratio=0.4 .................................\n",
      "[CV] .... lr__alpha=1.0, lr__l1_ratio=0.4, score=-0.041, total=   0.2s\n",
      "[CV] lr__alpha=1.0, lr__l1_ratio=0.5 .................................\n",
      "[CV] .... lr__alpha=1.0, lr__l1_ratio=0.5, score=-0.040, total=   0.2s\n",
      "[CV] lr__alpha=1.0, lr__l1_ratio=0.5 .................................\n",
      "[CV] .... lr__alpha=1.0, lr__l1_ratio=0.5, score=-0.038, total=   0.2s\n",
      "[CV] lr__alpha=1.0, lr__l1_ratio=0.5 .................................\n",
      "[CV] .... lr__alpha=1.0, lr__l1_ratio=0.5, score=-0.041, total=   0.2s\n",
      "[CV] lr__alpha=1.0, lr__l1_ratio=0.6 .................................\n",
      "[CV] .... lr__alpha=1.0, lr__l1_ratio=0.6, score=-0.040, total=   0.2s\n",
      "[CV] lr__alpha=1.0, lr__l1_ratio=0.6 .................................\n",
      "[CV] .... lr__alpha=1.0, lr__l1_ratio=0.6, score=-0.038, total=   0.2s\n",
      "[CV] lr__alpha=1.0, lr__l1_ratio=0.6 .................................\n",
      "[CV] .... lr__alpha=1.0, lr__l1_ratio=0.6, score=-0.041, total=   0.2s\n",
      "[CV] lr__alpha=1.0, lr__l1_ratio=0.7 .................................\n",
      "[CV] .... lr__alpha=1.0, lr__l1_ratio=0.7, score=-0.040, total=   0.2s\n",
      "[CV] lr__alpha=1.0, lr__l1_ratio=0.7 .................................\n",
      "[CV] .... lr__alpha=1.0, lr__l1_ratio=0.7, score=-0.038, total=   0.2s\n",
      "[CV] lr__alpha=1.0, lr__l1_ratio=0.7 .................................\n",
      "[CV] .... lr__alpha=1.0, lr__l1_ratio=0.7, score=-0.041, total=   0.2s\n",
      "[CV] lr__alpha=1.0, lr__l1_ratio=0.8 .................................\n",
      "[CV] .... lr__alpha=1.0, lr__l1_ratio=0.8, score=-0.040, total=   0.2s\n",
      "[CV] lr__alpha=1.0, lr__l1_ratio=0.8 .................................\n",
      "[CV] .... lr__alpha=1.0, lr__l1_ratio=0.8, score=-0.038, total=   0.2s\n",
      "[CV] lr__alpha=1.0, lr__l1_ratio=0.8 .................................\n",
      "[CV] .... lr__alpha=1.0, lr__l1_ratio=0.8, score=-0.041, total=   0.2s\n",
      "[CV] lr__alpha=1.0, lr__l1_ratio=0.9 .................................\n",
      "[CV] .... lr__alpha=1.0, lr__l1_ratio=0.9, score=-0.040, total=   0.2s\n",
      "[CV] lr__alpha=1.0, lr__l1_ratio=0.9 .................................\n",
      "[CV] .... lr__alpha=1.0, lr__l1_ratio=0.9, score=-0.038, total=   0.2s\n",
      "[CV] lr__alpha=1.0, lr__l1_ratio=0.9 .................................\n",
      "[CV] .... lr__alpha=1.0, lr__l1_ratio=0.9, score=-0.041, total=   0.2s\n",
      "[CV] lr__alpha=1.0, lr__l1_ratio=1.0 .................................\n",
      "[CV] .... lr__alpha=1.0, lr__l1_ratio=1.0, score=-0.040, total=   0.2s\n",
      "[CV] lr__alpha=1.0, lr__l1_ratio=1.0 .................................\n",
      "[CV] .... lr__alpha=1.0, lr__l1_ratio=1.0, score=-0.038, total=   0.2s\n",
      "[CV] lr__alpha=1.0, lr__l1_ratio=1.0 .................................\n",
      "[CV] .... lr__alpha=1.0, lr__l1_ratio=1.0, score=-0.041, total=   0.2s\n"
     ]
    },
    {
     "name": "stderr",
     "output_type": "stream",
     "text": [
      "[Parallel(n_jobs=1)]: Done 363 out of 363 | elapsed:  1.7min finished\n",
      "/home/nata/PycharmProjects/venv/lib/python3.8/site-packages/sklearn/linear_model/_coordinate_descent.py:512: ConvergenceWarning: Objective did not converge. You might want to increase the number of iterations. Duality gap: 1.169892214786028, tolerance: 0.0002596553191489359\n",
      "  model = cd_fast.sparse_enet_coordinate_descent(\n"
     ]
    },
    {
     "data": {
      "text/plain": [
       "GridSearchCV(cv=3,\n",
       "             estimator=Pipeline(steps=[('preprocessor',\n",
       "                                        ColumnTransformer(transformers=[('num',\n",
       "                                                                         Pipeline(steps=[('imputer',\n",
       "                                                                                          SimpleImputer()),\n",
       "                                                                                         ('scaler',\n",
       "                                                                                          StandardScaler())]),\n",
       "                                                                         ['crime_burglary',\n",
       "                                                                          'crime_risk',\n",
       "                                                                          'Norm_fire_risk',\n",
       "                                                                          'crime_arson',\n",
       "                                                                          'Weather_risk',\n",
       "                                                                          'Geographical_risk',\n",
       "                                                                          'crime_property_type',\n",
       "                                                                          'crime_neighbour_watch',\n",
       "                                                                          'crime_area',\n",
       "                                                                          'Norm_monthly_rent',\n",
       "                                                                          '...\n",
       "                                                                                                                      'your',\n",
       "                                                                                                                      'yours',\n",
       "                                                                                                                      'yourself',\n",
       "                                                                                                                      'yourselves',\n",
       "                                                                                                                      'he',\n",
       "                                                                                                                      'him',\n",
       "                                                                                                                      'his',\n",
       "                                                                                                                      'himself',\n",
       "                                                                                                                      'she',\n",
       "                                                                                                                      \"she's\",\n",
       "                                                                                                                      'her',\n",
       "                                                                                                                      'hers',\n",
       "                                                                                                                      'herself',\n",
       "                                                                                                                      'it',\n",
       "                                                                                                                      \"it's\",\n",
       "                                                                                                                      'its',\n",
       "                                                                                                                      'itself', ...]))]),\n",
       "                                                                         'ISO_desc')])),\n",
       "                                       ('lr', ElasticNet())]),\n",
       "             param_grid={'lr__alpha': [0.0, 0.1, 0.2, 0.3, 0.4, 0.5, 0.6, 0.7,\n",
       "                                       0.8, 0.9, 1.0],\n",
       "                         'lr__l1_ratio': [0.0, 0.1, 0.2, 0.3, 0.4, 0.5, 0.6,\n",
       "                                          0.7, 0.8, 0.9, 1.0]},\n",
       "             scoring='neg_mean_absolute_error', verbose=10)"
      ]
     },
     "execution_count": 370,
     "metadata": {},
     "output_type": "execute_result"
    }
   ],
   "source": [
    "gs = GridSearchCV(estimator=est_lr, param_grid={'lr__l1_ratio': [i/10 for i in range(11)],\n",
    "                                                'lr__alpha': [i/10 for i in range(11)]\n",
    "                                               }, \n",
    "                  scoring='neg_mean_absolute_error', cv=3, refit=True, verbose=10)\n",
    "\n",
    "gs.fit(X_train, y_train)"
   ]
  },
  {
   "cell_type": "code",
   "execution_count": 371,
   "metadata": {},
   "outputs": [
    {
     "name": "stdout",
     "output_type": "stream",
     "text": [
      "best params: {'lr__alpha': 0.1, 'lr__l1_ratio': 0.0}\n",
      "best score: -0.038560872411856\n",
      "model score mae: 0.039\n",
      "model r2 score : 0.080\n"
     ]
    }
   ],
   "source": [
    "from sklearn.metrics import mean_absolute_error, r2_score, mean_squared_error\n",
    "print(\"best params: {}\".format(gs.best_params_))\n",
    "print(\"best score: {}\".format(gs.best_score_))\n",
    "print(\"model score mae: %.3f\" % mean_absolute_error(y_test, gs.best_estimator_.predict(X_test)))\n",
    "print(\"model r2 score : %.3f\" % r2_score(y_test, gs.best_estimator_.predict(X_test)))"
   ]
  },
  {
   "cell_type": "code",
   "execution_count": 372,
   "metadata": {},
   "outputs": [
    {
     "data": {
      "text/plain": [
       "<matplotlib.collections.PathCollection at 0x7f3ecc253070>"
      ]
     },
     "execution_count": 372,
     "metadata": {},
     "output_type": "execute_result"
    },
    {
     "data": {
      "image/png": "[encoded data removed]",
      "text/plain": [
       "<Figure size 432x288 with 1 Axes>"
      ]
     },
     "metadata": {
      "needs_background": "light"
     },
     "output_type": "display_data"
    }
   ],
   "source": [
    "plt.scatter(y_test, gs.best_estimator_.predict(X_test))\n",
    "plt.scatter(y_train, gs.best_estimator_.predict(X_train))"
   ]
  },
  {
   "cell_type": "code",
   "execution_count": 379,
   "metadata": {
    "collapsed": true,
    "jupyter": {
     "outputs_hidden": true
    }
   },
   "outputs": [
    {
     "name": "stdout",
     "output_type": "stream",
     "text": [
      "Fitting 3 folds for each of 100 candidates, totalling 300 fits\n",
      "[CV] rf__n_estimators=22, rf__max_leaf_nodes=10, rf__max_features=21 .\n"
     ]
    },
    {
     "name": "stderr",
     "output_type": "stream",
     "text": [
      "[Parallel(n_jobs=1)]: Using backend SequentialBackend with 1 concurrent workers.\n"
     ]
    },
    {
     "name": "stdout",
     "output_type": "stream",
     "text": [
      "[CV]  rf__n_estimators=22, rf__max_leaf_nodes=10, rf__max_features=21, score=-0.036, total=   0.6s\n",
      "[CV] rf__n_estimators=22, rf__max_leaf_nodes=10, rf__max_features=21 .\n"
     ]
    },
    {
     "name": "stderr",
     "output_type": "stream",
     "text": [
      "[Parallel(n_jobs=1)]: Done   1 out of   1 | elapsed:    0.6s remaining:    0.0s\n"
     ]
    },
    {
     "name": "stdout",
     "output_type": "stream",
     "text": [
      "[CV]  rf__n_estimators=22, rf__max_leaf_nodes=10, rf__max_features=21, score=-0.036, total=   0.6s\n",
      "[CV] rf__n_estimators=22, rf__max_leaf_nodes=10, rf__max_features=21 .\n"
     ]
    },
    {
     "name": "stderr",
     "output_type": "stream",
     "text": [
      "[Parallel(n_jobs=1)]: Done   2 out of   2 | elapsed:    1.2s remaining:    0.0s\n"
     ]
    },
    {
     "name": "stdout",
     "output_type": "stream",
     "text": [
      "[CV]  rf__n_estimators=22, rf__max_leaf_nodes=10, rf__max_features=21, score=-0.038, total=   0.6s\n",
      "[CV] rf__n_estimators=20, rf__max_leaf_nodes=17, rf__max_features=17 .\n"
     ]
    },
    {
     "name": "stderr",
     "output_type": "stream",
     "text": [
      "[Parallel(n_jobs=1)]: Done   3 out of   3 | elapsed:    1.8s remaining:    0.0s\n"
     ]
    },
    {
     "name": "stdout",
     "output_type": "stream",
     "text": [
      "[CV]  rf__n_estimators=20, rf__max_leaf_nodes=17, rf__max_features=17, score=-0.037, total=   0.5s\n",
      "[CV] rf__n_estimators=20, rf__max_leaf_nodes=17, rf__max_features=17 .\n"
     ]
    },
    {
     "name": "stderr",
     "output_type": "stream",
     "text": [
      "[Parallel(n_jobs=1)]: Done   4 out of   4 | elapsed:    2.4s remaining:    0.0s\n"
     ]
    },
    {
     "name": "stdout",
     "output_type": "stream",
     "text": [
      "[CV]  rf__n_estimators=20, rf__max_leaf_nodes=17, rf__max_features=17, score=-0.035, total=   0.6s\n",
      "[CV] rf__n_estimators=20, rf__max_leaf_nodes=17, rf__max_features=17 .\n"
     ]
    },
    {
     "name": "stderr",
     "output_type": "stream",
     "text": [
      "[Parallel(n_jobs=1)]: Done   5 out of   5 | elapsed:    2.9s remaining:    0.0s\n"
     ]
    },
    {
     "name": "stdout",
     "output_type": "stream",
     "text": [
      "[CV]  rf__n_estimators=20, rf__max_leaf_nodes=17, rf__max_features=17, score=-0.039, total=   0.7s\n",
      "[CV] rf__n_estimators=5, rf__max_leaf_nodes=18, rf__max_features=24 ..\n"
     ]
    },
    {
     "name": "stderr",
     "output_type": "stream",
     "text": [
      "[Parallel(n_jobs=1)]: Done   6 out of   6 | elapsed:    3.6s remaining:    0.0s\n"
     ]
    },
    {
     "name": "stdout",
     "output_type": "stream",
     "text": [
      "[CV]  rf__n_estimators=5, rf__max_leaf_nodes=18, rf__max_features=24, score=-0.037, total=   0.3s\n",
      "[CV] rf__n_estimators=5, rf__max_leaf_nodes=18, rf__max_features=24 ..\n"
     ]
    },
    {
     "name": "stderr",
     "output_type": "stream",
     "text": [
      "[Parallel(n_jobs=1)]: Done   7 out of   7 | elapsed:    3.9s remaining:    0.0s\n"
     ]
    },
    {
     "name": "stdout",
     "output_type": "stream",
     "text": [
      "[CV]  rf__n_estimators=5, rf__max_leaf_nodes=18, rf__max_features=24, score=-0.035, total=   0.3s\n",
      "[CV] rf__n_estimators=5, rf__max_leaf_nodes=18, rf__max_features=24 ..\n"
     ]
    },
    {
     "name": "stderr",
     "output_type": "stream",
     "text": [
      "[Parallel(n_jobs=1)]: Done   8 out of   8 | elapsed:    4.3s remaining:    0.0s\n"
     ]
    },
    {
     "name": "stdout",
     "output_type": "stream",
     "text": [
      "[CV]  rf__n_estimators=5, rf__max_leaf_nodes=18, rf__max_features=24, score=-0.039, total=   0.3s\n",
      "[CV] rf__n_estimators=8, rf__max_leaf_nodes=19, rf__max_features=2 ...\n",
      "[CV]  rf__n_estimators=8, rf__max_leaf_nodes=19, rf__max_features=2, score=-0.039, total=   0.2s\n",
      "[CV] rf__n_estimators=8, rf__max_leaf_nodes=19, rf__max_features=2 ...\n"
     ]
    },
    {
     "name": "stderr",
     "output_type": "stream",
     "text": [
      "[Parallel(n_jobs=1)]: Done   9 out of   9 | elapsed:    4.6s remaining:    0.0s\n"
     ]
    },
    {
     "name": "stdout",
     "output_type": "stream",
     "text": [
      "[CV]  rf__n_estimators=8, rf__max_leaf_nodes=19, rf__max_features=2, score=-0.039, total=   0.2s\n",
      "[CV] rf__n_estimators=8, rf__max_leaf_nodes=19, rf__max_features=2 ...\n",
      "[CV]  rf__n_estimators=8, rf__max_leaf_nodes=19, rf__max_features=2, score=-0.040, total=   0.2s\n",
      "[CV] rf__n_estimators=23, rf__max_leaf_nodes=10, rf__max_features=3 ..\n",
      "[CV]  rf__n_estimators=23, rf__max_leaf_nodes=10, rf__max_features=3, score=-0.038, total=   0.3s\n",
      "[CV] rf__n_estimators=23, rf__max_leaf_nodes=10, rf__max_features=3 ..\n",
      "[CV]  rf__n_estimators=23, rf__max_leaf_nodes=10, rf__max_features=3, score=-0.037, total=   0.2s\n",
      "[CV] rf__n_estimators=23, rf__max_leaf_nodes=10, rf__max_features=3 ..\n",
      "[CV]  rf__n_estimators=23, rf__max_leaf_nodes=10, rf__max_features=3, score=-0.040, total=   0.3s\n",
      "[CV] rf__n_estimators=15, rf__max_leaf_nodes=8, rf__max_features=21 ..\n",
      "[CV]  rf__n_estimators=15, rf__max_leaf_nodes=8, rf__max_features=21, score=-0.037, total=   0.4s\n",
      "[CV] rf__n_estimators=15, rf__max_leaf_nodes=8, rf__max_features=21 ..\n",
      "[CV]  rf__n_estimators=15, rf__max_leaf_nodes=8, rf__max_features=21, score=-0.035, total=   0.4s\n",
      "[CV] rf__n_estimators=15, rf__max_leaf_nodes=8, rf__max_features=21 ..\n",
      "[CV]  rf__n_estimators=15, rf__max_leaf_nodes=8, rf__max_features=21, score=-0.038, total=   0.4s\n",
      "[CV] rf__n_estimators=8, rf__max_leaf_nodes=15, rf__max_features=6 ...\n",
      "[CV]  rf__n_estimators=8, rf__max_leaf_nodes=15, rf__max_features=6, score=-0.038, total=   0.2s\n",
      "[CV] rf__n_estimators=8, rf__max_leaf_nodes=15, rf__max_features=6 ...\n",
      "[CV]  rf__n_estimators=8, rf__max_leaf_nodes=15, rf__max_features=6, score=-0.039, total=   0.2s\n",
      "[CV] rf__n_estimators=8, rf__max_leaf_nodes=15, rf__max_features=6 ...\n",
      "[CV]  rf__n_estimators=8, rf__max_leaf_nodes=15, rf__max_features=6, score=-0.039, total=   0.2s\n",
      "[CV] rf__n_estimators=11, rf__max_leaf_nodes=6, rf__max_features=14 ..\n",
      "[CV]  rf__n_estimators=11, rf__max_leaf_nodes=6, rf__max_features=14, score=-0.037, total=   0.3s\n",
      "[CV] rf__n_estimators=11, rf__max_leaf_nodes=6, rf__max_features=14 ..\n",
      "[CV]  rf__n_estimators=11, rf__max_leaf_nodes=6, rf__max_features=14, score=-0.036, total=   0.3s\n",
      "[CV] rf__n_estimators=11, rf__max_leaf_nodes=6, rf__max_features=14 ..\n",
      "[CV]  rf__n_estimators=11, rf__max_leaf_nodes=6, rf__max_features=14, score=-0.038, total=   0.3s\n",
      "[CV] rf__n_estimators=21, rf__max_leaf_nodes=4, rf__max_features=22 ..\n",
      "[CV]  rf__n_estimators=21, rf__max_leaf_nodes=4, rf__max_features=22, score=-0.037, total=   0.5s\n",
      "[CV] rf__n_estimators=21, rf__max_leaf_nodes=4, rf__max_features=22 ..\n",
      "[CV]  rf__n_estimators=21, rf__max_leaf_nodes=4, rf__max_features=22, score=-0.037, total=   0.5s\n",
      "[CV] rf__n_estimators=21, rf__max_leaf_nodes=4, rf__max_features=22 ..\n",
      "[CV]  rf__n_estimators=21, rf__max_leaf_nodes=4, rf__max_features=22, score=-0.039, total=   0.4s\n",
      "[CV] rf__n_estimators=1, rf__max_leaf_nodes=11, rf__max_features=1 ...\n",
      "[CV]  rf__n_estimators=1, rf__max_leaf_nodes=11, rf__max_features=1, score=-0.042, total=   0.1s\n",
      "[CV] rf__n_estimators=1, rf__max_leaf_nodes=11, rf__max_features=1 ...\n",
      "[CV]  rf__n_estimators=1, rf__max_leaf_nodes=11, rf__max_features=1, score=-0.041, total=   0.1s\n",
      "[CV] rf__n_estimators=1, rf__max_leaf_nodes=11, rf__max_features=1 ...\n",
      "[CV]  rf__n_estimators=1, rf__max_leaf_nodes=11, rf__max_features=1, score=-0.041, total=   0.1s\n",
      "[CV] rf__n_estimators=6, rf__max_leaf_nodes=9, rf__max_features=23 ...\n",
      "[CV]  rf__n_estimators=6, rf__max_leaf_nodes=9, rf__max_features=23, score=-0.036, total=   0.3s\n",
      "[CV] rf__n_estimators=6, rf__max_leaf_nodes=9, rf__max_features=23 ...\n",
      "[CV]  rf__n_estimators=6, rf__max_leaf_nodes=9, rf__max_features=23, score=-0.036, total=   0.3s\n",
      "[CV] rf__n_estimators=6, rf__max_leaf_nodes=9, rf__max_features=23 ...\n",
      "[CV]  rf__n_estimators=6, rf__max_leaf_nodes=9, rf__max_features=23, score=-0.038, total=   0.2s\n",
      "[CV] rf__n_estimators=10, rf__max_leaf_nodes=8, rf__max_features=1 ...\n",
      "[CV]  rf__n_estimators=10, rf__max_leaf_nodes=8, rf__max_features=1, score=-0.039, total=   0.2s\n",
      "[CV] rf__n_estimators=10, rf__max_leaf_nodes=8, rf__max_features=1 ...\n",
      "[CV]  rf__n_estimators=10, rf__max_leaf_nodes=8, rf__max_features=1, score=-0.038, total=   0.2s\n",
      "[CV] rf__n_estimators=10, rf__max_leaf_nodes=8, rf__max_features=1 ...\n",
      "[CV]  rf__n_estimators=10, rf__max_leaf_nodes=8, rf__max_features=1, score=-0.040, total=   0.2s\n",
      "[CV] rf__n_estimators=13, rf__max_leaf_nodes=17, rf__max_features=18 .\n",
      "[CV]  rf__n_estimators=13, rf__max_leaf_nodes=17, rf__max_features=18, score=-0.037, total=   0.4s\n",
      "[CV] rf__n_estimators=13, rf__max_leaf_nodes=17, rf__max_features=18 .\n",
      "[CV]  rf__n_estimators=13, rf__max_leaf_nodes=17, rf__max_features=18, score=-0.037, total=   0.4s\n",
      "[CV] rf__n_estimators=13, rf__max_leaf_nodes=17, rf__max_features=18 .\n",
      "[CV]  rf__n_estimators=13, rf__max_leaf_nodes=17, rf__max_features=18, score=-0.038, total=   0.5s\n",
      "[CV] rf__n_estimators=6, rf__max_leaf_nodes=16, rf__max_features=18 ..\n",
      "[CV]  rf__n_estimators=6, rf__max_leaf_nodes=16, rf__max_features=18, score=-0.038, total=   0.3s\n",
      "[CV] rf__n_estimators=6, rf__max_leaf_nodes=16, rf__max_features=18 ..\n",
      "[CV]  rf__n_estimators=6, rf__max_leaf_nodes=16, rf__max_features=18, score=-0.037, total=   0.3s\n",
      "[CV] rf__n_estimators=6, rf__max_leaf_nodes=16, rf__max_features=18 ..\n",
      "[CV]  rf__n_estimators=6, rf__max_leaf_nodes=16, rf__max_features=18, score=-0.039, total=   0.3s\n",
      "[CV] rf__n_estimators=9, rf__max_leaf_nodes=3, rf__max_features=26 ...\n",
      "[CV]  rf__n_estimators=9, rf__max_leaf_nodes=3, rf__max_features=26, score=-0.038, total=   0.3s\n",
      "[CV] rf__n_estimators=9, rf__max_leaf_nodes=3, rf__max_features=26 ...\n",
      "[CV]  rf__n_estimators=9, rf__max_leaf_nodes=3, rf__max_features=26, score=-0.036, total=   0.3s\n",
      "[CV] rf__n_estimators=9, rf__max_leaf_nodes=3, rf__max_features=26 ...\n",
      "[CV]  rf__n_estimators=9, rf__max_leaf_nodes=3, rf__max_features=26, score=-0.039, total=   0.4s\n",
      "[CV] rf__n_estimators=19, rf__max_leaf_nodes=9, rf__max_features=16 ..\n",
      "[CV]  rf__n_estimators=19, rf__max_leaf_nodes=9, rf__max_features=16, score=-0.038, total=   0.7s\n",
      "[CV] rf__n_estimators=19, rf__max_leaf_nodes=9, rf__max_features=16 ..\n",
      "[CV]  rf__n_estimators=19, rf__max_leaf_nodes=9, rf__max_features=16, score=-0.035, total=   0.6s\n",
      "[CV] rf__n_estimators=19, rf__max_leaf_nodes=9, rf__max_features=16 ..\n",
      "[CV]  rf__n_estimators=19, rf__max_leaf_nodes=9, rf__max_features=16, score=-0.038, total=   0.6s\n",
      "[CV] rf__n_estimators=12, rf__max_leaf_nodes=6, rf__max_features=10 ..\n",
      "[CV]  rf__n_estimators=12, rf__max_leaf_nodes=6, rf__max_features=10, score=-0.037, total=   0.3s\n",
      "[CV] rf__n_estimators=12, rf__max_leaf_nodes=6, rf__max_features=10 ..\n",
      "[CV]  rf__n_estimators=12, rf__max_leaf_nodes=6, rf__max_features=10, score=-0.038, total=   0.3s\n",
      "[CV] rf__n_estimators=12, rf__max_leaf_nodes=6, rf__max_features=10 ..\n",
      "[CV]  rf__n_estimators=12, rf__max_leaf_nodes=6, rf__max_features=10, score=-0.039, total=   0.4s\n",
      "[CV] rf__n_estimators=5, rf__max_leaf_nodes=18, rf__max_features=16 ..\n",
      "[CV]  rf__n_estimators=5, rf__max_leaf_nodes=18, rf__max_features=16, score=-0.037, total=   0.3s\n",
      "[CV] rf__n_estimators=5, rf__max_leaf_nodes=18, rf__max_features=16 ..\n",
      "[CV]  rf__n_estimators=5, rf__max_leaf_nodes=18, rf__max_features=16, score=-0.036, total=   0.3s\n",
      "[CV] rf__n_estimators=5, rf__max_leaf_nodes=18, rf__max_features=16 ..\n",
      "[CV]  rf__n_estimators=5, rf__max_leaf_nodes=18, rf__max_features=16, score=-0.039, total=   0.3s\n",
      "[CV] rf__n_estimators=21, rf__max_leaf_nodes=19, rf__max_features=11 .\n",
      "[CV]  rf__n_estimators=21, rf__max_leaf_nodes=19, rf__max_features=11, score=-0.037, total=   0.5s\n",
      "[CV] rf__n_estimators=21, rf__max_leaf_nodes=19, rf__max_features=11 .\n",
      "[CV]  rf__n_estimators=21, rf__max_leaf_nodes=19, rf__max_features=11, score=-0.036, total=   0.5s\n",
      "[CV] rf__n_estimators=21, rf__max_leaf_nodes=19, rf__max_features=11 .\n",
      "[CV]  rf__n_estimators=21, rf__max_leaf_nodes=19, rf__max_features=11, score=-0.039, total=   0.5s\n",
      "[CV] rf__n_estimators=19, rf__max_leaf_nodes=10, rf__max_features=5 ..\n",
      "[CV]  rf__n_estimators=19, rf__max_leaf_nodes=10, rf__max_features=5, score=-0.037, total=   0.3s\n",
      "[CV] rf__n_estimators=19, rf__max_leaf_nodes=10, rf__max_features=5 ..\n",
      "[CV]  rf__n_estimators=19, rf__max_leaf_nodes=10, rf__max_features=5, score=-0.037, total=   0.3s\n",
      "[CV] rf__n_estimators=19, rf__max_leaf_nodes=10, rf__max_features=5 ..\n",
      "[CV]  rf__n_estimators=19, rf__max_leaf_nodes=10, rf__max_features=5, score=-0.039, total=   0.3s\n",
      "[CV] rf__n_estimators=18, rf__max_leaf_nodes=19, rf__max_features=16 .\n",
      "[CV]  rf__n_estimators=18, rf__max_leaf_nodes=19, rf__max_features=16, score=-0.036, total=   0.6s\n",
      "[CV] rf__n_estimators=18, rf__max_leaf_nodes=19, rf__max_features=16 .\n",
      "[CV]  rf__n_estimators=18, rf__max_leaf_nodes=19, rf__max_features=16, score=-0.035, total=   0.5s\n",
      "[CV] rf__n_estimators=18, rf__max_leaf_nodes=19, rf__max_features=16 .\n",
      "[CV]  rf__n_estimators=18, rf__max_leaf_nodes=19, rf__max_features=16, score=-0.038, total=   0.5s\n",
      "[CV] rf__n_estimators=2, rf__max_leaf_nodes=8, rf__max_features=26 ...\n",
      "[CV]  rf__n_estimators=2, rf__max_leaf_nodes=8, rf__max_features=26, score=-0.040, total=   0.2s\n",
      "[CV] rf__n_estimators=2, rf__max_leaf_nodes=8, rf__max_features=26 ...\n",
      "[CV]  rf__n_estimators=2, rf__max_leaf_nodes=8, rf__max_features=26, score=-0.036, total=   0.2s\n",
      "[CV] rf__n_estimators=2, rf__max_leaf_nodes=8, rf__max_features=26 ...\n",
      "[CV]  rf__n_estimators=2, rf__max_leaf_nodes=8, rf__max_features=26, score=-0.039, total=   0.2s\n",
      "[CV] rf__n_estimators=2, rf__max_leaf_nodes=11, rf__max_features=21 ..\n",
      "[CV]  rf__n_estimators=2, rf__max_leaf_nodes=11, rf__max_features=21, score=-0.037, total=   0.2s\n",
      "[CV] rf__n_estimators=2, rf__max_leaf_nodes=11, rf__max_features=21 ..\n",
      "[CV]  rf__n_estimators=2, rf__max_leaf_nodes=11, rf__max_features=21, score=-0.037, total=   0.2s\n",
      "[CV] rf__n_estimators=2, rf__max_leaf_nodes=11, rf__max_features=21 ..\n",
      "[CV]  rf__n_estimators=2, rf__max_leaf_nodes=11, rf__max_features=21, score=-0.040, total=   0.2s\n",
      "[CV] rf__n_estimators=11, rf__max_leaf_nodes=11, rf__max_features=4 ..\n",
      "[CV]  rf__n_estimators=11, rf__max_leaf_nodes=11, rf__max_features=4, score=-0.038, total=   0.2s\n",
      "[CV] rf__n_estimators=11, rf__max_leaf_nodes=11, rf__max_features=4 ..\n",
      "[CV]  rf__n_estimators=11, rf__max_leaf_nodes=11, rf__max_features=4, score=-0.038, total=   0.2s\n",
      "[CV] rf__n_estimators=11, rf__max_leaf_nodes=11, rf__max_features=4 ..\n",
      "[CV]  rf__n_estimators=11, rf__max_leaf_nodes=11, rf__max_features=4, score=-0.040, total=   0.2s\n",
      "[CV] rf__n_estimators=15, rf__max_leaf_nodes=10, rf__max_features=5 ..\n",
      "[CV]  rf__n_estimators=15, rf__max_leaf_nodes=10, rf__max_features=5, score=-0.039, total=   0.2s\n",
      "[CV] rf__n_estimators=15, rf__max_leaf_nodes=10, rf__max_features=5 ..\n",
      "[CV]  rf__n_estimators=15, rf__max_leaf_nodes=10, rf__max_features=5, score=-0.038, total=   0.2s\n",
      "[CV] rf__n_estimators=15, rf__max_leaf_nodes=10, rf__max_features=5 ..\n",
      "[CV]  rf__n_estimators=15, rf__max_leaf_nodes=10, rf__max_features=5, score=-0.039, total=   0.3s\n",
      "[CV] rf__n_estimators=21, rf__max_leaf_nodes=15, rf__max_features=16 .\n",
      "[CV]  rf__n_estimators=21, rf__max_leaf_nodes=15, rf__max_features=16, score=-0.037, total=   0.6s\n",
      "[CV] rf__n_estimators=21, rf__max_leaf_nodes=15, rf__max_features=16 .\n",
      "[CV]  rf__n_estimators=21, rf__max_leaf_nodes=15, rf__max_features=16, score=-0.035, total=   0.5s\n",
      "[CV] rf__n_estimators=21, rf__max_leaf_nodes=15, rf__max_features=16 .\n",
      "[CV]  rf__n_estimators=21, rf__max_leaf_nodes=15, rf__max_features=16, score=-0.038, total=   0.5s\n",
      "[CV] rf__n_estimators=13, rf__max_leaf_nodes=19, rf__max_features=18 .\n",
      "[CV]  rf__n_estimators=13, rf__max_leaf_nodes=19, rf__max_features=18, score=-0.037, total=   0.5s\n",
      "[CV] rf__n_estimators=13, rf__max_leaf_nodes=19, rf__max_features=18 .\n",
      "[CV]  rf__n_estimators=13, rf__max_leaf_nodes=19, rf__max_features=18, score=-0.036, total=   0.5s\n",
      "[CV] rf__n_estimators=13, rf__max_leaf_nodes=19, rf__max_features=18 .\n",
      "[CV]  rf__n_estimators=13, rf__max_leaf_nodes=19, rf__max_features=18, score=-0.038, total=   0.5s\n",
      "[CV] rf__n_estimators=14, rf__max_leaf_nodes=6, rf__max_features=16 ..\n",
      "[CV]  rf__n_estimators=14, rf__max_leaf_nodes=6, rf__max_features=16, score=-0.038, total=   0.4s\n",
      "[CV] rf__n_estimators=14, rf__max_leaf_nodes=6, rf__max_features=16 ..\n",
      "[CV]  rf__n_estimators=14, rf__max_leaf_nodes=6, rf__max_features=16, score=-0.037, total=   0.5s\n",
      "[CV] rf__n_estimators=14, rf__max_leaf_nodes=6, rf__max_features=16 ..\n",
      "[CV]  rf__n_estimators=14, rf__max_leaf_nodes=6, rf__max_features=16, score=-0.039, total=   0.4s\n",
      "[CV] rf__n_estimators=6, rf__max_leaf_nodes=7, rf__max_features=27 ...\n",
      "[CV]  rf__n_estimators=6, rf__max_leaf_nodes=7, rf__max_features=27, score=-0.037, total=   0.3s\n",
      "[CV] rf__n_estimators=6, rf__max_leaf_nodes=7, rf__max_features=27 ...\n",
      "[CV]  rf__n_estimators=6, rf__max_leaf_nodes=7, rf__max_features=27, score=-0.036, total=   0.3s\n",
      "[CV] rf__n_estimators=6, rf__max_leaf_nodes=7, rf__max_features=27 ...\n",
      "[CV]  rf__n_estimators=6, rf__max_leaf_nodes=7, rf__max_features=27, score=-0.038, total=   0.3s\n",
      "[CV] rf__n_estimators=13, rf__max_leaf_nodes=4, rf__max_features=19 ..\n",
      "[CV]  rf__n_estimators=13, rf__max_leaf_nodes=4, rf__max_features=19, score=-0.037, total=   0.3s\n",
      "[CV] rf__n_estimators=13, rf__max_leaf_nodes=4, rf__max_features=19 ..\n",
      "[CV]  rf__n_estimators=13, rf__max_leaf_nodes=4, rf__max_features=19, score=-0.037, total=   0.3s\n",
      "[CV] rf__n_estimators=13, rf__max_leaf_nodes=4, rf__max_features=19 ..\n",
      "[CV]  rf__n_estimators=13, rf__max_leaf_nodes=4, rf__max_features=19, score=-0.039, total=   0.3s\n",
      "[CV] rf__n_estimators=18, rf__max_leaf_nodes=11, rf__max_features=8 ..\n",
      "[CV]  rf__n_estimators=18, rf__max_leaf_nodes=11, rf__max_features=8, score=-0.038, total=   0.3s\n",
      "[CV] rf__n_estimators=18, rf__max_leaf_nodes=11, rf__max_features=8 ..\n",
      "[CV]  rf__n_estimators=18, rf__max_leaf_nodes=11, rf__max_features=8, score=-0.036, total=   0.3s\n",
      "[CV] rf__n_estimators=18, rf__max_leaf_nodes=11, rf__max_features=8 ..\n",
      "[CV]  rf__n_estimators=18, rf__max_leaf_nodes=11, rf__max_features=8, score=-0.039, total=   0.3s\n",
      "[CV] rf__n_estimators=16, rf__max_leaf_nodes=4, rf__max_features=28 ..\n",
      "[CV]  rf__n_estimators=16, rf__max_leaf_nodes=4, rf__max_features=28, score=-0.037, total=   0.5s\n",
      "[CV] rf__n_estimators=16, rf__max_leaf_nodes=4, rf__max_features=28 ..\n",
      "[CV]  rf__n_estimators=16, rf__max_leaf_nodes=4, rf__max_features=28, score=-0.034, total=   0.5s\n",
      "[CV] rf__n_estimators=16, rf__max_leaf_nodes=4, rf__max_features=28 ..\n",
      "[CV]  rf__n_estimators=16, rf__max_leaf_nodes=4, rf__max_features=28, score=-0.038, total=   0.5s\n",
      "[CV] rf__n_estimators=24, rf__max_leaf_nodes=4, rf__max_features=17 ..\n",
      "[CV]  rf__n_estimators=24, rf__max_leaf_nodes=4, rf__max_features=17, score=-0.037, total=   0.5s\n",
      "[CV] rf__n_estimators=24, rf__max_leaf_nodes=4, rf__max_features=17 ..\n",
      "[CV]  rf__n_estimators=24, rf__max_leaf_nodes=4, rf__max_features=17, score=-0.036, total=   0.5s\n",
      "[CV] rf__n_estimators=24, rf__max_leaf_nodes=4, rf__max_features=17 ..\n",
      "[CV]  rf__n_estimators=24, rf__max_leaf_nodes=4, rf__max_features=17, score=-0.039, total=   0.5s\n",
      "[CV] rf__n_estimators=2, rf__max_leaf_nodes=3, rf__max_features=6 ....\n",
      "[CV]  rf__n_estimators=2, rf__max_leaf_nodes=3, rf__max_features=6, score=-0.040, total=   0.2s\n",
      "[CV] rf__n_estimators=2, rf__max_leaf_nodes=3, rf__max_features=6 ....\n",
      "[CV]  rf__n_estimators=2, rf__max_leaf_nodes=3, rf__max_features=6, score=-0.039, total=   0.2s\n",
      "[CV] rf__n_estimators=2, rf__max_leaf_nodes=3, rf__max_features=6 ....\n",
      "[CV]  rf__n_estimators=2, rf__max_leaf_nodes=3, rf__max_features=6, score=-0.041, total=   0.2s\n",
      "[CV] rf__n_estimators=16, rf__max_leaf_nodes=4, rf__max_features=4 ...\n",
      "[CV]  rf__n_estimators=16, rf__max_leaf_nodes=4, rf__max_features=4, score=-0.038, total=   0.2s\n",
      "[CV] rf__n_estimators=16, rf__max_leaf_nodes=4, rf__max_features=4 ...\n",
      "[CV]  rf__n_estimators=16, rf__max_leaf_nodes=4, rf__max_features=4, score=-0.038, total=   0.2s\n",
      "[CV] rf__n_estimators=16, rf__max_leaf_nodes=4, rf__max_features=4 ...\n",
      "[CV]  rf__n_estimators=16, rf__max_leaf_nodes=4, rf__max_features=4, score=-0.039, total=   0.2s\n",
      "[CV] rf__n_estimators=7, rf__max_leaf_nodes=10, rf__max_features=27 ..\n",
      "[CV]  rf__n_estimators=7, rf__max_leaf_nodes=10, rf__max_features=27, score=-0.036, total=   0.3s\n",
      "[CV] rf__n_estimators=7, rf__max_leaf_nodes=10, rf__max_features=27 ..\n",
      "[CV]  rf__n_estimators=7, rf__max_leaf_nodes=10, rf__max_features=27, score=-0.036, total=   0.3s\n",
      "[CV] rf__n_estimators=7, rf__max_leaf_nodes=10, rf__max_features=27 ..\n",
      "[CV]  rf__n_estimators=7, rf__max_leaf_nodes=10, rf__max_features=27, score=-0.037, total=   0.3s\n",
      "[CV] rf__n_estimators=7, rf__max_leaf_nodes=13, rf__max_features=13 ..\n",
      "[CV]  rf__n_estimators=7, rf__max_leaf_nodes=13, rf__max_features=13, score=-0.037, total=   0.3s\n",
      "[CV] rf__n_estimators=7, rf__max_leaf_nodes=13, rf__max_features=13 ..\n",
      "[CV]  rf__n_estimators=7, rf__max_leaf_nodes=13, rf__max_features=13, score=-0.038, total=   0.3s\n",
      "[CV] rf__n_estimators=7, rf__max_leaf_nodes=13, rf__max_features=13 ..\n",
      "[CV]  rf__n_estimators=7, rf__max_leaf_nodes=13, rf__max_features=13, score=-0.038, total=   0.3s\n",
      "[CV] rf__n_estimators=7, rf__max_leaf_nodes=4, rf__max_features=15 ...\n",
      "[CV]  rf__n_estimators=7, rf__max_leaf_nodes=4, rf__max_features=15, score=-0.037, total=   0.3s\n",
      "[CV] rf__n_estimators=7, rf__max_leaf_nodes=4, rf__max_features=15 ...\n",
      "[CV]  rf__n_estimators=7, rf__max_leaf_nodes=4, rf__max_features=15, score=-0.038, total=   0.3s\n",
      "[CV] rf__n_estimators=7, rf__max_leaf_nodes=4, rf__max_features=15 ...\n",
      "[CV]  rf__n_estimators=7, rf__max_leaf_nodes=4, rf__max_features=15, score=-0.040, total=   0.3s\n",
      "[CV] rf__n_estimators=15, rf__max_leaf_nodes=16, rf__max_features=24 .\n",
      "[CV]  rf__n_estimators=15, rf__max_leaf_nodes=16, rf__max_features=24, score=-0.036, total=   0.6s\n",
      "[CV] rf__n_estimators=15, rf__max_leaf_nodes=16, rf__max_features=24 .\n",
      "[CV]  rf__n_estimators=15, rf__max_leaf_nodes=16, rf__max_features=24, score=-0.035, total=   0.7s\n",
      "[CV] rf__n_estimators=15, rf__max_leaf_nodes=16, rf__max_features=24 .\n",
      "[CV]  rf__n_estimators=15, rf__max_leaf_nodes=16, rf__max_features=24, score=-0.038, total=   0.6s\n",
      "[CV] rf__n_estimators=18, rf__max_leaf_nodes=17, rf__max_features=23 .\n",
      "[CV]  rf__n_estimators=18, rf__max_leaf_nodes=17, rf__max_features=23, score=-0.037, total=   0.6s\n",
      "[CV] rf__n_estimators=18, rf__max_leaf_nodes=17, rf__max_features=23 .\n",
      "[CV]  rf__n_estimators=18, rf__max_leaf_nodes=17, rf__max_features=23, score=-0.035, total=   0.6s\n",
      "[CV] rf__n_estimators=18, rf__max_leaf_nodes=17, rf__max_features=23 .\n",
      "[CV]  rf__n_estimators=18, rf__max_leaf_nodes=17, rf__max_features=23, score=-0.037, total=   0.6s\n",
      "[CV] rf__n_estimators=4, rf__max_leaf_nodes=16, rf__max_features=29 ..\n",
      "[CV]  rf__n_estimators=4, rf__max_leaf_nodes=16, rf__max_features=29, score=-0.037, total=   0.3s\n",
      "[CV] rf__n_estimators=4, rf__max_leaf_nodes=16, rf__max_features=29 ..\n",
      "[CV]  rf__n_estimators=4, rf__max_leaf_nodes=16, rf__max_features=29, score=-0.035, total=   0.3s\n",
      "[CV] rf__n_estimators=4, rf__max_leaf_nodes=16, rf__max_features=29 ..\n",
      "[CV]  rf__n_estimators=4, rf__max_leaf_nodes=16, rf__max_features=29, score=-0.039, total=   0.3s\n",
      "[CV] rf__n_estimators=22, rf__max_leaf_nodes=5, rf__max_features=10 ..\n",
      "[CV]  rf__n_estimators=22, rf__max_leaf_nodes=5, rf__max_features=10, score=-0.038, total=   0.3s\n",
      "[CV] rf__n_estimators=22, rf__max_leaf_nodes=5, rf__max_features=10 ..\n",
      "[CV]  rf__n_estimators=22, rf__max_leaf_nodes=5, rf__max_features=10, score=-0.038, total=   0.3s\n",
      "[CV] rf__n_estimators=22, rf__max_leaf_nodes=5, rf__max_features=10 ..\n",
      "[CV]  rf__n_estimators=22, rf__max_leaf_nodes=5, rf__max_features=10, score=-0.039, total=   0.3s\n",
      "[CV] rf__n_estimators=23, rf__max_leaf_nodes=6, rf__max_features=27 ..\n",
      "[CV]  rf__n_estimators=23, rf__max_leaf_nodes=6, rf__max_features=27, score=-0.036, total=   0.6s\n",
      "[CV] rf__n_estimators=23, rf__max_leaf_nodes=6, rf__max_features=27 ..\n",
      "[CV]  rf__n_estimators=23, rf__max_leaf_nodes=6, rf__max_features=27, score=-0.035, total=   0.6s\n",
      "[CV] rf__n_estimators=23, rf__max_leaf_nodes=6, rf__max_features=27 ..\n",
      "[CV]  rf__n_estimators=23, rf__max_leaf_nodes=6, rf__max_features=27, score=-0.038, total=   0.6s\n",
      "[CV] rf__n_estimators=16, rf__max_leaf_nodes=18, rf__max_features=24 .\n",
      "[CV]  rf__n_estimators=16, rf__max_leaf_nodes=18, rf__max_features=24, score=-0.037, total=   0.6s\n",
      "[CV] rf__n_estimators=16, rf__max_leaf_nodes=18, rf__max_features=24 .\n",
      "[CV]  rf__n_estimators=16, rf__max_leaf_nodes=18, rf__max_features=24, score=-0.035, total=   0.6s\n",
      "[CV] rf__n_estimators=16, rf__max_leaf_nodes=18, rf__max_features=24 .\n",
      "[CV]  rf__n_estimators=16, rf__max_leaf_nodes=18, rf__max_features=24, score=-0.038, total=   0.6s\n",
      "[CV] rf__n_estimators=5, rf__max_leaf_nodes=5, rf__max_features=15 ...\n",
      "[CV]  rf__n_estimators=5, rf__max_leaf_nodes=5, rf__max_features=15, score=-0.039, total=   0.2s\n",
      "[CV] rf__n_estimators=5, rf__max_leaf_nodes=5, rf__max_features=15 ...\n",
      "[CV]  rf__n_estimators=5, rf__max_leaf_nodes=5, rf__max_features=15, score=-0.038, total=   0.2s\n",
      "[CV] rf__n_estimators=5, rf__max_leaf_nodes=5, rf__max_features=15 ...\n",
      "[CV]  rf__n_estimators=5, rf__max_leaf_nodes=5, rf__max_features=15, score=-0.040, total=   0.2s\n",
      "[CV] rf__n_estimators=11, rf__max_leaf_nodes=6, rf__max_features=12 ..\n",
      "[CV]  rf__n_estimators=11, rf__max_leaf_nodes=6, rf__max_features=12, score=-0.037, total=   0.3s\n",
      "[CV] rf__n_estimators=11, rf__max_leaf_nodes=6, rf__max_features=12 ..\n",
      "[CV]  rf__n_estimators=11, rf__max_leaf_nodes=6, rf__max_features=12, score=-0.036, total=   0.3s\n",
      "[CV] rf__n_estimators=11, rf__max_leaf_nodes=6, rf__max_features=12 ..\n",
      "[CV]  rf__n_estimators=11, rf__max_leaf_nodes=6, rf__max_features=12, score=-0.039, total=   0.3s\n",
      "[CV] rf__n_estimators=15, rf__max_leaf_nodes=2, rf__max_features=27 ..\n",
      "[CV]  rf__n_estimators=15, rf__max_leaf_nodes=2, rf__max_features=27, score=-0.038, total=   0.3s\n",
      "[CV] rf__n_estimators=15, rf__max_leaf_nodes=2, rf__max_features=27 ..\n",
      "[CV]  rf__n_estimators=15, rf__max_leaf_nodes=2, rf__max_features=27, score=-0.038, total=   0.3s\n",
      "[CV] rf__n_estimators=15, rf__max_leaf_nodes=2, rf__max_features=27 ..\n",
      "[CV]  rf__n_estimators=15, rf__max_leaf_nodes=2, rf__max_features=27, score=-0.039, total=   0.3s\n",
      "[CV] rf__n_estimators=21, rf__max_leaf_nodes=9, rf__max_features=16 ..\n",
      "[CV]  rf__n_estimators=21, rf__max_leaf_nodes=9, rf__max_features=16, score=-0.036, total=   0.4s\n",
      "[CV] rf__n_estimators=21, rf__max_leaf_nodes=9, rf__max_features=16 ..\n",
      "[CV]  rf__n_estimators=21, rf__max_leaf_nodes=9, rf__max_features=16, score=-0.036, total=   0.5s\n",
      "[CV] rf__n_estimators=21, rf__max_leaf_nodes=9, rf__max_features=16 ..\n",
      "[CV]  rf__n_estimators=21, rf__max_leaf_nodes=9, rf__max_features=16, score=-0.039, total=   0.5s\n",
      "[CV] rf__n_estimators=11, rf__max_leaf_nodes=4, rf__max_features=27 ..\n",
      "[CV]  rf__n_estimators=11, rf__max_leaf_nodes=4, rf__max_features=27, score=-0.038, total=   0.3s\n",
      "[CV] rf__n_estimators=11, rf__max_leaf_nodes=4, rf__max_features=27 ..\n",
      "[CV]  rf__n_estimators=11, rf__max_leaf_nodes=4, rf__max_features=27, score=-0.035, total=   0.4s\n",
      "[CV] rf__n_estimators=11, rf__max_leaf_nodes=4, rf__max_features=27 ..\n",
      "[CV]  rf__n_estimators=11, rf__max_leaf_nodes=4, rf__max_features=27, score=-0.038, total=   0.4s\n",
      "[CV] rf__n_estimators=24, rf__max_leaf_nodes=16, rf__max_features=23 .\n",
      "[CV]  rf__n_estimators=24, rf__max_leaf_nodes=16, rf__max_features=23, score=-0.037, total=   0.9s\n",
      "[CV] rf__n_estimators=24, rf__max_leaf_nodes=16, rf__max_features=23 .\n",
      "[CV]  rf__n_estimators=24, rf__max_leaf_nodes=16, rf__max_features=23, score=-0.035, total=   1.0s\n",
      "[CV] rf__n_estimators=24, rf__max_leaf_nodes=16, rf__max_features=23 .\n",
      "[CV]  rf__n_estimators=24, rf__max_leaf_nodes=16, rf__max_features=23, score=-0.038, total=   0.9s\n",
      "[CV] rf__n_estimators=21, rf__max_leaf_nodes=14, rf__max_features=16 .\n",
      "[CV]  rf__n_estimators=21, rf__max_leaf_nodes=14, rf__max_features=16, score=-0.037, total=   0.6s\n",
      "[CV] rf__n_estimators=21, rf__max_leaf_nodes=14, rf__max_features=16 .\n",
      "[CV]  rf__n_estimators=21, rf__max_leaf_nodes=14, rf__max_features=16, score=-0.036, total=   0.5s\n",
      "[CV] rf__n_estimators=21, rf__max_leaf_nodes=14, rf__max_features=16 .\n",
      "[CV]  rf__n_estimators=21, rf__max_leaf_nodes=14, rf__max_features=16, score=-0.038, total=   0.5s\n",
      "[CV] rf__n_estimators=14, rf__max_leaf_nodes=10, rf__max_features=5 ..\n",
      "[CV]  rf__n_estimators=14, rf__max_leaf_nodes=10, rf__max_features=5, score=-0.037, total=   0.2s\n",
      "[CV] rf__n_estimators=14, rf__max_leaf_nodes=10, rf__max_features=5 ..\n",
      "[CV]  rf__n_estimators=14, rf__max_leaf_nodes=10, rf__max_features=5, score=-0.038, total=   0.2s\n",
      "[CV] rf__n_estimators=14, rf__max_leaf_nodes=10, rf__max_features=5 ..\n",
      "[CV]  rf__n_estimators=14, rf__max_leaf_nodes=10, rf__max_features=5, score=-0.039, total=   0.2s\n",
      "[CV] rf__n_estimators=19, rf__max_leaf_nodes=16, rf__max_features=4 ..\n",
      "[CV]  rf__n_estimators=19, rf__max_leaf_nodes=16, rf__max_features=4, score=-0.039, total=   0.3s\n",
      "[CV] rf__n_estimators=19, rf__max_leaf_nodes=16, rf__max_features=4 ..\n",
      "[CV]  rf__n_estimators=19, rf__max_leaf_nodes=16, rf__max_features=4, score=-0.037, total=   0.3s\n",
      "[CV] rf__n_estimators=19, rf__max_leaf_nodes=16, rf__max_features=4 ..\n",
      "[CV]  rf__n_estimators=19, rf__max_leaf_nodes=16, rf__max_features=4, score=-0.039, total=   0.3s\n",
      "[CV] rf__n_estimators=13, rf__max_leaf_nodes=8, rf__max_features=17 ..\n",
      "[CV]  rf__n_estimators=13, rf__max_leaf_nodes=8, rf__max_features=17, score=-0.038, total=   0.4s\n",
      "[CV] rf__n_estimators=13, rf__max_leaf_nodes=8, rf__max_features=17 ..\n",
      "[CV]  rf__n_estimators=13, rf__max_leaf_nodes=8, rf__max_features=17, score=-0.035, total=   0.4s\n",
      "[CV] rf__n_estimators=13, rf__max_leaf_nodes=8, rf__max_features=17 ..\n",
      "[CV]  rf__n_estimators=13, rf__max_leaf_nodes=8, rf__max_features=17, score=-0.040, total=   0.4s\n",
      "[CV] rf__n_estimators=8, rf__max_leaf_nodes=11, rf__max_features=25 ..\n",
      "[CV]  rf__n_estimators=8, rf__max_leaf_nodes=11, rf__max_features=25, score=-0.036, total=   0.4s\n",
      "[CV] rf__n_estimators=8, rf__max_leaf_nodes=11, rf__max_features=25 ..\n",
      "[CV]  rf__n_estimators=8, rf__max_leaf_nodes=11, rf__max_features=25, score=-0.036, total=   0.4s\n",
      "[CV] rf__n_estimators=8, rf__max_leaf_nodes=11, rf__max_features=25 ..\n",
      "[CV]  rf__n_estimators=8, rf__max_leaf_nodes=11, rf__max_features=25, score=-0.038, total=   0.4s\n",
      "[CV] rf__n_estimators=15, rf__max_leaf_nodes=5, rf__max_features=3 ...\n",
      "[CV]  rf__n_estimators=15, rf__max_leaf_nodes=5, rf__max_features=3, score=-0.038, total=   0.2s\n",
      "[CV] rf__n_estimators=15, rf__max_leaf_nodes=5, rf__max_features=3 ...\n",
      "[CV]  rf__n_estimators=15, rf__max_leaf_nodes=5, rf__max_features=3, score=-0.037, total=   0.2s\n",
      "[CV] rf__n_estimators=15, rf__max_leaf_nodes=5, rf__max_features=3 ...\n",
      "[CV]  rf__n_estimators=15, rf__max_leaf_nodes=5, rf__max_features=3, score=-0.039, total=   0.2s\n",
      "[CV] rf__n_estimators=5, rf__max_leaf_nodes=17, rf__max_features=11 ..\n",
      "[CV]  rf__n_estimators=5, rf__max_leaf_nodes=17, rf__max_features=11, score=-0.037, total=   0.2s\n",
      "[CV] rf__n_estimators=5, rf__max_leaf_nodes=17, rf__max_features=11 ..\n",
      "[CV]  rf__n_estimators=5, rf__max_leaf_nodes=17, rf__max_features=11, score=-0.037, total=   0.2s\n",
      "[CV] rf__n_estimators=5, rf__max_leaf_nodes=17, rf__max_features=11 ..\n",
      "[CV]  rf__n_estimators=5, rf__max_leaf_nodes=17, rf__max_features=11, score=-0.038, total=   0.2s\n",
      "[CV] rf__n_estimators=4, rf__max_leaf_nodes=9, rf__max_features=8 ....\n",
      "[CV]  rf__n_estimators=4, rf__max_leaf_nodes=9, rf__max_features=8, score=-0.039, total=   0.2s\n",
      "[CV] rf__n_estimators=4, rf__max_leaf_nodes=9, rf__max_features=8 ....\n",
      "[CV]  rf__n_estimators=4, rf__max_leaf_nodes=9, rf__max_features=8, score=-0.038, total=   0.2s\n",
      "[CV] rf__n_estimators=4, rf__max_leaf_nodes=9, rf__max_features=8 ....\n",
      "[CV]  rf__n_estimators=4, rf__max_leaf_nodes=9, rf__max_features=8, score=-0.037, total=   0.2s\n",
      "[CV] rf__n_estimators=7, rf__max_leaf_nodes=17, rf__max_features=25 ..\n",
      "[CV]  rf__n_estimators=7, rf__max_leaf_nodes=17, rf__max_features=25, score=-0.037, total=   0.3s\n",
      "[CV] rf__n_estimators=7, rf__max_leaf_nodes=17, rf__max_features=25 ..\n",
      "[CV]  rf__n_estimators=7, rf__max_leaf_nodes=17, rf__max_features=25, score=-0.035, total=   0.3s\n",
      "[CV] rf__n_estimators=7, rf__max_leaf_nodes=17, rf__max_features=25 ..\n",
      "[CV]  rf__n_estimators=7, rf__max_leaf_nodes=17, rf__max_features=25, score=-0.039, total=   0.4s\n",
      "[CV] rf__n_estimators=23, rf__max_leaf_nodes=19, rf__max_features=2 ..\n",
      "[CV]  rf__n_estimators=23, rf__max_leaf_nodes=19, rf__max_features=2, score=-0.038, total=   0.3s\n",
      "[CV] rf__n_estimators=23, rf__max_leaf_nodes=19, rf__max_features=2 ..\n",
      "[CV]  rf__n_estimators=23, rf__max_leaf_nodes=19, rf__max_features=2, score=-0.038, total=   0.3s\n",
      "[CV] rf__n_estimators=23, rf__max_leaf_nodes=19, rf__max_features=2 ..\n",
      "[CV]  rf__n_estimators=23, rf__max_leaf_nodes=19, rf__max_features=2, score=-0.039, total=   0.3s\n",
      "[CV] rf__n_estimators=2, rf__max_leaf_nodes=9, rf__max_features=6 ....\n",
      "[CV]  rf__n_estimators=2, rf__max_leaf_nodes=9, rf__max_features=6, score=-0.040, total=   0.2s\n",
      "[CV] rf__n_estimators=2, rf__max_leaf_nodes=9, rf__max_features=6 ....\n",
      "[CV]  rf__n_estimators=2, rf__max_leaf_nodes=9, rf__max_features=6, score=-0.040, total=   0.2s\n",
      "[CV] rf__n_estimators=2, rf__max_leaf_nodes=9, rf__max_features=6 ....\n",
      "[CV]  rf__n_estimators=2, rf__max_leaf_nodes=9, rf__max_features=6, score=-0.039, total=   0.2s\n",
      "[CV] rf__n_estimators=9, rf__max_leaf_nodes=16, rf__max_features=8 ...\n",
      "[CV]  rf__n_estimators=9, rf__max_leaf_nodes=16, rf__max_features=8, score=-0.038, total=   0.3s\n",
      "[CV] rf__n_estimators=9, rf__max_leaf_nodes=16, rf__max_features=8 ...\n",
      "[CV]  rf__n_estimators=9, rf__max_leaf_nodes=16, rf__max_features=8, score=-0.036, total=   0.3s\n",
      "[CV] rf__n_estimators=9, rf__max_leaf_nodes=16, rf__max_features=8 ...\n",
      "[CV]  rf__n_estimators=9, rf__max_leaf_nodes=16, rf__max_features=8, score=-0.039, total=   0.2s\n",
      "[CV] rf__n_estimators=13, rf__max_leaf_nodes=16, rf__max_features=13 .\n",
      "[CV]  rf__n_estimators=13, rf__max_leaf_nodes=16, rf__max_features=13, score=-0.036, total=   0.3s\n",
      "[CV] rf__n_estimators=13, rf__max_leaf_nodes=16, rf__max_features=13 .\n",
      "[CV]  rf__n_estimators=13, rf__max_leaf_nodes=16, rf__max_features=13, score=-0.036, total=   0.4s\n",
      "[CV] rf__n_estimators=13, rf__max_leaf_nodes=16, rf__max_features=13 .\n",
      "[CV]  rf__n_estimators=13, rf__max_leaf_nodes=16, rf__max_features=13, score=-0.038, total=   0.3s\n",
      "[CV] rf__n_estimators=8, rf__max_leaf_nodes=8, rf__max_features=17 ...\n",
      "[CV]  rf__n_estimators=8, rf__max_leaf_nodes=8, rf__max_features=17, score=-0.037, total=   0.3s\n",
      "[CV] rf__n_estimators=8, rf__max_leaf_nodes=8, rf__max_features=17 ...\n",
      "[CV]  rf__n_estimators=8, rf__max_leaf_nodes=8, rf__max_features=17, score=-0.037, total=   0.3s\n",
      "[CV] rf__n_estimators=8, rf__max_leaf_nodes=8, rf__max_features=17 ...\n",
      "[CV]  rf__n_estimators=8, rf__max_leaf_nodes=8, rf__max_features=17, score=-0.039, total=   0.3s\n",
      "[CV] rf__n_estimators=19, rf__max_leaf_nodes=13, rf__max_features=28 .\n",
      "[CV]  rf__n_estimators=19, rf__max_leaf_nodes=13, rf__max_features=28, score=-0.036, total=   0.6s\n",
      "[CV] rf__n_estimators=19, rf__max_leaf_nodes=13, rf__max_features=28 .\n",
      "[CV]  rf__n_estimators=19, rf__max_leaf_nodes=13, rf__max_features=28, score=-0.035, total=   0.7s\n",
      "[CV] rf__n_estimators=19, rf__max_leaf_nodes=13, rf__max_features=28 .\n",
      "[CV]  rf__n_estimators=19, rf__max_leaf_nodes=13, rf__max_features=28, score=-0.038, total=   0.7s\n",
      "[CV] rf__n_estimators=6, rf__max_leaf_nodes=9, rf__max_features=8 ....\n",
      "[CV]  rf__n_estimators=6, rf__max_leaf_nodes=9, rf__max_features=8, score=-0.040, total=   0.2s\n",
      "[CV] rf__n_estimators=6, rf__max_leaf_nodes=9, rf__max_features=8 ....\n",
      "[CV]  rf__n_estimators=6, rf__max_leaf_nodes=9, rf__max_features=8, score=-0.037, total=   0.2s\n",
      "[CV] rf__n_estimators=6, rf__max_leaf_nodes=9, rf__max_features=8 ....\n",
      "[CV]  rf__n_estimators=6, rf__max_leaf_nodes=9, rf__max_features=8, score=-0.041, total=   0.2s\n",
      "[CV] rf__n_estimators=5, rf__max_leaf_nodes=11, rf__max_features=23 ..\n",
      "[CV]  rf__n_estimators=5, rf__max_leaf_nodes=11, rf__max_features=23, score=-0.039, total=   0.3s\n",
      "[CV] rf__n_estimators=5, rf__max_leaf_nodes=11, rf__max_features=23 ..\n",
      "[CV]  rf__n_estimators=5, rf__max_leaf_nodes=11, rf__max_features=23, score=-0.035, total=   0.3s\n",
      "[CV] rf__n_estimators=5, rf__max_leaf_nodes=11, rf__max_features=23 ..\n",
      "[CV]  rf__n_estimators=5, rf__max_leaf_nodes=11, rf__max_features=23, score=-0.040, total=   0.3s\n",
      "[CV] rf__n_estimators=21, rf__max_leaf_nodes=15, rf__max_features=9 ..\n",
      "[CV]  rf__n_estimators=21, rf__max_leaf_nodes=15, rf__max_features=9, score=-0.038, total=   0.4s\n",
      "[CV] rf__n_estimators=21, rf__max_leaf_nodes=15, rf__max_features=9 ..\n",
      "[CV]  rf__n_estimators=21, rf__max_leaf_nodes=15, rf__max_features=9, score=-0.037, total=   0.4s\n",
      "[CV] rf__n_estimators=21, rf__max_leaf_nodes=15, rf__max_features=9 ..\n",
      "[CV]  rf__n_estimators=21, rf__max_leaf_nodes=15, rf__max_features=9, score=-0.038, total=   0.4s\n",
      "[CV] rf__n_estimators=24, rf__max_leaf_nodes=5, rf__max_features=22 ..\n",
      "[CV]  rf__n_estimators=24, rf__max_leaf_nodes=5, rf__max_features=22, score=-0.037, total=   0.6s\n",
      "[CV] rf__n_estimators=24, rf__max_leaf_nodes=5, rf__max_features=22 ..\n",
      "[CV]  rf__n_estimators=24, rf__max_leaf_nodes=5, rf__max_features=22, score=-0.037, total=   0.6s\n",
      "[CV] rf__n_estimators=24, rf__max_leaf_nodes=5, rf__max_features=22 ..\n",
      "[CV]  rf__n_estimators=24, rf__max_leaf_nodes=5, rf__max_features=22, score=-0.038, total=   0.5s\n",
      "[CV] rf__n_estimators=24, rf__max_leaf_nodes=10, rf__max_features=13 .\n",
      "[CV]  rf__n_estimators=24, rf__max_leaf_nodes=10, rf__max_features=13, score=-0.037, total=   0.5s\n",
      "[CV] rf__n_estimators=24, rf__max_leaf_nodes=10, rf__max_features=13 .\n",
      "[CV]  rf__n_estimators=24, rf__max_leaf_nodes=10, rf__max_features=13, score=-0.036, total=   0.5s\n",
      "[CV] rf__n_estimators=24, rf__max_leaf_nodes=10, rf__max_features=13 .\n",
      "[CV]  rf__n_estimators=24, rf__max_leaf_nodes=10, rf__max_features=13, score=-0.038, total=   0.5s\n",
      "[CV] rf__n_estimators=23, rf__max_leaf_nodes=14, rf__max_features=22 .\n",
      "[CV]  rf__n_estimators=23, rf__max_leaf_nodes=14, rf__max_features=22, score=-0.037, total=   0.7s\n",
      "[CV] rf__n_estimators=23, rf__max_leaf_nodes=14, rf__max_features=22 .\n",
      "[CV]  rf__n_estimators=23, rf__max_leaf_nodes=14, rf__max_features=22, score=-0.035, total=   0.7s\n",
      "[CV] rf__n_estimators=23, rf__max_leaf_nodes=14, rf__max_features=22 .\n",
      "[CV]  rf__n_estimators=23, rf__max_leaf_nodes=14, rf__max_features=22, score=-0.037, total=   0.7s\n",
      "[CV] rf__n_estimators=22, rf__max_leaf_nodes=3, rf__max_features=4 ...\n",
      "[CV]  rf__n_estimators=22, rf__max_leaf_nodes=3, rf__max_features=4, score=-0.038, total=   0.2s\n",
      "[CV] rf__n_estimators=22, rf__max_leaf_nodes=3, rf__max_features=4 ...\n",
      "[CV]  rf__n_estimators=22, rf__max_leaf_nodes=3, rf__max_features=4, score=-0.038, total=   0.2s\n",
      "[CV] rf__n_estimators=22, rf__max_leaf_nodes=3, rf__max_features=4 ...\n",
      "[CV]  rf__n_estimators=22, rf__max_leaf_nodes=3, rf__max_features=4, score=-0.040, total=   0.2s\n",
      "[CV] rf__n_estimators=21, rf__max_leaf_nodes=2, rf__max_features=28 ..\n",
      "[CV]  rf__n_estimators=21, rf__max_leaf_nodes=2, rf__max_features=28, score=-0.037, total=   0.4s\n",
      "[CV] rf__n_estimators=21, rf__max_leaf_nodes=2, rf__max_features=28 ..\n",
      "[CV]  rf__n_estimators=21, rf__max_leaf_nodes=2, rf__max_features=28, score=-0.036, total=   0.4s\n",
      "[CV] rf__n_estimators=21, rf__max_leaf_nodes=2, rf__max_features=28 ..\n",
      "[CV]  rf__n_estimators=21, rf__max_leaf_nodes=2, rf__max_features=28, score=-0.039, total=   0.4s\n",
      "[CV] rf__n_estimators=9, rf__max_leaf_nodes=4, rf__max_features=5 ....\n",
      "[CV]  rf__n_estimators=9, rf__max_leaf_nodes=4, rf__max_features=5, score=-0.039, total=   0.2s\n",
      "[CV] rf__n_estimators=9, rf__max_leaf_nodes=4, rf__max_features=5 ....\n",
      "[CV]  rf__n_estimators=9, rf__max_leaf_nodes=4, rf__max_features=5, score=-0.037, total=   0.2s\n",
      "[CV] rf__n_estimators=9, rf__max_leaf_nodes=4, rf__max_features=5 ....\n",
      "[CV]  rf__n_estimators=9, rf__max_leaf_nodes=4, rf__max_features=5, score=-0.039, total=   0.2s\n",
      "[CV] rf__n_estimators=18, rf__max_leaf_nodes=14, rf__max_features=3 ..\n",
      "[CV]  rf__n_estimators=18, rf__max_leaf_nodes=14, rf__max_features=3, score=-0.038, total=   0.4s\n",
      "[CV] rf__n_estimators=18, rf__max_leaf_nodes=14, rf__max_features=3 ..\n",
      "[CV]  rf__n_estimators=18, rf__max_leaf_nodes=14, rf__max_features=3, score=-0.038, total=   0.2s\n",
      "[CV] rf__n_estimators=18, rf__max_leaf_nodes=14, rf__max_features=3 ..\n",
      "[CV]  rf__n_estimators=18, rf__max_leaf_nodes=14, rf__max_features=3, score=-0.039, total=   0.2s\n",
      "[CV] rf__n_estimators=1, rf__max_leaf_nodes=4, rf__max_features=1 ....\n",
      "[CV]  rf__n_estimators=1, rf__max_leaf_nodes=4, rf__max_features=1, score=-0.039, total=   0.2s\n",
      "[CV] rf__n_estimators=1, rf__max_leaf_nodes=4, rf__max_features=1 ....\n",
      "[CV]  rf__n_estimators=1, rf__max_leaf_nodes=4, rf__max_features=1, score=-0.039, total=   0.2s\n",
      "[CV] rf__n_estimators=1, rf__max_leaf_nodes=4, rf__max_features=1 ....\n",
      "[CV]  rf__n_estimators=1, rf__max_leaf_nodes=4, rf__max_features=1, score=-0.040, total=   0.2s\n",
      "[CV] rf__n_estimators=15, rf__max_leaf_nodes=13, rf__max_features=13 .\n",
      "[CV]  rf__n_estimators=15, rf__max_leaf_nodes=13, rf__max_features=13, score=-0.038, total=   0.4s\n",
      "[CV] rf__n_estimators=15, rf__max_leaf_nodes=13, rf__max_features=13 .\n",
      "[CV]  rf__n_estimators=15, rf__max_leaf_nodes=13, rf__max_features=13, score=-0.036, total=   0.4s\n",
      "[CV] rf__n_estimators=15, rf__max_leaf_nodes=13, rf__max_features=13 .\n",
      "[CV]  rf__n_estimators=15, rf__max_leaf_nodes=13, rf__max_features=13, score=-0.039, total=   0.4s\n",
      "[CV] rf__n_estimators=2, rf__max_leaf_nodes=12, rf__max_features=8 ...\n",
      "[CV]  rf__n_estimators=2, rf__max_leaf_nodes=12, rf__max_features=8, score=-0.041, total=   0.2s\n",
      "[CV] rf__n_estimators=2, rf__max_leaf_nodes=12, rf__max_features=8 ...\n",
      "[CV]  rf__n_estimators=2, rf__max_leaf_nodes=12, rf__max_features=8, score=-0.040, total=   0.2s\n",
      "[CV] rf__n_estimators=2, rf__max_leaf_nodes=12, rf__max_features=8 ...\n",
      "[CV]  rf__n_estimators=2, rf__max_leaf_nodes=12, rf__max_features=8, score=-0.041, total=   0.3s\n",
      "[CV] rf__n_estimators=2, rf__max_leaf_nodes=8, rf__max_features=16 ...\n",
      "[CV]  rf__n_estimators=2, rf__max_leaf_nodes=8, rf__max_features=16, score=-0.041, total=   0.2s\n",
      "[CV] rf__n_estimators=2, rf__max_leaf_nodes=8, rf__max_features=16 ...\n",
      "[CV]  rf__n_estimators=2, rf__max_leaf_nodes=8, rf__max_features=16, score=-0.036, total=   0.2s\n",
      "[CV] rf__n_estimators=2, rf__max_leaf_nodes=8, rf__max_features=16 ...\n",
      "[CV]  rf__n_estimators=2, rf__max_leaf_nodes=8, rf__max_features=16, score=-0.039, total=   0.2s\n",
      "[CV] rf__n_estimators=3, rf__max_leaf_nodes=7, rf__max_features=20 ...\n",
      "[CV]  rf__n_estimators=3, rf__max_leaf_nodes=7, rf__max_features=20, score=-0.038, total=   0.3s\n",
      "[CV] rf__n_estimators=3, rf__max_leaf_nodes=7, rf__max_features=20 ...\n",
      "[CV]  rf__n_estimators=3, rf__max_leaf_nodes=7, rf__max_features=20, score=-0.038, total=   0.2s\n",
      "[CV] rf__n_estimators=3, rf__max_leaf_nodes=7, rf__max_features=20 ...\n",
      "[CV]  rf__n_estimators=3, rf__max_leaf_nodes=7, rf__max_features=20, score=-0.039, total=   0.3s\n",
      "[CV] rf__n_estimators=2, rf__max_leaf_nodes=4, rf__max_features=5 ....\n",
      "[CV]  rf__n_estimators=2, rf__max_leaf_nodes=4, rf__max_features=5, score=-0.040, total=   0.2s\n",
      "[CV] rf__n_estimators=2, rf__max_leaf_nodes=4, rf__max_features=5 ....\n",
      "[CV]  rf__n_estimators=2, rf__max_leaf_nodes=4, rf__max_features=5, score=-0.038, total=   0.2s\n",
      "[CV] rf__n_estimators=2, rf__max_leaf_nodes=4, rf__max_features=5 ....\n",
      "[CV]  rf__n_estimators=2, rf__max_leaf_nodes=4, rf__max_features=5, score=-0.040, total=   0.2s\n",
      "[CV] rf__n_estimators=12, rf__max_leaf_nodes=11, rf__max_features=4 ..\n",
      "[CV]  rf__n_estimators=12, rf__max_leaf_nodes=11, rf__max_features=4, score=-0.039, total=   0.4s\n",
      "[CV] rf__n_estimators=12, rf__max_leaf_nodes=11, rf__max_features=4 ..\n",
      "[CV]  rf__n_estimators=12, rf__max_leaf_nodes=11, rf__max_features=4, score=-0.037, total=   0.3s\n",
      "[CV] rf__n_estimators=12, rf__max_leaf_nodes=11, rf__max_features=4 ..\n",
      "[CV]  rf__n_estimators=12, rf__max_leaf_nodes=11, rf__max_features=4, score=-0.039, total=   0.3s\n",
      "[CV] rf__n_estimators=1, rf__max_leaf_nodes=9, rf__max_features=18 ...\n",
      "[CV]  rf__n_estimators=1, rf__max_leaf_nodes=9, rf__max_features=18, score=-0.041, total=   0.2s\n",
      "[CV] rf__n_estimators=1, rf__max_leaf_nodes=9, rf__max_features=18 ...\n",
      "[CV]  rf__n_estimators=1, rf__max_leaf_nodes=9, rf__max_features=18, score=-0.039, total=   0.2s\n",
      "[CV] rf__n_estimators=1, rf__max_leaf_nodes=9, rf__max_features=18 ...\n",
      "[CV]  rf__n_estimators=1, rf__max_leaf_nodes=9, rf__max_features=18, score=-0.044, total=   0.2s\n",
      "[CV] rf__n_estimators=2, rf__max_leaf_nodes=17, rf__max_features=26 ..\n",
      "[CV]  rf__n_estimators=2, rf__max_leaf_nodes=17, rf__max_features=26, score=-0.040, total=   0.2s\n",
      "[CV] rf__n_estimators=2, rf__max_leaf_nodes=17, rf__max_features=26 ..\n",
      "[CV]  rf__n_estimators=2, rf__max_leaf_nodes=17, rf__max_features=26, score=-0.036, total=   0.2s\n",
      "[CV] rf__n_estimators=2, rf__max_leaf_nodes=17, rf__max_features=26 ..\n",
      "[CV]  rf__n_estimators=2, rf__max_leaf_nodes=17, rf__max_features=26, score=-0.040, total=   0.2s\n",
      "[CV] rf__n_estimators=6, rf__max_leaf_nodes=3, rf__max_features=17 ...\n",
      "[CV]  rf__n_estimators=6, rf__max_leaf_nodes=3, rf__max_features=17, score=-0.038, total=   0.2s\n",
      "[CV] rf__n_estimators=6, rf__max_leaf_nodes=3, rf__max_features=17 ...\n",
      "[CV]  rf__n_estimators=6, rf__max_leaf_nodes=3, rf__max_features=17, score=-0.038, total=   0.2s\n",
      "[CV] rf__n_estimators=6, rf__max_leaf_nodes=3, rf__max_features=17 ...\n",
      "[CV]  rf__n_estimators=6, rf__max_leaf_nodes=3, rf__max_features=17, score=-0.039, total=   0.2s\n",
      "[CV] rf__n_estimators=11, rf__max_leaf_nodes=15, rf__max_features=7 ..\n",
      "[CV]  rf__n_estimators=11, rf__max_leaf_nodes=15, rf__max_features=7, score=-0.039, total=   0.3s\n",
      "[CV] rf__n_estimators=11, rf__max_leaf_nodes=15, rf__max_features=7 ..\n",
      "[CV]  rf__n_estimators=11, rf__max_leaf_nodes=15, rf__max_features=7, score=-0.035, total=   0.3s\n",
      "[CV] rf__n_estimators=11, rf__max_leaf_nodes=15, rf__max_features=7 ..\n",
      "[CV]  rf__n_estimators=11, rf__max_leaf_nodes=15, rf__max_features=7, score=-0.040, total=   0.3s\n",
      "[CV] rf__n_estimators=12, rf__max_leaf_nodes=3, rf__max_features=24 ..\n",
      "[CV]  rf__n_estimators=12, rf__max_leaf_nodes=3, rf__max_features=24, score=-0.038, total=   0.3s\n",
      "[CV] rf__n_estimators=12, rf__max_leaf_nodes=3, rf__max_features=24 ..\n",
      "[CV]  rf__n_estimators=12, rf__max_leaf_nodes=3, rf__max_features=24, score=-0.036, total=   0.3s\n",
      "[CV] rf__n_estimators=12, rf__max_leaf_nodes=3, rf__max_features=24 ..\n",
      "[CV]  rf__n_estimators=12, rf__max_leaf_nodes=3, rf__max_features=24, score=-0.040, total=   0.3s\n",
      "[CV] rf__n_estimators=16, rf__max_leaf_nodes=17, rf__max_features=4 ..\n",
      "[CV]  rf__n_estimators=16, rf__max_leaf_nodes=17, rf__max_features=4, score=-0.038, total=   0.2s\n",
      "[CV] rf__n_estimators=16, rf__max_leaf_nodes=17, rf__max_features=4 ..\n",
      "[CV]  rf__n_estimators=16, rf__max_leaf_nodes=17, rf__max_features=4, score=-0.038, total=   0.2s\n",
      "[CV] rf__n_estimators=16, rf__max_leaf_nodes=17, rf__max_features=4 ..\n",
      "[CV]  rf__n_estimators=16, rf__max_leaf_nodes=17, rf__max_features=4, score=-0.040, total=   0.2s\n",
      "[CV] rf__n_estimators=7, rf__max_leaf_nodes=16, rf__max_features=3 ...\n",
      "[CV]  rf__n_estimators=7, rf__max_leaf_nodes=16, rf__max_features=3, score=-0.038, total=   0.2s\n",
      "[CV] rf__n_estimators=7, rf__max_leaf_nodes=16, rf__max_features=3 ...\n",
      "[CV]  rf__n_estimators=7, rf__max_leaf_nodes=16, rf__max_features=3, score=-0.036, total=   0.2s\n",
      "[CV] rf__n_estimators=7, rf__max_leaf_nodes=16, rf__max_features=3 ...\n",
      "[CV]  rf__n_estimators=7, rf__max_leaf_nodes=16, rf__max_features=3, score=-0.040, total=   0.2s\n",
      "[CV] rf__n_estimators=3, rf__max_leaf_nodes=10, rf__max_features=4 ...\n",
      "[CV]  rf__n_estimators=3, rf__max_leaf_nodes=10, rf__max_features=4, score=-0.040, total=   0.2s\n",
      "[CV] rf__n_estimators=3, rf__max_leaf_nodes=10, rf__max_features=4 ...\n",
      "[CV]  rf__n_estimators=3, rf__max_leaf_nodes=10, rf__max_features=4, score=-0.039, total=   0.2s\n",
      "[CV] rf__n_estimators=3, rf__max_leaf_nodes=10, rf__max_features=4 ...\n",
      "[CV]  rf__n_estimators=3, rf__max_leaf_nodes=10, rf__max_features=4, score=-0.041, total=   0.2s\n",
      "[CV] rf__n_estimators=11, rf__max_leaf_nodes=10, rf__max_features=1 ..\n",
      "[CV]  rf__n_estimators=11, rf__max_leaf_nodes=10, rf__max_features=1, score=-0.039, total=   0.2s\n",
      "[CV] rf__n_estimators=11, rf__max_leaf_nodes=10, rf__max_features=1 ..\n",
      "[CV]  rf__n_estimators=11, rf__max_leaf_nodes=10, rf__max_features=1, score=-0.038, total=   0.2s\n",
      "[CV] rf__n_estimators=11, rf__max_leaf_nodes=10, rf__max_features=1 ..\n",
      "[CV]  rf__n_estimators=11, rf__max_leaf_nodes=10, rf__max_features=1, score=-0.040, total=   0.2s\n",
      "[CV] rf__n_estimators=20, rf__max_leaf_nodes=8, rf__max_features=25 ..\n",
      "[CV]  rf__n_estimators=20, rf__max_leaf_nodes=8, rf__max_features=25, score=-0.037, total=   0.7s\n",
      "[CV] rf__n_estimators=20, rf__max_leaf_nodes=8, rf__max_features=25 ..\n",
      "[CV]  rf__n_estimators=20, rf__max_leaf_nodes=8, rf__max_features=25, score=-0.035, total=   0.7s\n",
      "[CV] rf__n_estimators=20, rf__max_leaf_nodes=8, rf__max_features=25 ..\n",
      "[CV]  rf__n_estimators=20, rf__max_leaf_nodes=8, rf__max_features=25, score=-0.037, total=   0.7s\n",
      "[CV] rf__n_estimators=8, rf__max_leaf_nodes=8, rf__max_features=3 ....\n",
      "[CV]  rf__n_estimators=8, rf__max_leaf_nodes=8, rf__max_features=3, score=-0.039, total=   0.2s\n",
      "[CV] rf__n_estimators=8, rf__max_leaf_nodes=8, rf__max_features=3 ....\n",
      "[CV]  rf__n_estimators=8, rf__max_leaf_nodes=8, rf__max_features=3, score=-0.037, total=   0.2s\n",
      "[CV] rf__n_estimators=8, rf__max_leaf_nodes=8, rf__max_features=3 ....\n",
      "[CV]  rf__n_estimators=8, rf__max_leaf_nodes=8, rf__max_features=3, score=-0.041, total=   0.2s\n",
      "[CV] rf__n_estimators=8, rf__max_leaf_nodes=15, rf__max_features=7 ...\n",
      "[CV]  rf__n_estimators=8, rf__max_leaf_nodes=15, rf__max_features=7, score=-0.039, total=   0.3s\n",
      "[CV] rf__n_estimators=8, rf__max_leaf_nodes=15, rf__max_features=7 ...\n",
      "[CV]  rf__n_estimators=8, rf__max_leaf_nodes=15, rf__max_features=7, score=-0.036, total=   0.3s\n",
      "[CV] rf__n_estimators=8, rf__max_leaf_nodes=15, rf__max_features=7 ...\n",
      "[CV]  rf__n_estimators=8, rf__max_leaf_nodes=15, rf__max_features=7, score=-0.039, total=   0.3s\n",
      "[CV] rf__n_estimators=15, rf__max_leaf_nodes=7, rf__max_features=9 ...\n",
      "[CV]  rf__n_estimators=15, rf__max_leaf_nodes=7, rf__max_features=9, score=-0.037, total=   0.4s\n",
      "[CV] rf__n_estimators=15, rf__max_leaf_nodes=7, rf__max_features=9 ...\n",
      "[CV]  rf__n_estimators=15, rf__max_leaf_nodes=7, rf__max_features=9, score=-0.036, total=   0.3s\n",
      "[CV] rf__n_estimators=15, rf__max_leaf_nodes=7, rf__max_features=9 ...\n",
      "[CV]  rf__n_estimators=15, rf__max_leaf_nodes=7, rf__max_features=9, score=-0.038, total=   0.3s\n",
      "[CV] rf__n_estimators=24, rf__max_leaf_nodes=15, rf__max_features=5 ..\n",
      "[CV]  rf__n_estimators=24, rf__max_leaf_nodes=15, rf__max_features=5, score=-0.038, total=   0.4s\n",
      "[CV] rf__n_estimators=24, rf__max_leaf_nodes=15, rf__max_features=5 ..\n",
      "[CV]  rf__n_estimators=24, rf__max_leaf_nodes=15, rf__max_features=5, score=-0.037, total=   0.4s\n",
      "[CV] rf__n_estimators=24, rf__max_leaf_nodes=15, rf__max_features=5 ..\n",
      "[CV]  rf__n_estimators=24, rf__max_leaf_nodes=15, rf__max_features=5, score=-0.039, total=   0.4s\n",
      "[CV] rf__n_estimators=5, rf__max_leaf_nodes=12, rf__max_features=6 ...\n",
      "[CV]  rf__n_estimators=5, rf__max_leaf_nodes=12, rf__max_features=6, score=-0.040, total=   0.2s\n",
      "[CV] rf__n_estimators=5, rf__max_leaf_nodes=12, rf__max_features=6 ...\n",
      "[CV]  rf__n_estimators=5, rf__max_leaf_nodes=12, rf__max_features=6, score=-0.034, total=   0.2s\n",
      "[CV] rf__n_estimators=5, rf__max_leaf_nodes=12, rf__max_features=6 ...\n",
      "[CV]  rf__n_estimators=5, rf__max_leaf_nodes=12, rf__max_features=6, score=-0.038, total=   0.2s\n",
      "[CV] rf__n_estimators=2, rf__max_leaf_nodes=8, rf__max_features=29 ...\n",
      "[CV]  rf__n_estimators=2, rf__max_leaf_nodes=8, rf__max_features=29, score=-0.040, total=   0.2s\n",
      "[CV] rf__n_estimators=2, rf__max_leaf_nodes=8, rf__max_features=29 ...\n",
      "[CV]  rf__n_estimators=2, rf__max_leaf_nodes=8, rf__max_features=29, score=-0.039, total=   0.2s\n",
      "[CV] rf__n_estimators=2, rf__max_leaf_nodes=8, rf__max_features=29 ...\n",
      "[CV]  rf__n_estimators=2, rf__max_leaf_nodes=8, rf__max_features=29, score=-0.040, total=   0.2s\n",
      "[CV] rf__n_estimators=13, rf__max_leaf_nodes=6, rf__max_features=22 ..\n",
      "[CV]  rf__n_estimators=13, rf__max_leaf_nodes=6, rf__max_features=22, score=-0.037, total=   0.4s\n",
      "[CV] rf__n_estimators=13, rf__max_leaf_nodes=6, rf__max_features=22 ..\n",
      "[CV]  rf__n_estimators=13, rf__max_leaf_nodes=6, rf__max_features=22, score=-0.035, total=   0.4s\n",
      "[CV] rf__n_estimators=13, rf__max_leaf_nodes=6, rf__max_features=22 ..\n",
      "[CV]  rf__n_estimators=13, rf__max_leaf_nodes=6, rf__max_features=22, score=-0.038, total=   0.3s\n",
      "[CV] rf__n_estimators=3, rf__max_leaf_nodes=6, rf__max_features=27 ...\n",
      "[CV]  rf__n_estimators=3, rf__max_leaf_nodes=6, rf__max_features=27, score=-0.038, total=   0.2s\n",
      "[CV] rf__n_estimators=3, rf__max_leaf_nodes=6, rf__max_features=27 ...\n",
      "[CV]  rf__n_estimators=3, rf__max_leaf_nodes=6, rf__max_features=27, score=-0.035, total=   0.2s\n",
      "[CV] rf__n_estimators=3, rf__max_leaf_nodes=6, rf__max_features=27 ...\n",
      "[CV]  rf__n_estimators=3, rf__max_leaf_nodes=6, rf__max_features=27, score=-0.038, total=   0.2s\n"
     ]
    },
    {
     "name": "stderr",
     "output_type": "stream",
     "text": [
      "[Parallel(n_jobs=1)]: Done 300 out of 300 | elapsed:  1.7min finished\n"
     ]
    },
    {
     "data": {
      "text/plain": [
       "RandomizedSearchCV(cv=3,\n",
       "                   estimator=Pipeline(steps=[('preprocessor',\n",
       "                                              ColumnTransformer(transformers=[('num',\n",
       "                                                                               Pipeline(steps=[('imputer',\n",
       "                                                                                                SimpleImputer(fill_value=-999,\n",
       "                                                                                                              strategy='constant'))]),\n",
       "                                                                               ['crime_burglary',\n",
       "                                                                                'crime_risk',\n",
       "                                                                                'Norm_fire_risk',\n",
       "                                                                                'crime_arson',\n",
       "                                                                                'Weather_risk',\n",
       "                                                                                'Geographical_risk',\n",
       "                                                                                'Premium_remain',\n",
       "                                                                                'crime_property_type',\n",
       "                                                                                'crime_neighbour_watch',\n",
       "                                                                                'Pre...\n",
       "                                              RandomForestRegressor(criterion='mae'))]),\n",
       "                   n_iter=100,\n",
       "                   param_distributions={'rf__max_features': [1, 2, 3, 4, 5, 6,\n",
       "                                                             7, 8, 9, 10, 11,\n",
       "                                                             12, 13, 14, 15, 16,\n",
       "                                                             17, 18, 19, 20, 21,\n",
       "                                                             22, 23, 24, 25, 26,\n",
       "                                                             27, 28, 29],\n",
       "                                        'rf__max_leaf_nodes': [2, 3, 4, 5, 6, 7,\n",
       "                                                               8, 9, 10, 11, 12,\n",
       "                                                               13, 14, 15, 16,\n",
       "                                                               17, 18, 19],\n",
       "                                        'rf__n_estimators': [1, 2, 3, 4, 5, 6,\n",
       "                                                             7, 8, 9, 10, 11,\n",
       "                                                             12, 13, 14, 15, 16,\n",
       "                                                             17, 18, 19, 20, 21,\n",
       "                                                             22, 23, 24]},\n",
       "                   scoring='neg_mean_absolute_error', verbose=10)"
      ]
     },
     "execution_count": 379,
     "metadata": {},
     "output_type": "execute_result"
    }
   ],
   "source": [
    "gs_rf = RandomizedSearchCV(estimator=est_rf, param_distributions={'rf__max_leaf_nodes': [i for i in range(2,20)],\n",
    "                                                   'rf__n_estimators': [i for i in range(1,25)],\n",
    "                                                   'rf__max_features': [i for i in range(1,30)],\n",
    "                                               }, \n",
    "                  n_iter = 100,\n",
    "                  scoring='neg_mean_absolute_error', cv=3, refit=True, verbose=10)\n",
    "\n",
    "gs_rf.fit(X_train, y_train)"
   ]
  },
  {
   "cell_type": "code",
   "execution_count": 380,
   "metadata": {},
   "outputs": [
    {
     "name": "stdout",
     "output_type": "stream",
     "text": [
      "best params: {'rf__n_estimators': 15, 'rf__max_leaf_nodes': 16, 'rf__max_features': 24}\n",
      "best score: -0.036248601280754966\n",
      "model score mae: 0.038\n",
      "model r2 score : 0.170\n"
     ]
    }
   ],
   "source": [
    "print(\"best params: {}\".format(gs_rf.best_params_))\n",
    "print(\"best score: {}\".format(gs_rf.best_score_))\n",
    "print(\"model score mae: %.3f\" % mean_absolute_error(y_test, gs_rf.best_estimator_.predict(X_test)))\n",
    "print(\"model r2 score : %.3f\" % r2_score(y_test, gs_rf.best_estimator_.predict(X_test)))"
   ]
  },
  {
   "cell_type": "code",
   "execution_count": 381,
   "metadata": {},
   "outputs": [
    {
     "data": {
      "text/plain": [
       "<matplotlib.collections.PathCollection at 0x7f3ec987d550>"
      ]
     },
     "execution_count": 381,
     "metadata": {},
     "output_type": "execute_result"
    },
    {
     "data": {
      "image/png": "[encoded data removed]",
      "text/plain": [
       "<Figure size 432x288 with 1 Axes>"
      ]
     },
     "metadata": {
      "needs_background": "light"
     },
     "output_type": "display_data"
    }
   ],
   "source": [
    "plt.scatter(y_test, gs_rf.best_estimator_.predict(X_test))\n",
    "plt.scatter(y_train, gs_rf.best_estimator_.predict(X_train))"
   ]
  },
  {
   "cell_type": "markdown",
   "metadata": {},
   "source": [
    "#### The random forest pipeline has slightly better results by mae, but almost twice better R2."
   ]
  },
  {
   "cell_type": "code",
   "execution_count": null,
   "metadata": {},
   "outputs": [],
   "source": []
  }
 ],
 "metadata": {
  "kernelspec": {
   "display_name": "Python 3",
   "language": "python",
   "name": "python3"
  },
  "language_info": {
   "codemirror_mode": {
    "name": "ipython",
    "version": 3
   },
   "file_extension": ".py",
   "mimetype": "text/x-python",
   "name": "python",
   "nbconvert_exporter": "python",
   "pygments_lexer": "ipython3",
   "version": "3.8.2"
  }
 },
 "nbformat": 4,
 "nbformat_minor": 4
}
